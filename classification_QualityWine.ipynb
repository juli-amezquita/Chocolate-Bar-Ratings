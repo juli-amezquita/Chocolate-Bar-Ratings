{
 "cells": [
  {
   "cell_type": "markdown",
   "metadata": {
    "id": "Doq4DokV9peA"
   },
   "source": [
    "Presentado por: Juliana Andrea Amézquita Abello\n",
    "\n",
    "# Quality Red Wine\n",
    "\n",
    "Datos tomados de <a href='https://archive.ics.uci.edu/ml/datasets/wine+quality'>UCI Machine Learning Repository</a>\n",
    "\n",
    "Referencia: \n",
    "P. Cortez, A. Cerdeira, F. Almeida, T. Matos and J. Reis.\n",
    "Modeling wine preferences by data mining from physicochemical properties. In Decision Support Systems, Elsevier, 47(4):547-553, 2009.\n",
    "\n",
    "\n"
   ]
  },
  {
   "cell_type": "markdown",
   "metadata": {
    "id": "U0bvjODMIAdl"
   },
   "source": [
    "# Contexto\n",
    "\n",
    "El conjunto de datos está relacionado con variantes rojas del vino Portugués \"Vinho Verde\". El dataset contiene diferentes muestras de vinos cada uno registra atributos fisicoquímicos como el PH, la cantidad de alcohol, etc. Basado en esas características el dataset contiene una clasificación de calidad.\n"
   ]
  },
  {
   "cell_type": "markdown",
   "metadata": {
    "id": "B6NaUAp1I-Ys"
   },
   "source": [
    "# Objetivo\n",
    "\n",
    "El conjunto de datos está relacionado con variantes rojas del vino Portugués \"Vinho Verde\". El dataset contiene diferentes muestras de vinos cada uno registra atributos fisicoquímicos con los que se obtiene una calificación de calidad del vino. El objetivo de este apartado será mediante un modelo de aprendizaje supervisado predecir la calidad de los vinos basado en sus atributos. Para resolver esta cuestión se utilizará un modelo de red neuronal y un modelo de ensemble learning."
   ]
  },
  {
   "cell_type": "code",
   "execution_count": 1,
   "metadata": {
    "executionInfo": {
     "elapsed": 375,
     "status": "ok",
     "timestamp": 1644175559980,
     "user": {
      "displayName": "Juliana Amézquita",
      "photoUrl": "https://lh3.googleusercontent.com/a/default-user=s64",
      "userId": "14631385668180993508"
     },
     "user_tz": 300
    },
    "id": "xgZnwSe1lnFT"
   },
   "outputs": [],
   "source": [
    "# Se importan las librerias a utilizar\n",
    "import numpy as np\n",
    "import matplotlib.pyplot as plt\n",
    "%matplotlib inline\n",
    "import pandas as pd\n",
    "import seaborn as sns\n",
    "sns.set()"
   ]
  },
  {
   "cell_type": "markdown",
   "metadata": {
    "id": "8RlX8A5qCooM"
   },
   "source": [
    "# Análisis Exploratorio de Datos\n",
    "\n"
   ]
  },
  {
   "cell_type": "markdown",
   "metadata": {
    "id": "bewUkd8ECzgC"
   },
   "source": [
    "## Carga de Datos"
   ]
  },
  {
   "cell_type": "code",
   "execution_count": 2,
   "metadata": {
    "colab": {
     "base_uri": "https://localhost:8080/",
     "height": 305
    },
    "executionInfo": {
     "elapsed": 2952,
     "status": "ok",
     "timestamp": 1644175563277,
     "user": {
      "displayName": "Juliana Amézquita",
      "photoUrl": "https://lh3.googleusercontent.com/a/default-user=s64",
      "userId": "14631385668180993508"
     },
     "user_tz": 300
    },
    "id": "BYQlgUDHBTwg",
    "outputId": "4d122f14-20f3-41e8-d978-861afecdf342"
   },
   "outputs": [
    {
     "data": {
      "text/html": [
       "\n",
       "  <div id=\"df-7baa8568-a167-490f-a558-2a70c1220305\">\n",
       "    <div class=\"colab-df-container\">\n",
       "      <div>\n",
       "<style scoped>\n",
       "    .dataframe tbody tr th:only-of-type {\n",
       "        vertical-align: middle;\n",
       "    }\n",
       "\n",
       "    .dataframe tbody tr th {\n",
       "        vertical-align: top;\n",
       "    }\n",
       "\n",
       "    .dataframe thead th {\n",
       "        text-align: right;\n",
       "    }\n",
       "</style>\n",
       "<table border=\"1\" class=\"dataframe\">\n",
       "  <thead>\n",
       "    <tr style=\"text-align: right;\">\n",
       "      <th></th>\n",
       "      <th>fixed acidity</th>\n",
       "      <th>volatile acidity</th>\n",
       "      <th>citric acid</th>\n",
       "      <th>residual sugar</th>\n",
       "      <th>chlorides</th>\n",
       "      <th>free sulfur dioxide</th>\n",
       "      <th>total sulfur dioxide</th>\n",
       "      <th>density</th>\n",
       "      <th>pH</th>\n",
       "      <th>sulphates</th>\n",
       "      <th>alcohol</th>\n",
       "      <th>quality</th>\n",
       "    </tr>\n",
       "  </thead>\n",
       "  <tbody>\n",
       "    <tr>\n",
       "      <th>0</th>\n",
       "      <td>7.4</td>\n",
       "      <td>0.70</td>\n",
       "      <td>0.00</td>\n",
       "      <td>1.9</td>\n",
       "      <td>0.076</td>\n",
       "      <td>11.0</td>\n",
       "      <td>34.0</td>\n",
       "      <td>0.9978</td>\n",
       "      <td>3.51</td>\n",
       "      <td>0.56</td>\n",
       "      <td>9.4</td>\n",
       "      <td>5</td>\n",
       "    </tr>\n",
       "    <tr>\n",
       "      <th>1</th>\n",
       "      <td>7.8</td>\n",
       "      <td>0.88</td>\n",
       "      <td>0.00</td>\n",
       "      <td>2.6</td>\n",
       "      <td>0.098</td>\n",
       "      <td>25.0</td>\n",
       "      <td>67.0</td>\n",
       "      <td>0.9968</td>\n",
       "      <td>3.20</td>\n",
       "      <td>0.68</td>\n",
       "      <td>9.8</td>\n",
       "      <td>5</td>\n",
       "    </tr>\n",
       "    <tr>\n",
       "      <th>2</th>\n",
       "      <td>7.8</td>\n",
       "      <td>0.76</td>\n",
       "      <td>0.04</td>\n",
       "      <td>2.3</td>\n",
       "      <td>0.092</td>\n",
       "      <td>15.0</td>\n",
       "      <td>54.0</td>\n",
       "      <td>0.9970</td>\n",
       "      <td>3.26</td>\n",
       "      <td>0.65</td>\n",
       "      <td>9.8</td>\n",
       "      <td>5</td>\n",
       "    </tr>\n",
       "    <tr>\n",
       "      <th>3</th>\n",
       "      <td>11.2</td>\n",
       "      <td>0.28</td>\n",
       "      <td>0.56</td>\n",
       "      <td>1.9</td>\n",
       "      <td>0.075</td>\n",
       "      <td>17.0</td>\n",
       "      <td>60.0</td>\n",
       "      <td>0.9980</td>\n",
       "      <td>3.16</td>\n",
       "      <td>0.58</td>\n",
       "      <td>9.8</td>\n",
       "      <td>6</td>\n",
       "    </tr>\n",
       "    <tr>\n",
       "      <th>4</th>\n",
       "      <td>7.4</td>\n",
       "      <td>0.70</td>\n",
       "      <td>0.00</td>\n",
       "      <td>1.9</td>\n",
       "      <td>0.076</td>\n",
       "      <td>11.0</td>\n",
       "      <td>34.0</td>\n",
       "      <td>0.9978</td>\n",
       "      <td>3.51</td>\n",
       "      <td>0.56</td>\n",
       "      <td>9.4</td>\n",
       "      <td>5</td>\n",
       "    </tr>\n",
       "  </tbody>\n",
       "</table>\n",
       "</div>\n",
       "      <button class=\"colab-df-convert\" onclick=\"convertToInteractive('df-7baa8568-a167-490f-a558-2a70c1220305')\"\n",
       "              title=\"Convert this dataframe to an interactive table.\"\n",
       "              style=\"display:none;\">\n",
       "        \n",
       "  <svg xmlns=\"http://www.w3.org/2000/svg\" height=\"24px\"viewBox=\"0 0 24 24\"\n",
       "       width=\"24px\">\n",
       "    <path d=\"M0 0h24v24H0V0z\" fill=\"none\"/>\n",
       "    <path d=\"M18.56 5.44l.94 2.06.94-2.06 2.06-.94-2.06-.94-.94-2.06-.94 2.06-2.06.94zm-11 1L8.5 8.5l.94-2.06 2.06-.94-2.06-.94L8.5 2.5l-.94 2.06-2.06.94zm10 10l.94 2.06.94-2.06 2.06-.94-2.06-.94-.94-2.06-.94 2.06-2.06.94z\"/><path d=\"M17.41 7.96l-1.37-1.37c-.4-.4-.92-.59-1.43-.59-.52 0-1.04.2-1.43.59L10.3 9.45l-7.72 7.72c-.78.78-.78 2.05 0 2.83L4 21.41c.39.39.9.59 1.41.59.51 0 1.02-.2 1.41-.59l7.78-7.78 2.81-2.81c.8-.78.8-2.07 0-2.86zM5.41 20L4 18.59l7.72-7.72 1.47 1.35L5.41 20z\"/>\n",
       "  </svg>\n",
       "      </button>\n",
       "      \n",
       "  <style>\n",
       "    .colab-df-container {\n",
       "      display:flex;\n",
       "      flex-wrap:wrap;\n",
       "      gap: 12px;\n",
       "    }\n",
       "\n",
       "    .colab-df-convert {\n",
       "      background-color: #E8F0FE;\n",
       "      border: none;\n",
       "      border-radius: 50%;\n",
       "      cursor: pointer;\n",
       "      display: none;\n",
       "      fill: #1967D2;\n",
       "      height: 32px;\n",
       "      padding: 0 0 0 0;\n",
       "      width: 32px;\n",
       "    }\n",
       "\n",
       "    .colab-df-convert:hover {\n",
       "      background-color: #E2EBFA;\n",
       "      box-shadow: 0px 1px 2px rgba(60, 64, 67, 0.3), 0px 1px 3px 1px rgba(60, 64, 67, 0.15);\n",
       "      fill: #174EA6;\n",
       "    }\n",
       "\n",
       "    [theme=dark] .colab-df-convert {\n",
       "      background-color: #3B4455;\n",
       "      fill: #D2E3FC;\n",
       "    }\n",
       "\n",
       "    [theme=dark] .colab-df-convert:hover {\n",
       "      background-color: #434B5C;\n",
       "      box-shadow: 0px 1px 3px 1px rgba(0, 0, 0, 0.15);\n",
       "      filter: drop-shadow(0px 1px 2px rgba(0, 0, 0, 0.3));\n",
       "      fill: #FFFFFF;\n",
       "    }\n",
       "  </style>\n",
       "\n",
       "      <script>\n",
       "        const buttonEl =\n",
       "          document.querySelector('#df-7baa8568-a167-490f-a558-2a70c1220305 button.colab-df-convert');\n",
       "        buttonEl.style.display =\n",
       "          google.colab.kernel.accessAllowed ? 'block' : 'none';\n",
       "\n",
       "        async function convertToInteractive(key) {\n",
       "          const element = document.querySelector('#df-7baa8568-a167-490f-a558-2a70c1220305');\n",
       "          const dataTable =\n",
       "            await google.colab.kernel.invokeFunction('convertToInteractive',\n",
       "                                                     [key], {});\n",
       "          if (!dataTable) return;\n",
       "\n",
       "          const docLinkHtml = 'Like what you see? Visit the ' +\n",
       "            '<a target=\"_blank\" href=https://colab.research.google.com/notebooks/data_table.ipynb>data table notebook</a>'\n",
       "            + ' to learn more about interactive tables.';\n",
       "          element.innerHTML = '';\n",
       "          dataTable['output_type'] = 'display_data';\n",
       "          await google.colab.output.renderOutput(dataTable, element);\n",
       "          const docLink = document.createElement('div');\n",
       "          docLink.innerHTML = docLinkHtml;\n",
       "          element.appendChild(docLink);\n",
       "        }\n",
       "      </script>\n",
       "    </div>\n",
       "  </div>\n",
       "  "
      ],
      "text/plain": [
       "   fixed acidity  volatile acidity  citric acid  ...  sulphates  alcohol  quality\n",
       "0            7.4              0.70         0.00  ...       0.56      9.4        5\n",
       "1            7.8              0.88         0.00  ...       0.68      9.8        5\n",
       "2            7.8              0.76         0.04  ...       0.65      9.8        5\n",
       "3           11.2              0.28         0.56  ...       0.58      9.8        6\n",
       "4            7.4              0.70         0.00  ...       0.56      9.4        5\n",
       "\n",
       "[5 rows x 12 columns]"
      ]
     },
     "execution_count": 2,
     "metadata": {},
     "output_type": "execute_result"
    }
   ],
   "source": [
    "# Carga de datos\n",
    "\n",
    "url = 'https://github.com/juli-amezquita/Quality-red-wine/blob/main/uci_winequality-red.csv?raw=true'\n",
    "\n",
    "# Se crea un dataframe con los datos\n",
    "data = pd.read_csv(url, sep=';')\n",
    "data.head()"
   ]
  },
  {
   "cell_type": "markdown",
   "metadata": {
    "id": "A8S9k2KTnZu3"
   },
   "source": [
    "## Caracterización de variables"
   ]
  },
  {
   "cell_type": "code",
   "execution_count": 3,
   "metadata": {
    "colab": {
     "base_uri": "https://localhost:8080/"
    },
    "executionInfo": {
     "elapsed": 654,
     "status": "ok",
     "timestamp": 1644175563280,
     "user": {
      "displayName": "Juliana Amézquita",
      "photoUrl": "https://lh3.googleusercontent.com/a/default-user=s64",
      "userId": "14631385668180993508"
     },
     "user_tz": 300
    },
    "id": "y6QT9lXVC-VJ",
    "outputId": "b30fe366-7cb1-4886-f30f-e64bb63896ac"
   },
   "outputs": [
    {
     "name": "stdout",
     "output_type": "stream",
     "text": [
      "<class 'pandas.core.frame.DataFrame'>\n",
      "RangeIndex: 1599 entries, 0 to 1598\n",
      "Data columns (total 12 columns):\n",
      " #   Column                Non-Null Count  Dtype  \n",
      "---  ------                --------------  -----  \n",
      " 0   fixed acidity         1599 non-null   float64\n",
      " 1   volatile acidity      1599 non-null   float64\n",
      " 2   citric acid           1599 non-null   float64\n",
      " 3   residual sugar        1599 non-null   float64\n",
      " 4   chlorides             1599 non-null   float64\n",
      " 5   free sulfur dioxide   1599 non-null   float64\n",
      " 6   total sulfur dioxide  1599 non-null   float64\n",
      " 7   density               1599 non-null   float64\n",
      " 8   pH                    1599 non-null   float64\n",
      " 9   sulphates             1599 non-null   float64\n",
      " 10  alcohol               1599 non-null   float64\n",
      " 11  quality               1599 non-null   int64  \n",
      "dtypes: float64(11), int64(1)\n",
      "memory usage: 150.0 KB\n"
     ]
    }
   ],
   "source": [
    "# Exploramos la estructura de nuestros datos\n",
    "data.info()"
   ]
  },
  {
   "cell_type": "markdown",
   "metadata": {
    "id": "Vz6aOg1p3Ry7"
   },
   "source": [
    "\n",
    "1. fixed acidity: Variable continua. Entendida como la mayoría de ácidos involucrados en el vino.\n",
    "2. volatile acidity: Variable continua. Entendida como la cantidad de ácido acético en el vino. En niveles altos puede provocar un sabor fuerte a vinagre.\n",
    "3. citric acid: Variabe continua. Generalmente se encuentra en pequeñas cantidades. Agrega 'frescura' y sabor a los vinos.\n",
    "4. residual sugar: Variable continua. Entendida como la cantidad de azúcar que queda después de la fermentación.\n",
    "5. chlorides: Variable continua. Entendida como la cantidad de sal en el vino.\n",
    "6. free sulfur dioxide: Variable continua. Entendida como el dióxido de azufre libre (SO2) en el vino.\n",
    "7. total sulfur dioxide: Variable continua. Entendida como la cantidad de formas libres y ligadas de S02. \n",
    "8. density: Variable continua. Entendida como la densidad del agua, depende del porcentaje de contenido de alcohol y azúcar\n",
    "9. pH: Variable continua. Describe qué tan ácido o básico es un vino.\n",
    "10. sulphates: Variable continua. Entendida como un aditivo enológico que puede contribuir a los niveles de dióxido de azufre (S02).\n",
    "11. alcohol: Variable continua. Entendida como el porcentaje de contenido de alcohol del vino.\n",
    "\n",
    "**Variable objetivo:**\n",
    "12. quality: Variable discreta (tiene 6 clases). Entendida como la calificación que se le da a cada vino entre 1 y 6) "
   ]
  },
  {
   "cell_type": "markdown",
   "metadata": {
    "id": "i1WUjti_yDxQ"
   },
   "source": [
    "## Valores faltantes"
   ]
  },
  {
   "cell_type": "code",
   "execution_count": 4,
   "metadata": {
    "colab": {
     "base_uri": "https://localhost:8080/"
    },
    "executionInfo": {
     "elapsed": 624,
     "status": "ok",
     "timestamp": 1644175563283,
     "user": {
      "displayName": "Juliana Amézquita",
      "photoUrl": "https://lh3.googleusercontent.com/a/default-user=s64",
      "userId": "14631385668180993508"
     },
     "user_tz": 300
    },
    "id": "PonUwrbdx7cD",
    "outputId": "1cefcc7d-0f34-4d2e-a91f-1c96521bed31"
   },
   "outputs": [
    {
     "name": "stdout",
     "output_type": "stream",
     "text": [
      "Total Valores Faltantes por Columna\n",
      "fixed acidity           0\n",
      "volatile acidity        0\n",
      "citric acid             0\n",
      "residual sugar          0\n",
      "chlorides               0\n",
      "free sulfur dioxide     0\n",
      "total sulfur dioxide    0\n",
      "density                 0\n",
      "pH                      0\n",
      "sulphates               0\n",
      "alcohol                 0\n",
      "quality                 0\n",
      "dtype: int64\n"
     ]
    }
   ],
   "source": [
    "print(\"Total Valores Faltantes por Columna\")\n",
    "print(data.isna().sum())"
   ]
  },
  {
   "cell_type": "markdown",
   "metadata": {
    "id": "l_bUaE_ZnL7C"
   },
   "source": [
    "## Valores duplicados"
   ]
  },
  {
   "cell_type": "markdown",
   "metadata": {
    "id": "htp-k4r076Aa"
   },
   "source": [
    "Revisamos si existen duplicados en el dataset"
   ]
  },
  {
   "cell_type": "code",
   "execution_count": 5,
   "metadata": {
    "colab": {
     "base_uri": "https://localhost:8080/"
    },
    "executionInfo": {
     "elapsed": 632,
     "status": "ok",
     "timestamp": 1644175563298,
     "user": {
      "displayName": "Juliana Amézquita",
      "photoUrl": "https://lh3.googleusercontent.com/a/default-user=s64",
      "userId": "14631385668180993508"
     },
     "user_tz": 300
    },
    "id": "0iwKerrS76qa",
    "outputId": "e35fadbf-eec2-4bf1-a074-cca3bfae7481"
   },
   "outputs": [
    {
     "data": {
      "text/plain": [
       "240"
      ]
     },
     "execution_count": 5,
     "metadata": {},
     "output_type": "execute_result"
    }
   ],
   "source": [
    "sum(data.duplicated())"
   ]
  },
  {
   "cell_type": "code",
   "execution_count": 6,
   "metadata": {
    "colab": {
     "base_uri": "https://localhost:8080/"
    },
    "executionInfo": {
     "elapsed": 368,
     "status": "ok",
     "timestamp": 1644175563308,
     "user": {
      "displayName": "Juliana Amézquita",
      "photoUrl": "https://lh3.googleusercontent.com/a/default-user=s64",
      "userId": "14631385668180993508"
     },
     "user_tz": 300
    },
    "id": "8FNVgobq7ZTy",
    "outputId": "94b4cf89-94ad-4d51-e797-7795cb89f66b"
   },
   "outputs": [
    {
     "data": {
      "text/plain": [
       "5    104\n",
       "6    103\n",
       "7     32\n",
       "8      1\n",
       "Name: quality, dtype: int64"
      ]
     },
     "execution_count": 6,
     "metadata": {},
     "output_type": "execute_result"
    }
   ],
   "source": [
    "data[data.duplicated()]['quality'].value_counts()"
   ]
  },
  {
   "cell_type": "markdown",
   "metadata": {
    "id": "M5GIZNXD7_DI"
   },
   "source": [
    "hay presencia de 240 datos duplicados y están distribuidos en varias de las clases. \n",
    "\n",
    "Procedemos a eliminar los duplicados."
   ]
  },
  {
   "cell_type": "code",
   "execution_count": 7,
   "metadata": {
    "executionInfo": {
     "elapsed": 361,
     "status": "ok",
     "timestamp": 1644175563310,
     "user": {
      "displayName": "Juliana Amézquita",
      "photoUrl": "https://lh3.googleusercontent.com/a/default-user=s64",
      "userId": "14631385668180993508"
     },
     "user_tz": 300
    },
    "id": "KhMUsALk8WDO"
   },
   "outputs": [],
   "source": [
    "data.drop_duplicates(inplace=True)"
   ]
  },
  {
   "cell_type": "code",
   "execution_count": 8,
   "metadata": {
    "colab": {
     "base_uri": "https://localhost:8080/"
    },
    "executionInfo": {
     "elapsed": 547,
     "status": "ok",
     "timestamp": 1644175563507,
     "user": {
      "displayName": "Juliana Amézquita",
      "photoUrl": "https://lh3.googleusercontent.com/a/default-user=s64",
      "userId": "14631385668180993508"
     },
     "user_tz": 300
    },
    "id": "y6C6ktY18hGD",
    "outputId": "e51b4579-bd8b-423c-8bc7-d4916ec9f18e"
   },
   "outputs": [
    {
     "data": {
      "text/plain": [
       "(1359, 12)"
      ]
     },
     "execution_count": 8,
     "metadata": {},
     "output_type": "execute_result"
    }
   ],
   "source": [
    "# Revisamos el tamaño de nuestro nuevo dataset\n",
    "data.shape"
   ]
  },
  {
   "cell_type": "markdown",
   "metadata": {
    "id": "dgRg0-6_rWHp"
   },
   "source": [
    "## Distribución variable objetivo"
   ]
  },
  {
   "cell_type": "code",
   "execution_count": 9,
   "metadata": {
    "colab": {
     "base_uri": "https://localhost:8080/",
     "height": 508
    },
    "executionInfo": {
     "elapsed": 542,
     "status": "ok",
     "timestamp": 1644175563512,
     "user": {
      "displayName": "Juliana Amézquita",
      "photoUrl": "https://lh3.googleusercontent.com/a/default-user=s64",
      "userId": "14631385668180993508"
     },
     "user_tz": 300
    },
    "id": "Mfa9vxlzruTy",
    "outputId": "3c662cf8-8e30-44fe-f509-a0a23f5e6024"
   },
   "outputs": [
    {
     "data": {
      "text/html": [
       "\n",
       "  <div id=\"df-22977701-c8bd-48f2-ba5b-91db22eb3813\">\n",
       "    <div class=\"colab-df-container\">\n",
       "      <div>\n",
       "<style scoped>\n",
       "    .dataframe tbody tr th:only-of-type {\n",
       "        vertical-align: middle;\n",
       "    }\n",
       "\n",
       "    .dataframe tbody tr th {\n",
       "        vertical-align: top;\n",
       "    }\n",
       "\n",
       "    .dataframe thead th {\n",
       "        text-align: right;\n",
       "    }\n",
       "</style>\n",
       "<table border=\"1\" class=\"dataframe\">\n",
       "  <thead>\n",
       "    <tr style=\"text-align: right;\">\n",
       "      <th></th>\n",
       "      <th>quality</th>\n",
       "      <th>total</th>\n",
       "    </tr>\n",
       "  </thead>\n",
       "  <tbody>\n",
       "    <tr>\n",
       "      <th>0</th>\n",
       "      <td>3</td>\n",
       "      <td>10</td>\n",
       "    </tr>\n",
       "    <tr>\n",
       "      <th>1</th>\n",
       "      <td>4</td>\n",
       "      <td>53</td>\n",
       "    </tr>\n",
       "    <tr>\n",
       "      <th>2</th>\n",
       "      <td>5</td>\n",
       "      <td>577</td>\n",
       "    </tr>\n",
       "    <tr>\n",
       "      <th>3</th>\n",
       "      <td>6</td>\n",
       "      <td>535</td>\n",
       "    </tr>\n",
       "    <tr>\n",
       "      <th>4</th>\n",
       "      <td>7</td>\n",
       "      <td>167</td>\n",
       "    </tr>\n",
       "    <tr>\n",
       "      <th>5</th>\n",
       "      <td>8</td>\n",
       "      <td>17</td>\n",
       "    </tr>\n",
       "  </tbody>\n",
       "</table>\n",
       "</div>\n",
       "      <button class=\"colab-df-convert\" onclick=\"convertToInteractive('df-22977701-c8bd-48f2-ba5b-91db22eb3813')\"\n",
       "              title=\"Convert this dataframe to an interactive table.\"\n",
       "              style=\"display:none;\">\n",
       "        \n",
       "  <svg xmlns=\"http://www.w3.org/2000/svg\" height=\"24px\"viewBox=\"0 0 24 24\"\n",
       "       width=\"24px\">\n",
       "    <path d=\"M0 0h24v24H0V0z\" fill=\"none\"/>\n",
       "    <path d=\"M18.56 5.44l.94 2.06.94-2.06 2.06-.94-2.06-.94-.94-2.06-.94 2.06-2.06.94zm-11 1L8.5 8.5l.94-2.06 2.06-.94-2.06-.94L8.5 2.5l-.94 2.06-2.06.94zm10 10l.94 2.06.94-2.06 2.06-.94-2.06-.94-.94-2.06-.94 2.06-2.06.94z\"/><path d=\"M17.41 7.96l-1.37-1.37c-.4-.4-.92-.59-1.43-.59-.52 0-1.04.2-1.43.59L10.3 9.45l-7.72 7.72c-.78.78-.78 2.05 0 2.83L4 21.41c.39.39.9.59 1.41.59.51 0 1.02-.2 1.41-.59l7.78-7.78 2.81-2.81c.8-.78.8-2.07 0-2.86zM5.41 20L4 18.59l7.72-7.72 1.47 1.35L5.41 20z\"/>\n",
       "  </svg>\n",
       "      </button>\n",
       "      \n",
       "  <style>\n",
       "    .colab-df-container {\n",
       "      display:flex;\n",
       "      flex-wrap:wrap;\n",
       "      gap: 12px;\n",
       "    }\n",
       "\n",
       "    .colab-df-convert {\n",
       "      background-color: #E8F0FE;\n",
       "      border: none;\n",
       "      border-radius: 50%;\n",
       "      cursor: pointer;\n",
       "      display: none;\n",
       "      fill: #1967D2;\n",
       "      height: 32px;\n",
       "      padding: 0 0 0 0;\n",
       "      width: 32px;\n",
       "    }\n",
       "\n",
       "    .colab-df-convert:hover {\n",
       "      background-color: #E2EBFA;\n",
       "      box-shadow: 0px 1px 2px rgba(60, 64, 67, 0.3), 0px 1px 3px 1px rgba(60, 64, 67, 0.15);\n",
       "      fill: #174EA6;\n",
       "    }\n",
       "\n",
       "    [theme=dark] .colab-df-convert {\n",
       "      background-color: #3B4455;\n",
       "      fill: #D2E3FC;\n",
       "    }\n",
       "\n",
       "    [theme=dark] .colab-df-convert:hover {\n",
       "      background-color: #434B5C;\n",
       "      box-shadow: 0px 1px 3px 1px rgba(0, 0, 0, 0.15);\n",
       "      filter: drop-shadow(0px 1px 2px rgba(0, 0, 0, 0.3));\n",
       "      fill: #FFFFFF;\n",
       "    }\n",
       "  </style>\n",
       "\n",
       "      <script>\n",
       "        const buttonEl =\n",
       "          document.querySelector('#df-22977701-c8bd-48f2-ba5b-91db22eb3813 button.colab-df-convert');\n",
       "        buttonEl.style.display =\n",
       "          google.colab.kernel.accessAllowed ? 'block' : 'none';\n",
       "\n",
       "        async function convertToInteractive(key) {\n",
       "          const element = document.querySelector('#df-22977701-c8bd-48f2-ba5b-91db22eb3813');\n",
       "          const dataTable =\n",
       "            await google.colab.kernel.invokeFunction('convertToInteractive',\n",
       "                                                     [key], {});\n",
       "          if (!dataTable) return;\n",
       "\n",
       "          const docLinkHtml = 'Like what you see? Visit the ' +\n",
       "            '<a target=\"_blank\" href=https://colab.research.google.com/notebooks/data_table.ipynb>data table notebook</a>'\n",
       "            + ' to learn more about interactive tables.';\n",
       "          element.innerHTML = '';\n",
       "          dataTable['output_type'] = 'display_data';\n",
       "          await google.colab.output.renderOutput(dataTable, element);\n",
       "          const docLink = document.createElement('div');\n",
       "          docLink.innerHTML = docLinkHtml;\n",
       "          element.appendChild(docLink);\n",
       "        }\n",
       "      </script>\n",
       "    </div>\n",
       "  </div>\n",
       "  "
      ],
      "text/plain": [
       "   quality  total\n",
       "0        3     10\n",
       "1        4     53\n",
       "2        5    577\n",
       "3        6    535\n",
       "4        7    167\n",
       "5        8     17"
      ]
     },
     "execution_count": 9,
     "metadata": {},
     "output_type": "execute_result"
    },
    {
     "data": {
      "image/png": "[encoded data removed]",
      "text/plain": [
       "<Figure size 432x288 with 1 Axes>"
      ]
     },
     "metadata": {
      "needs_background": "light"
     },
     "output_type": "display_data"
    }
   ],
   "source": [
    "# Se verifica la distribución de la variable a predecir para saber si se tiene un conjunto de datos balanceado\n",
    "\n",
    "ax = sns.countplot(x=\"quality\", data=data, palette = \"viridis\")\n",
    "disty= pd.DataFrame(data.groupby([\"quality\"], sort=True)[\"quality\"].count().reset_index(name=\"total\"))\n",
    "disty"
   ]
  },
  {
   "cell_type": "markdown",
   "metadata": {
    "id": "dNUuLk--Lvce"
   },
   "source": [
    "Se observa que las clases de nuestra variable objetivo no están equilibradas (por ejemplo, hay muchos más vinos normales con calificación de 5 y 6 que vinos excelentes o malos). De igual manera, se observa que se tienen 6 diferentes clases dentro de la variable objetivo y aunque están ordenadas no empiezan desde 0. Se hará una transformación para re-enumerar las categorías para esto utilizamos LabelEncoder pues nuestra variable objetivo tiene un orden específico y LabelEncoder lo conserva."
   ]
  },
  {
   "cell_type": "code",
   "execution_count": 10,
   "metadata": {
    "executionInfo": {
     "elapsed": 502,
     "status": "ok",
     "timestamp": 1644175563513,
     "user": {
      "displayName": "Juliana Amézquita",
      "photoUrl": "https://lh3.googleusercontent.com/a/default-user=s64",
      "userId": "14631385668180993508"
     },
     "user_tz": 300
    },
    "id": "Teaj6QTRA20R"
   },
   "outputs": [],
   "source": [
    "from sklearn.preprocessing import LabelEncoder\n",
    "le = LabelEncoder()\n",
    "data['quality'] = le.fit_transform(data['quality'])"
   ]
  },
  {
   "cell_type": "code",
   "execution_count": 11,
   "metadata": {
    "colab": {
     "base_uri": "https://localhost:8080/",
     "height": 238
    },
    "executionInfo": {
     "elapsed": 502,
     "status": "ok",
     "timestamp": 1644175563514,
     "user": {
      "displayName": "Juliana Amézquita",
      "photoUrl": "https://lh3.googleusercontent.com/a/default-user=s64",
      "userId": "14631385668180993508"
     },
     "user_tz": 300
    },
    "id": "dT0Q8mPJEczz",
    "outputId": "19967e30-8a64-43f8-a9c8-2d7f685bf09c"
   },
   "outputs": [
    {
     "data": {
      "text/html": [
       "\n",
       "  <div id=\"df-bbd7464e-c8cf-4f8a-bf33-48db9f40f397\">\n",
       "    <div class=\"colab-df-container\">\n",
       "      <div>\n",
       "<style scoped>\n",
       "    .dataframe tbody tr th:only-of-type {\n",
       "        vertical-align: middle;\n",
       "    }\n",
       "\n",
       "    .dataframe tbody tr th {\n",
       "        vertical-align: top;\n",
       "    }\n",
       "\n",
       "    .dataframe thead th {\n",
       "        text-align: right;\n",
       "    }\n",
       "</style>\n",
       "<table border=\"1\" class=\"dataframe\">\n",
       "  <thead>\n",
       "    <tr style=\"text-align: right;\">\n",
       "      <th></th>\n",
       "      <th>quality</th>\n",
       "      <th>total</th>\n",
       "    </tr>\n",
       "  </thead>\n",
       "  <tbody>\n",
       "    <tr>\n",
       "      <th>0</th>\n",
       "      <td>0</td>\n",
       "      <td>10</td>\n",
       "    </tr>\n",
       "    <tr>\n",
       "      <th>1</th>\n",
       "      <td>1</td>\n",
       "      <td>53</td>\n",
       "    </tr>\n",
       "    <tr>\n",
       "      <th>2</th>\n",
       "      <td>2</td>\n",
       "      <td>577</td>\n",
       "    </tr>\n",
       "    <tr>\n",
       "      <th>3</th>\n",
       "      <td>3</td>\n",
       "      <td>535</td>\n",
       "    </tr>\n",
       "    <tr>\n",
       "      <th>4</th>\n",
       "      <td>4</td>\n",
       "      <td>167</td>\n",
       "    </tr>\n",
       "    <tr>\n",
       "      <th>5</th>\n",
       "      <td>5</td>\n",
       "      <td>17</td>\n",
       "    </tr>\n",
       "  </tbody>\n",
       "</table>\n",
       "</div>\n",
       "      <button class=\"colab-df-convert\" onclick=\"convertToInteractive('df-bbd7464e-c8cf-4f8a-bf33-48db9f40f397')\"\n",
       "              title=\"Convert this dataframe to an interactive table.\"\n",
       "              style=\"display:none;\">\n",
       "        \n",
       "  <svg xmlns=\"http://www.w3.org/2000/svg\" height=\"24px\"viewBox=\"0 0 24 24\"\n",
       "       width=\"24px\">\n",
       "    <path d=\"M0 0h24v24H0V0z\" fill=\"none\"/>\n",
       "    <path d=\"M18.56 5.44l.94 2.06.94-2.06 2.06-.94-2.06-.94-.94-2.06-.94 2.06-2.06.94zm-11 1L8.5 8.5l.94-2.06 2.06-.94-2.06-.94L8.5 2.5l-.94 2.06-2.06.94zm10 10l.94 2.06.94-2.06 2.06-.94-2.06-.94-.94-2.06-.94 2.06-2.06.94z\"/><path d=\"M17.41 7.96l-1.37-1.37c-.4-.4-.92-.59-1.43-.59-.52 0-1.04.2-1.43.59L10.3 9.45l-7.72 7.72c-.78.78-.78 2.05 0 2.83L4 21.41c.39.39.9.59 1.41.59.51 0 1.02-.2 1.41-.59l7.78-7.78 2.81-2.81c.8-.78.8-2.07 0-2.86zM5.41 20L4 18.59l7.72-7.72 1.47 1.35L5.41 20z\"/>\n",
       "  </svg>\n",
       "      </button>\n",
       "      \n",
       "  <style>\n",
       "    .colab-df-container {\n",
       "      display:flex;\n",
       "      flex-wrap:wrap;\n",
       "      gap: 12px;\n",
       "    }\n",
       "\n",
       "    .colab-df-convert {\n",
       "      background-color: #E8F0FE;\n",
       "      border: none;\n",
       "      border-radius: 50%;\n",
       "      cursor: pointer;\n",
       "      display: none;\n",
       "      fill: #1967D2;\n",
       "      height: 32px;\n",
       "      padding: 0 0 0 0;\n",
       "      width: 32px;\n",
       "    }\n",
       "\n",
       "    .colab-df-convert:hover {\n",
       "      background-color: #E2EBFA;\n",
       "      box-shadow: 0px 1px 2px rgba(60, 64, 67, 0.3), 0px 1px 3px 1px rgba(60, 64, 67, 0.15);\n",
       "      fill: #174EA6;\n",
       "    }\n",
       "\n",
       "    [theme=dark] .colab-df-convert {\n",
       "      background-color: #3B4455;\n",
       "      fill: #D2E3FC;\n",
       "    }\n",
       "\n",
       "    [theme=dark] .colab-df-convert:hover {\n",
       "      background-color: #434B5C;\n",
       "      box-shadow: 0px 1px 3px 1px rgba(0, 0, 0, 0.15);\n",
       "      filter: drop-shadow(0px 1px 2px rgba(0, 0, 0, 0.3));\n",
       "      fill: #FFFFFF;\n",
       "    }\n",
       "  </style>\n",
       "\n",
       "      <script>\n",
       "        const buttonEl =\n",
       "          document.querySelector('#df-bbd7464e-c8cf-4f8a-bf33-48db9f40f397 button.colab-df-convert');\n",
       "        buttonEl.style.display =\n",
       "          google.colab.kernel.accessAllowed ? 'block' : 'none';\n",
       "\n",
       "        async function convertToInteractive(key) {\n",
       "          const element = document.querySelector('#df-bbd7464e-c8cf-4f8a-bf33-48db9f40f397');\n",
       "          const dataTable =\n",
       "            await google.colab.kernel.invokeFunction('convertToInteractive',\n",
       "                                                     [key], {});\n",
       "          if (!dataTable) return;\n",
       "\n",
       "          const docLinkHtml = 'Like what you see? Visit the ' +\n",
       "            '<a target=\"_blank\" href=https://colab.research.google.com/notebooks/data_table.ipynb>data table notebook</a>'\n",
       "            + ' to learn more about interactive tables.';\n",
       "          element.innerHTML = '';\n",
       "          dataTable['output_type'] = 'display_data';\n",
       "          await google.colab.output.renderOutput(dataTable, element);\n",
       "          const docLink = document.createElement('div');\n",
       "          docLink.innerHTML = docLinkHtml;\n",
       "          element.appendChild(docLink);\n",
       "        }\n",
       "      </script>\n",
       "    </div>\n",
       "  </div>\n",
       "  "
      ],
      "text/plain": [
       "   quality  total\n",
       "0        0     10\n",
       "1        1     53\n",
       "2        2    577\n",
       "3        3    535\n",
       "4        4    167\n",
       "5        5     17"
      ]
     },
     "execution_count": 11,
     "metadata": {},
     "output_type": "execute_result"
    }
   ],
   "source": [
    "# Revisamos la numeración de las categorías\n",
    "pd.DataFrame(data.groupby([\"quality\"], sort=True)[\"quality\"].count().reset_index(name=\"total\"))"
   ]
  },
  {
   "cell_type": "markdown",
   "metadata": {
    "id": "BguuWea-MeGZ"
   },
   "source": [
    "## Distribución variables predictoras"
   ]
  },
  {
   "cell_type": "code",
   "execution_count": 12,
   "metadata": {
    "colab": {
     "base_uri": "https://localhost:8080/",
     "height": 532
    },
    "executionInfo": {
     "elapsed": 6460,
     "status": "ok",
     "timestamp": 1644175569658,
     "user": {
      "displayName": "Juliana Amézquita",
      "photoUrl": "https://lh3.googleusercontent.com/a/default-user=s64",
      "userId": "14631385668180993508"
     },
     "user_tz": 300
    },
    "id": "HUphdY4lNJpJ",
    "outputId": "be8e35c2-6a5e-4370-f333-b2a70381bbce"
   },
   "outputs": [
    {
     "data": {
      "image/png": "[encoded data removed]",
      "text/plain": [
       "<Figure size 1440x1080 with 12 Axes>"
      ]
     },
     "metadata": {
      "needs_background": "light"
     },
     "output_type": "display_data"
    }
   ],
   "source": [
    "data.hist(bins=50, figsize=(20,15))\n",
    "plt.show()"
   ]
  },
  {
   "cell_type": "markdown",
   "metadata": {
    "id": "_F9zP6vNSHkK"
   },
   "source": [
    "## Análisis de correlaciones"
   ]
  },
  {
   "cell_type": "code",
   "execution_count": 13,
   "metadata": {
    "colab": {
     "base_uri": "https://localhost:8080/",
     "height": 661
    },
    "executionInfo": {
     "elapsed": 978,
     "status": "ok",
     "timestamp": 1644175570614,
     "user": {
      "displayName": "Juliana Amézquita",
      "photoUrl": "https://lh3.googleusercontent.com/a/default-user=s64",
      "userId": "14631385668180993508"
     },
     "user_tz": 300
    },
    "id": "9IxiRFnvQuOl",
    "outputId": "f8f287ff-e8c3-4ae1-f9e6-d29617c50520"
   },
   "outputs": [
    {
     "data": {
      "text/html": [
       "\n",
       "  <div id=\"df-80f0c14a-fb6f-4b2c-ab52-da16f53486ea\">\n",
       "    <div class=\"colab-df-container\">\n",
       "      <div>\n",
       "<style scoped>\n",
       "    .dataframe tbody tr th:only-of-type {\n",
       "        vertical-align: middle;\n",
       "    }\n",
       "\n",
       "    .dataframe tbody tr th {\n",
       "        vertical-align: top;\n",
       "    }\n",
       "\n",
       "    .dataframe thead th {\n",
       "        text-align: right;\n",
       "    }\n",
       "</style>\n",
       "<table border=\"1\" class=\"dataframe\">\n",
       "  <thead>\n",
       "    <tr style=\"text-align: right;\">\n",
       "      <th></th>\n",
       "      <th>quality</th>\n",
       "    </tr>\n",
       "  </thead>\n",
       "  <tbody>\n",
       "    <tr>\n",
       "      <th>alcohol</th>\n",
       "      <td>0.480343</td>\n",
       "    </tr>\n",
       "    <tr>\n",
       "      <th>volatile acidity</th>\n",
       "      <td>0.395214</td>\n",
       "    </tr>\n",
       "    <tr>\n",
       "      <th>sulphates</th>\n",
       "      <td>0.248835</td>\n",
       "    </tr>\n",
       "    <tr>\n",
       "      <th>citric acid</th>\n",
       "      <td>0.228057</td>\n",
       "    </tr>\n",
       "    <tr>\n",
       "      <th>density</th>\n",
       "      <td>0.184252</td>\n",
       "    </tr>\n",
       "    <tr>\n",
       "      <th>total sulfur dioxide</th>\n",
       "      <td>0.177855</td>\n",
       "    </tr>\n",
       "    <tr>\n",
       "      <th>chlorides</th>\n",
       "      <td>0.130988</td>\n",
       "    </tr>\n",
       "    <tr>\n",
       "      <th>fixed acidity</th>\n",
       "      <td>0.119024</td>\n",
       "    </tr>\n",
       "    <tr>\n",
       "      <th>pH</th>\n",
       "      <td>0.055245</td>\n",
       "    </tr>\n",
       "    <tr>\n",
       "      <th>free sulfur dioxide</th>\n",
       "      <td>0.050463</td>\n",
       "    </tr>\n",
       "    <tr>\n",
       "      <th>residual sugar</th>\n",
       "      <td>0.013640</td>\n",
       "    </tr>\n",
       "  </tbody>\n",
       "</table>\n",
       "</div>\n",
       "      <button class=\"colab-df-convert\" onclick=\"convertToInteractive('df-80f0c14a-fb6f-4b2c-ab52-da16f53486ea')\"\n",
       "              title=\"Convert this dataframe to an interactive table.\"\n",
       "              style=\"display:none;\">\n",
       "        \n",
       "  <svg xmlns=\"http://www.w3.org/2000/svg\" height=\"24px\"viewBox=\"0 0 24 24\"\n",
       "       width=\"24px\">\n",
       "    <path d=\"M0 0h24v24H0V0z\" fill=\"none\"/>\n",
       "    <path d=\"M18.56 5.44l.94 2.06.94-2.06 2.06-.94-2.06-.94-.94-2.06-.94 2.06-2.06.94zm-11 1L8.5 8.5l.94-2.06 2.06-.94-2.06-.94L8.5 2.5l-.94 2.06-2.06.94zm10 10l.94 2.06.94-2.06 2.06-.94-2.06-.94-.94-2.06-.94 2.06-2.06.94z\"/><path d=\"M17.41 7.96l-1.37-1.37c-.4-.4-.92-.59-1.43-.59-.52 0-1.04.2-1.43.59L10.3 9.45l-7.72 7.72c-.78.78-.78 2.05 0 2.83L4 21.41c.39.39.9.59 1.41.59.51 0 1.02-.2 1.41-.59l7.78-7.78 2.81-2.81c.8-.78.8-2.07 0-2.86zM5.41 20L4 18.59l7.72-7.72 1.47 1.35L5.41 20z\"/>\n",
       "  </svg>\n",
       "      </button>\n",
       "      \n",
       "  <style>\n",
       "    .colab-df-container {\n",
       "      display:flex;\n",
       "      flex-wrap:wrap;\n",
       "      gap: 12px;\n",
       "    }\n",
       "\n",
       "    .colab-df-convert {\n",
       "      background-color: #E8F0FE;\n",
       "      border: none;\n",
       "      border-radius: 50%;\n",
       "      cursor: pointer;\n",
       "      display: none;\n",
       "      fill: #1967D2;\n",
       "      height: 32px;\n",
       "      padding: 0 0 0 0;\n",
       "      width: 32px;\n",
       "    }\n",
       "\n",
       "    .colab-df-convert:hover {\n",
       "      background-color: #E2EBFA;\n",
       "      box-shadow: 0px 1px 2px rgba(60, 64, 67, 0.3), 0px 1px 3px 1px rgba(60, 64, 67, 0.15);\n",
       "      fill: #174EA6;\n",
       "    }\n",
       "\n",
       "    [theme=dark] .colab-df-convert {\n",
       "      background-color: #3B4455;\n",
       "      fill: #D2E3FC;\n",
       "    }\n",
       "\n",
       "    [theme=dark] .colab-df-convert:hover {\n",
       "      background-color: #434B5C;\n",
       "      box-shadow: 0px 1px 3px 1px rgba(0, 0, 0, 0.15);\n",
       "      filter: drop-shadow(0px 1px 2px rgba(0, 0, 0, 0.3));\n",
       "      fill: #FFFFFF;\n",
       "    }\n",
       "  </style>\n",
       "\n",
       "      <script>\n",
       "        const buttonEl =\n",
       "          document.querySelector('#df-80f0c14a-fb6f-4b2c-ab52-da16f53486ea button.colab-df-convert');\n",
       "        buttonEl.style.display =\n",
       "          google.colab.kernel.accessAllowed ? 'block' : 'none';\n",
       "\n",
       "        async function convertToInteractive(key) {\n",
       "          const element = document.querySelector('#df-80f0c14a-fb6f-4b2c-ab52-da16f53486ea');\n",
       "          const dataTable =\n",
       "            await google.colab.kernel.invokeFunction('convertToInteractive',\n",
       "                                                     [key], {});\n",
       "          if (!dataTable) return;\n",
       "\n",
       "          const docLinkHtml = 'Like what you see? Visit the ' +\n",
       "            '<a target=\"_blank\" href=https://colab.research.google.com/notebooks/data_table.ipynb>data table notebook</a>'\n",
       "            + ' to learn more about interactive tables.';\n",
       "          element.innerHTML = '';\n",
       "          dataTable['output_type'] = 'display_data';\n",
       "          await google.colab.output.renderOutput(dataTable, element);\n",
       "          const docLink = document.createElement('div');\n",
       "          docLink.innerHTML = docLinkHtml;\n",
       "          element.appendChild(docLink);\n",
       "        }\n",
       "      </script>\n",
       "    </div>\n",
       "  </div>\n",
       "  "
      ],
      "text/plain": [
       "                       quality\n",
       "alcohol               0.480343\n",
       "volatile acidity      0.395214\n",
       "sulphates             0.248835\n",
       "citric acid           0.228057\n",
       "density               0.184252\n",
       "total sulfur dioxide  0.177855\n",
       "chlorides             0.130988\n",
       "fixed acidity         0.119024\n",
       "pH                    0.055245\n",
       "free sulfur dioxide   0.050463\n",
       "residual sugar        0.013640"
      ]
     },
     "execution_count": 13,
     "metadata": {},
     "output_type": "execute_result"
    },
    {
     "data": {
      "image/png": "[encoded data removed]",
      "text/plain": [
       "<Figure size 432x288 with 1 Axes>"
      ]
     },
     "metadata": {
      "needs_background": "light"
     },
     "output_type": "display_data"
    }
   ],
   "source": [
    "correlaciones =data.corr().abs()['quality'].sort_values(ascending=False)[1:]\n",
    "ax = sns.barplot(x=correlaciones.values,y=correlaciones.index, palette = \"viridis\").set_title('Correlaciones respecto a la variable objetivo')\n",
    "df_correlaciones = pd.DataFrame(correlaciones)\n",
    "df_correlaciones"
   ]
  },
  {
   "cell_type": "markdown",
   "metadata": {
    "id": "bn_WJphtSiO1"
   },
   "source": [
    "Las variables con mayor correlación a nuestra variable objetivo son 'alcohol' y 'volatile acidity' con 47% y 39% respectivamente. Las variables con menor correlación son 'residual sugar', 'free sulfur dioxide' y 'pH'. Lo anterior indica que no todas las variables de entrada son relevantes para predecir la calidad de los vinos. "
   ]
  },
  {
   "cell_type": "markdown",
   "metadata": {
    "id": "r7x0WcLYoTrH"
   },
   "source": [
    "## Análisis de valores atípicos"
   ]
  },
  {
   "cell_type": "code",
   "execution_count": 14,
   "metadata": {
    "colab": {
     "base_uri": "https://localhost:8080/"
    },
    "executionInfo": {
     "elapsed": 6,
     "status": "ok",
     "timestamp": 1644175570615,
     "user": {
      "displayName": "Juliana Amézquita",
      "photoUrl": "https://lh3.googleusercontent.com/a/default-user=s64",
      "userId": "14631385668180993508"
     },
     "user_tz": 300
    },
    "id": "dBe-3a9i-TpS",
    "outputId": "be8f9dd2-69d2-43c5-d278-1504351e11b6"
   },
   "outputs": [
    {
     "data": {
      "text/plain": [
       "Index(['fixed acidity', 'volatile acidity', 'citric acid', 'residual sugar',\n",
       "       'chlorides', 'free sulfur dioxide', 'total sulfur dioxide', 'density',\n",
       "       'pH', 'sulphates', 'alcohol', 'quality'],\n",
       "      dtype='object')"
      ]
     },
     "execution_count": 14,
     "metadata": {},
     "output_type": "execute_result"
    }
   ],
   "source": [
    "data.columns"
   ]
  },
  {
   "cell_type": "code",
   "execution_count": 15,
   "metadata": {
    "colab": {
     "base_uri": "https://localhost:8080/",
     "height": 526
    },
    "executionInfo": {
     "elapsed": 6075,
     "status": "ok",
     "timestamp": 1644175576686,
     "user": {
      "displayName": "Juliana Amézquita",
      "photoUrl": "https://lh3.googleusercontent.com/a/default-user=s64",
      "userId": "14631385668180993508"
     },
     "user_tz": 300
    },
    "id": "V4mFAQf59pGy",
    "outputId": "6d3f4fa8-bef9-48db-f86b-5bee7d1d6895"
   },
   "outputs": [
    {
     "data": {
      "image/png": "[encoded data removed]",
      "text/plain": [
       "<Figure size 1800x1800 with 11 Axes>"
      ]
     },
     "metadata": {
      "needs_background": "light"
     },
     "output_type": "display_data"
    }
   ],
   "source": [
    "plt.figure(figsize=(25,25))\n",
    "var =['fixed acidity', 'volatile acidity', 'citric acid', 'residual sugar',\n",
    "       'chlorides', 'free sulfur dioxide', 'total sulfur dioxide', 'density',\n",
    "       'pH', 'sulphates', 'alcohol']\n",
    "for i, var in enumerate(var):\n",
    "    plt.subplot(4,4,i+1)\n",
    "    sns.boxplot(y = var, x='quality', data = data, palette = 'viridis')\n",
    "    title_string = \"Boxplot quiality vs. \" + var\n",
    "    plt.title(title_string)"
   ]
  },
  {
   "cell_type": "markdown",
   "metadata": {
    "id": "3aFXRWm2HYet"
   },
   "source": [
    "\n",
    "\n",
    "Dado que las variables predictoras cuentan con diferentes distribuciones y además se tienen varios valores atípicos, se decide normalizar con el propósito de que el entrenamiento del modelo sea menos sensible a la escala de los atributos. La normalización hace que los atributos sean más consecuentes entre sí, lo que permite que el modelo prediga los resultados con mejor precisión.\n",
    "\n",
    "**Revisamos algunas estadísticas de nuestro dataset**"
   ]
  },
  {
   "cell_type": "code",
   "execution_count": 16,
   "metadata": {
    "colab": {
     "base_uri": "https://localhost:8080/",
     "height": 504
    },
    "executionInfo": {
     "elapsed": 43,
     "status": "ok",
     "timestamp": 1644175576686,
     "user": {
      "displayName": "Juliana Amézquita",
      "photoUrl": "https://lh3.googleusercontent.com/a/default-user=s64",
      "userId": "14631385668180993508"
     },
     "user_tz": 300
    },
    "id": "wj0r9wxIfPl1",
    "outputId": "57b73578-b11f-431b-f1e7-f19b0c6acc28"
   },
   "outputs": [
    {
     "data": {
      "text/html": [
       "\n",
       "  <div id=\"df-a27e1886-8538-433d-a908-f663fb9cf294\">\n",
       "    <div class=\"colab-df-container\">\n",
       "      <div>\n",
       "<style scoped>\n",
       "    .dataframe tbody tr th:only-of-type {\n",
       "        vertical-align: middle;\n",
       "    }\n",
       "\n",
       "    .dataframe tbody tr th {\n",
       "        vertical-align: top;\n",
       "    }\n",
       "\n",
       "    .dataframe thead th {\n",
       "        text-align: right;\n",
       "    }\n",
       "</style>\n",
       "<table border=\"1\" class=\"dataframe\">\n",
       "  <thead>\n",
       "    <tr style=\"text-align: right;\">\n",
       "      <th></th>\n",
       "      <th>count</th>\n",
       "      <th>mean</th>\n",
       "      <th>std</th>\n",
       "      <th>min</th>\n",
       "      <th>25%</th>\n",
       "      <th>50%</th>\n",
       "      <th>75%</th>\n",
       "      <th>max</th>\n",
       "    </tr>\n",
       "  </thead>\n",
       "  <tbody>\n",
       "    <tr>\n",
       "      <th>fixed acidity</th>\n",
       "      <td>1359.0</td>\n",
       "      <td>8.310596</td>\n",
       "      <td>1.736990</td>\n",
       "      <td>4.60000</td>\n",
       "      <td>7.1000</td>\n",
       "      <td>7.9000</td>\n",
       "      <td>9.20000</td>\n",
       "      <td>15.90000</td>\n",
       "    </tr>\n",
       "    <tr>\n",
       "      <th>volatile acidity</th>\n",
       "      <td>1359.0</td>\n",
       "      <td>0.529478</td>\n",
       "      <td>0.183031</td>\n",
       "      <td>0.12000</td>\n",
       "      <td>0.3900</td>\n",
       "      <td>0.5200</td>\n",
       "      <td>0.64000</td>\n",
       "      <td>1.58000</td>\n",
       "    </tr>\n",
       "    <tr>\n",
       "      <th>citric acid</th>\n",
       "      <td>1359.0</td>\n",
       "      <td>0.272333</td>\n",
       "      <td>0.195537</td>\n",
       "      <td>0.00000</td>\n",
       "      <td>0.0900</td>\n",
       "      <td>0.2600</td>\n",
       "      <td>0.43000</td>\n",
       "      <td>1.00000</td>\n",
       "    </tr>\n",
       "    <tr>\n",
       "      <th>residual sugar</th>\n",
       "      <td>1359.0</td>\n",
       "      <td>2.523400</td>\n",
       "      <td>1.352314</td>\n",
       "      <td>0.90000</td>\n",
       "      <td>1.9000</td>\n",
       "      <td>2.2000</td>\n",
       "      <td>2.60000</td>\n",
       "      <td>15.50000</td>\n",
       "    </tr>\n",
       "    <tr>\n",
       "      <th>chlorides</th>\n",
       "      <td>1359.0</td>\n",
       "      <td>0.088124</td>\n",
       "      <td>0.049377</td>\n",
       "      <td>0.01200</td>\n",
       "      <td>0.0700</td>\n",
       "      <td>0.0790</td>\n",
       "      <td>0.09100</td>\n",
       "      <td>0.61100</td>\n",
       "    </tr>\n",
       "    <tr>\n",
       "      <th>free sulfur dioxide</th>\n",
       "      <td>1359.0</td>\n",
       "      <td>15.893304</td>\n",
       "      <td>10.447270</td>\n",
       "      <td>1.00000</td>\n",
       "      <td>7.0000</td>\n",
       "      <td>14.0000</td>\n",
       "      <td>21.00000</td>\n",
       "      <td>72.00000</td>\n",
       "    </tr>\n",
       "    <tr>\n",
       "      <th>total sulfur dioxide</th>\n",
       "      <td>1359.0</td>\n",
       "      <td>46.825975</td>\n",
       "      <td>33.408946</td>\n",
       "      <td>6.00000</td>\n",
       "      <td>22.0000</td>\n",
       "      <td>38.0000</td>\n",
       "      <td>63.00000</td>\n",
       "      <td>289.00000</td>\n",
       "    </tr>\n",
       "    <tr>\n",
       "      <th>density</th>\n",
       "      <td>1359.0</td>\n",
       "      <td>0.996709</td>\n",
       "      <td>0.001869</td>\n",
       "      <td>0.99007</td>\n",
       "      <td>0.9956</td>\n",
       "      <td>0.9967</td>\n",
       "      <td>0.99782</td>\n",
       "      <td>1.00369</td>\n",
       "    </tr>\n",
       "    <tr>\n",
       "      <th>pH</th>\n",
       "      <td>1359.0</td>\n",
       "      <td>3.309787</td>\n",
       "      <td>0.155036</td>\n",
       "      <td>2.74000</td>\n",
       "      <td>3.2100</td>\n",
       "      <td>3.3100</td>\n",
       "      <td>3.40000</td>\n",
       "      <td>4.01000</td>\n",
       "    </tr>\n",
       "    <tr>\n",
       "      <th>sulphates</th>\n",
       "      <td>1359.0</td>\n",
       "      <td>0.658705</td>\n",
       "      <td>0.170667</td>\n",
       "      <td>0.33000</td>\n",
       "      <td>0.5500</td>\n",
       "      <td>0.6200</td>\n",
       "      <td>0.73000</td>\n",
       "      <td>2.00000</td>\n",
       "    </tr>\n",
       "    <tr>\n",
       "      <th>alcohol</th>\n",
       "      <td>1359.0</td>\n",
       "      <td>10.432315</td>\n",
       "      <td>1.082065</td>\n",
       "      <td>8.40000</td>\n",
       "      <td>9.5000</td>\n",
       "      <td>10.2000</td>\n",
       "      <td>11.10000</td>\n",
       "      <td>14.90000</td>\n",
       "    </tr>\n",
       "    <tr>\n",
       "      <th>quality</th>\n",
       "      <td>1359.0</td>\n",
       "      <td>2.623252</td>\n",
       "      <td>0.823578</td>\n",
       "      <td>0.00000</td>\n",
       "      <td>2.0000</td>\n",
       "      <td>3.0000</td>\n",
       "      <td>3.00000</td>\n",
       "      <td>5.00000</td>\n",
       "    </tr>\n",
       "  </tbody>\n",
       "</table>\n",
       "</div>\n",
       "      <button class=\"colab-df-convert\" onclick=\"convertToInteractive('df-a27e1886-8538-433d-a908-f663fb9cf294')\"\n",
       "              title=\"Convert this dataframe to an interactive table.\"\n",
       "              style=\"display:none;\">\n",
       "        \n",
       "  <svg xmlns=\"http://www.w3.org/2000/svg\" height=\"24px\"viewBox=\"0 0 24 24\"\n",
       "       width=\"24px\">\n",
       "    <path d=\"M0 0h24v24H0V0z\" fill=\"none\"/>\n",
       "    <path d=\"M18.56 5.44l.94 2.06.94-2.06 2.06-.94-2.06-.94-.94-2.06-.94 2.06-2.06.94zm-11 1L8.5 8.5l.94-2.06 2.06-.94-2.06-.94L8.5 2.5l-.94 2.06-2.06.94zm10 10l.94 2.06.94-2.06 2.06-.94-2.06-.94-.94-2.06-.94 2.06-2.06.94z\"/><path d=\"M17.41 7.96l-1.37-1.37c-.4-.4-.92-.59-1.43-.59-.52 0-1.04.2-1.43.59L10.3 9.45l-7.72 7.72c-.78.78-.78 2.05 0 2.83L4 21.41c.39.39.9.59 1.41.59.51 0 1.02-.2 1.41-.59l7.78-7.78 2.81-2.81c.8-.78.8-2.07 0-2.86zM5.41 20L4 18.59l7.72-7.72 1.47 1.35L5.41 20z\"/>\n",
       "  </svg>\n",
       "      </button>\n",
       "      \n",
       "  <style>\n",
       "    .colab-df-container {\n",
       "      display:flex;\n",
       "      flex-wrap:wrap;\n",
       "      gap: 12px;\n",
       "    }\n",
       "\n",
       "    .colab-df-convert {\n",
       "      background-color: #E8F0FE;\n",
       "      border: none;\n",
       "      border-radius: 50%;\n",
       "      cursor: pointer;\n",
       "      display: none;\n",
       "      fill: #1967D2;\n",
       "      height: 32px;\n",
       "      padding: 0 0 0 0;\n",
       "      width: 32px;\n",
       "    }\n",
       "\n",
       "    .colab-df-convert:hover {\n",
       "      background-color: #E2EBFA;\n",
       "      box-shadow: 0px 1px 2px rgba(60, 64, 67, 0.3), 0px 1px 3px 1px rgba(60, 64, 67, 0.15);\n",
       "      fill: #174EA6;\n",
       "    }\n",
       "\n",
       "    [theme=dark] .colab-df-convert {\n",
       "      background-color: #3B4455;\n",
       "      fill: #D2E3FC;\n",
       "    }\n",
       "\n",
       "    [theme=dark] .colab-df-convert:hover {\n",
       "      background-color: #434B5C;\n",
       "      box-shadow: 0px 1px 3px 1px rgba(0, 0, 0, 0.15);\n",
       "      filter: drop-shadow(0px 1px 2px rgba(0, 0, 0, 0.3));\n",
       "      fill: #FFFFFF;\n",
       "    }\n",
       "  </style>\n",
       "\n",
       "      <script>\n",
       "        const buttonEl =\n",
       "          document.querySelector('#df-a27e1886-8538-433d-a908-f663fb9cf294 button.colab-df-convert');\n",
       "        buttonEl.style.display =\n",
       "          google.colab.kernel.accessAllowed ? 'block' : 'none';\n",
       "\n",
       "        async function convertToInteractive(key) {\n",
       "          const element = document.querySelector('#df-a27e1886-8538-433d-a908-f663fb9cf294');\n",
       "          const dataTable =\n",
       "            await google.colab.kernel.invokeFunction('convertToInteractive',\n",
       "                                                     [key], {});\n",
       "          if (!dataTable) return;\n",
       "\n",
       "          const docLinkHtml = 'Like what you see? Visit the ' +\n",
       "            '<a target=\"_blank\" href=https://colab.research.google.com/notebooks/data_table.ipynb>data table notebook</a>'\n",
       "            + ' to learn more about interactive tables.';\n",
       "          element.innerHTML = '';\n",
       "          dataTable['output_type'] = 'display_data';\n",
       "          await google.colab.output.renderOutput(dataTable, element);\n",
       "          const docLink = document.createElement('div');\n",
       "          docLink.innerHTML = docLinkHtml;\n",
       "          element.appendChild(docLink);\n",
       "        }\n",
       "      </script>\n",
       "    </div>\n",
       "  </div>\n",
       "  "
      ],
      "text/plain": [
       "                       count       mean  ...       75%        max\n",
       "fixed acidity         1359.0   8.310596  ...   9.20000   15.90000\n",
       "volatile acidity      1359.0   0.529478  ...   0.64000    1.58000\n",
       "citric acid           1359.0   0.272333  ...   0.43000    1.00000\n",
       "residual sugar        1359.0   2.523400  ...   2.60000   15.50000\n",
       "chlorides             1359.0   0.088124  ...   0.09100    0.61100\n",
       "free sulfur dioxide   1359.0  15.893304  ...  21.00000   72.00000\n",
       "total sulfur dioxide  1359.0  46.825975  ...  63.00000  289.00000\n",
       "density               1359.0   0.996709  ...   0.99782    1.00369\n",
       "pH                    1359.0   3.309787  ...   3.40000    4.01000\n",
       "sulphates             1359.0   0.658705  ...   0.73000    2.00000\n",
       "alcohol               1359.0  10.432315  ...  11.10000   14.90000\n",
       "quality               1359.0   2.623252  ...   3.00000    5.00000\n",
       "\n",
       "[12 rows x 8 columns]"
      ]
     },
     "execution_count": 16,
     "metadata": {},
     "output_type": "execute_result"
    }
   ],
   "source": [
    "data.describe().transpose()"
   ]
  },
  {
   "cell_type": "markdown",
   "metadata": {
    "id": "VF0xTECWw-ML"
   },
   "source": [
    "# Normalización"
   ]
  },
  {
   "cell_type": "code",
   "execution_count": 17,
   "metadata": {
    "executionInfo": {
     "elapsed": 42,
     "status": "ok",
     "timestamp": 1644175576687,
     "user": {
      "displayName": "Juliana Amézquita",
      "photoUrl": "https://lh3.googleusercontent.com/a/default-user=s64",
      "userId": "14631385668180993508"
     },
     "user_tz": 300
    },
    "id": "JhxJhZ6q_0eM"
   },
   "outputs": [],
   "source": [
    "# Normalizamos las variables predictoras \n",
    "\n",
    "from sklearn.preprocessing import Normalizer\n",
    "\n",
    "norm = Normalizer()\n",
    "X_prep = norm.fit_transform(data.drop(['quality'], axis=1))\n"
   ]
  },
  {
   "cell_type": "code",
   "execution_count": 18,
   "metadata": {
    "colab": {
     "base_uri": "https://localhost:8080/",
     "height": 305
    },
    "executionInfo": {
     "elapsed": 926,
     "status": "ok",
     "timestamp": 1644175577572,
     "user": {
      "displayName": "Juliana Amézquita",
      "photoUrl": "https://lh3.googleusercontent.com/a/default-user=s64",
      "userId": "14631385668180993508"
     },
     "user_tz": 300
    },
    "id": "0PjmUQQWXn_n",
    "outputId": "5010dcef-6730-47d7-ccbf-72dbae999e2a"
   },
   "outputs": [
    {
     "data": {
      "text/html": [
       "\n",
       "  <div id=\"df-6564e08a-a81f-47d7-8ef5-52c7ee4252dc\">\n",
       "    <div class=\"colab-df-container\">\n",
       "      <div>\n",
       "<style scoped>\n",
       "    .dataframe tbody tr th:only-of-type {\n",
       "        vertical-align: middle;\n",
       "    }\n",
       "\n",
       "    .dataframe tbody tr th {\n",
       "        vertical-align: top;\n",
       "    }\n",
       "\n",
       "    .dataframe thead th {\n",
       "        text-align: right;\n",
       "    }\n",
       "</style>\n",
       "<table border=\"1\" class=\"dataframe\">\n",
       "  <thead>\n",
       "    <tr style=\"text-align: right;\">\n",
       "      <th></th>\n",
       "      <th>fixed acidity</th>\n",
       "      <th>volatile acidity</th>\n",
       "      <th>citric acid</th>\n",
       "      <th>residual sugar</th>\n",
       "      <th>chlorides</th>\n",
       "      <th>free sulfur dioxide</th>\n",
       "      <th>total sulfur dioxide</th>\n",
       "      <th>density</th>\n",
       "      <th>pH</th>\n",
       "      <th>sulphates</th>\n",
       "      <th>alcohol</th>\n",
       "    </tr>\n",
       "  </thead>\n",
       "  <tbody>\n",
       "    <tr>\n",
       "      <th>0</th>\n",
       "      <td>0.195153</td>\n",
       "      <td>0.018460</td>\n",
       "      <td>0.000000</td>\n",
       "      <td>0.050107</td>\n",
       "      <td>0.002004</td>\n",
       "      <td>0.290092</td>\n",
       "      <td>0.896647</td>\n",
       "      <td>0.026314</td>\n",
       "      <td>0.092566</td>\n",
       "      <td>0.014768</td>\n",
       "      <td>0.247896</td>\n",
       "    </tr>\n",
       "    <tr>\n",
       "      <th>1</th>\n",
       "      <td>0.107241</td>\n",
       "      <td>0.012099</td>\n",
       "      <td>0.000000</td>\n",
       "      <td>0.035747</td>\n",
       "      <td>0.001347</td>\n",
       "      <td>0.343722</td>\n",
       "      <td>0.921175</td>\n",
       "      <td>0.013705</td>\n",
       "      <td>0.043996</td>\n",
       "      <td>0.009349</td>\n",
       "      <td>0.134739</td>\n",
       "    </tr>\n",
       "    <tr>\n",
       "      <th>2</th>\n",
       "      <td>0.135457</td>\n",
       "      <td>0.013198</td>\n",
       "      <td>0.000695</td>\n",
       "      <td>0.039942</td>\n",
       "      <td>0.001598</td>\n",
       "      <td>0.260494</td>\n",
       "      <td>0.937777</td>\n",
       "      <td>0.017314</td>\n",
       "      <td>0.056614</td>\n",
       "      <td>0.011288</td>\n",
       "      <td>0.170189</td>\n",
       "    </tr>\n",
       "    <tr>\n",
       "      <th>3</th>\n",
       "      <td>0.174367</td>\n",
       "      <td>0.004359</td>\n",
       "      <td>0.008718</td>\n",
       "      <td>0.029580</td>\n",
       "      <td>0.001168</td>\n",
       "      <td>0.264664</td>\n",
       "      <td>0.934108</td>\n",
       "      <td>0.015537</td>\n",
       "      <td>0.049196</td>\n",
       "      <td>0.009030</td>\n",
       "      <td>0.152571</td>\n",
       "    </tr>\n",
       "    <tr>\n",
       "      <th>4</th>\n",
       "      <td>0.168468</td>\n",
       "      <td>0.015026</td>\n",
       "      <td>0.000000</td>\n",
       "      <td>0.040979</td>\n",
       "      <td>0.001707</td>\n",
       "      <td>0.295957</td>\n",
       "      <td>0.910637</td>\n",
       "      <td>0.022716</td>\n",
       "      <td>0.079908</td>\n",
       "      <td>0.012749</td>\n",
       "      <td>0.214000</td>\n",
       "    </tr>\n",
       "  </tbody>\n",
       "</table>\n",
       "</div>\n",
       "      <button class=\"colab-df-convert\" onclick=\"convertToInteractive('df-6564e08a-a81f-47d7-8ef5-52c7ee4252dc')\"\n",
       "              title=\"Convert this dataframe to an interactive table.\"\n",
       "              style=\"display:none;\">\n",
       "        \n",
       "  <svg xmlns=\"http://www.w3.org/2000/svg\" height=\"24px\"viewBox=\"0 0 24 24\"\n",
       "       width=\"24px\">\n",
       "    <path d=\"M0 0h24v24H0V0z\" fill=\"none\"/>\n",
       "    <path d=\"M18.56 5.44l.94 2.06.94-2.06 2.06-.94-2.06-.94-.94-2.06-.94 2.06-2.06.94zm-11 1L8.5 8.5l.94-2.06 2.06-.94-2.06-.94L8.5 2.5l-.94 2.06-2.06.94zm10 10l.94 2.06.94-2.06 2.06-.94-2.06-.94-.94-2.06-.94 2.06-2.06.94z\"/><path d=\"M17.41 7.96l-1.37-1.37c-.4-.4-.92-.59-1.43-.59-.52 0-1.04.2-1.43.59L10.3 9.45l-7.72 7.72c-.78.78-.78 2.05 0 2.83L4 21.41c.39.39.9.59 1.41.59.51 0 1.02-.2 1.41-.59l7.78-7.78 2.81-2.81c.8-.78.8-2.07 0-2.86zM5.41 20L4 18.59l7.72-7.72 1.47 1.35L5.41 20z\"/>\n",
       "  </svg>\n",
       "      </button>\n",
       "      \n",
       "  <style>\n",
       "    .colab-df-container {\n",
       "      display:flex;\n",
       "      flex-wrap:wrap;\n",
       "      gap: 12px;\n",
       "    }\n",
       "\n",
       "    .colab-df-convert {\n",
       "      background-color: #E8F0FE;\n",
       "      border: none;\n",
       "      border-radius: 50%;\n",
       "      cursor: pointer;\n",
       "      display: none;\n",
       "      fill: #1967D2;\n",
       "      height: 32px;\n",
       "      padding: 0 0 0 0;\n",
       "      width: 32px;\n",
       "    }\n",
       "\n",
       "    .colab-df-convert:hover {\n",
       "      background-color: #E2EBFA;\n",
       "      box-shadow: 0px 1px 2px rgba(60, 64, 67, 0.3), 0px 1px 3px 1px rgba(60, 64, 67, 0.15);\n",
       "      fill: #174EA6;\n",
       "    }\n",
       "\n",
       "    [theme=dark] .colab-df-convert {\n",
       "      background-color: #3B4455;\n",
       "      fill: #D2E3FC;\n",
       "    }\n",
       "\n",
       "    [theme=dark] .colab-df-convert:hover {\n",
       "      background-color: #434B5C;\n",
       "      box-shadow: 0px 1px 3px 1px rgba(0, 0, 0, 0.15);\n",
       "      filter: drop-shadow(0px 1px 2px rgba(0, 0, 0, 0.3));\n",
       "      fill: #FFFFFF;\n",
       "    }\n",
       "  </style>\n",
       "\n",
       "      <script>\n",
       "        const buttonEl =\n",
       "          document.querySelector('#df-6564e08a-a81f-47d7-8ef5-52c7ee4252dc button.colab-df-convert');\n",
       "        buttonEl.style.display =\n",
       "          google.colab.kernel.accessAllowed ? 'block' : 'none';\n",
       "\n",
       "        async function convertToInteractive(key) {\n",
       "          const element = document.querySelector('#df-6564e08a-a81f-47d7-8ef5-52c7ee4252dc');\n",
       "          const dataTable =\n",
       "            await google.colab.kernel.invokeFunction('convertToInteractive',\n",
       "                                                     [key], {});\n",
       "          if (!dataTable) return;\n",
       "\n",
       "          const docLinkHtml = 'Like what you see? Visit the ' +\n",
       "            '<a target=\"_blank\" href=https://colab.research.google.com/notebooks/data_table.ipynb>data table notebook</a>'\n",
       "            + ' to learn more about interactive tables.';\n",
       "          element.innerHTML = '';\n",
       "          dataTable['output_type'] = 'display_data';\n",
       "          await google.colab.output.renderOutput(dataTable, element);\n",
       "          const docLink = document.createElement('div');\n",
       "          docLink.innerHTML = docLinkHtml;\n",
       "          element.appendChild(docLink);\n",
       "        }\n",
       "      </script>\n",
       "    </div>\n",
       "  </div>\n",
       "  "
      ],
      "text/plain": [
       "   fixed acidity  volatile acidity  citric acid  ...        pH  sulphates   alcohol\n",
       "0       0.195153          0.018460     0.000000  ...  0.092566   0.014768  0.247896\n",
       "1       0.107241          0.012099     0.000000  ...  0.043996   0.009349  0.134739\n",
       "2       0.135457          0.013198     0.000695  ...  0.056614   0.011288  0.170189\n",
       "3       0.174367          0.004359     0.008718  ...  0.049196   0.009030  0.152571\n",
       "4       0.168468          0.015026     0.000000  ...  0.079908   0.012749  0.214000\n",
       "\n",
       "[5 rows x 11 columns]"
      ]
     },
     "execution_count": 18,
     "metadata": {},
     "output_type": "execute_result"
    }
   ],
   "source": [
    "X_prep = pd.DataFrame(X_prep, columns= ['fixed acidity', 'volatile acidity', 'citric acid', 'residual sugar',\n",
    "       'chlorides', 'free sulfur dioxide', 'total sulfur dioxide', 'density',\n",
    "       'pH', 'sulphates', 'alcohol'])\n",
    "X_prep.head()"
   ]
  },
  {
   "cell_type": "markdown",
   "metadata": {
    "id": "Wxn4W1nlivYU"
   },
   "source": [
    "Hemos normalizado nuestros datos y ahora se encuentran en un rango entre [0,1]"
   ]
  },
  {
   "cell_type": "code",
   "execution_count": 19,
   "metadata": {
    "colab": {
     "base_uri": "https://localhost:8080/",
     "height": 473
    },
    "executionInfo": {
     "elapsed": 49,
     "status": "ok",
     "timestamp": 1644175577573,
     "user": {
      "displayName": "Juliana Amézquita",
      "photoUrl": "https://lh3.googleusercontent.com/a/default-user=s64",
      "userId": "14631385668180993508"
     },
     "user_tz": 300
    },
    "id": "vX6A4fAgOR-W",
    "outputId": "bb12eb2e-85ba-4878-99fa-074bf10e917b"
   },
   "outputs": [
    {
     "data": {
      "text/html": [
       "\n",
       "  <div id=\"df-fbc814a5-9ae3-45b1-8b5d-66e4de2cd2a1\">\n",
       "    <div class=\"colab-df-container\">\n",
       "      <div>\n",
       "<style scoped>\n",
       "    .dataframe tbody tr th:only-of-type {\n",
       "        vertical-align: middle;\n",
       "    }\n",
       "\n",
       "    .dataframe tbody tr th {\n",
       "        vertical-align: top;\n",
       "    }\n",
       "\n",
       "    .dataframe thead th {\n",
       "        text-align: right;\n",
       "    }\n",
       "</style>\n",
       "<table border=\"1\" class=\"dataframe\">\n",
       "  <thead>\n",
       "    <tr style=\"text-align: right;\">\n",
       "      <th></th>\n",
       "      <th>count</th>\n",
       "      <th>mean</th>\n",
       "      <th>std</th>\n",
       "      <th>min</th>\n",
       "      <th>25%</th>\n",
       "      <th>50%</th>\n",
       "      <th>75%</th>\n",
       "      <th>max</th>\n",
       "    </tr>\n",
       "  </thead>\n",
       "  <tbody>\n",
       "    <tr>\n",
       "      <th>fixed acidity</th>\n",
       "      <td>1359.0</td>\n",
       "      <td>0.219369</td>\n",
       "      <td>0.129666</td>\n",
       "      <td>0.027062</td>\n",
       "      <td>0.113678</td>\n",
       "      <td>0.184837</td>\n",
       "      <td>0.307300</td>\n",
       "      <td>0.686743</td>\n",
       "    </tr>\n",
       "    <tr>\n",
       "      <th>volatile acidity</th>\n",
       "      <td>1359.0</td>\n",
       "      <td>0.013766</td>\n",
       "      <td>0.009584</td>\n",
       "      <td>0.001028</td>\n",
       "      <td>0.007062</td>\n",
       "      <td>0.011247</td>\n",
       "      <td>0.017693</td>\n",
       "      <td>0.090784</td>\n",
       "    </tr>\n",
       "    <tr>\n",
       "      <th>citric acid</th>\n",
       "      <td>1359.0</td>\n",
       "      <td>0.007066</td>\n",
       "      <td>0.007190</td>\n",
       "      <td>0.000000</td>\n",
       "      <td>0.001894</td>\n",
       "      <td>0.004329</td>\n",
       "      <td>0.010101</td>\n",
       "      <td>0.038751</td>\n",
       "    </tr>\n",
       "    <tr>\n",
       "      <th>residual sugar</th>\n",
       "      <td>1359.0</td>\n",
       "      <td>0.063730</td>\n",
       "      <td>0.045847</td>\n",
       "      <td>0.007771</td>\n",
       "      <td>0.033029</td>\n",
       "      <td>0.053258</td>\n",
       "      <td>0.080298</td>\n",
       "      <td>0.486839</td>\n",
       "    </tr>\n",
       "    <tr>\n",
       "      <th>chlorides</th>\n",
       "      <td>1359.0</td>\n",
       "      <td>0.002269</td>\n",
       "      <td>0.001734</td>\n",
       "      <td>0.000112</td>\n",
       "      <td>0.001156</td>\n",
       "      <td>0.001850</td>\n",
       "      <td>0.002814</td>\n",
       "      <td>0.020401</td>\n",
       "    </tr>\n",
       "    <tr>\n",
       "      <th>free sulfur dioxide</th>\n",
       "      <td>1359.0</td>\n",
       "      <td>0.308594</td>\n",
       "      <td>0.114383</td>\n",
       "      <td>0.021791</td>\n",
       "      <td>0.221418</td>\n",
       "      <td>0.295957</td>\n",
       "      <td>0.385796</td>\n",
       "      <td>0.621347</td>\n",
       "    </tr>\n",
       "    <tr>\n",
       "      <th>total sulfur dioxide</th>\n",
       "      <td>1359.0</td>\n",
       "      <td>0.833405</td>\n",
       "      <td>0.120453</td>\n",
       "      <td>0.337742</td>\n",
       "      <td>0.771383</td>\n",
       "      <td>0.858333</td>\n",
       "      <td>0.927303</td>\n",
       "      <td>0.990514</td>\n",
       "    </tr>\n",
       "    <tr>\n",
       "      <th>density</th>\n",
       "      <td>1359.0</td>\n",
       "      <td>0.026068</td>\n",
       "      <td>0.014003</td>\n",
       "      <td>0.003402</td>\n",
       "      <td>0.014514</td>\n",
       "      <td>0.022716</td>\n",
       "      <td>0.036007</td>\n",
       "      <td>0.064150</td>\n",
       "    </tr>\n",
       "    <tr>\n",
       "      <th>pH</th>\n",
       "      <td>1359.0</td>\n",
       "      <td>0.086611</td>\n",
       "      <td>0.046773</td>\n",
       "      <td>0.010311</td>\n",
       "      <td>0.048391</td>\n",
       "      <td>0.076627</td>\n",
       "      <td>0.118860</td>\n",
       "      <td>0.218226</td>\n",
       "    </tr>\n",
       "    <tr>\n",
       "      <th>sulphates</th>\n",
       "      <td>1359.0</td>\n",
       "      <td>0.017035</td>\n",
       "      <td>0.009625</td>\n",
       "      <td>0.001747</td>\n",
       "      <td>0.009314</td>\n",
       "      <td>0.014890</td>\n",
       "      <td>0.023645</td>\n",
       "      <td>0.061545</td>\n",
       "    </tr>\n",
       "    <tr>\n",
       "      <th>alcohol</th>\n",
       "      <td>1359.0</td>\n",
       "      <td>0.275745</td>\n",
       "      <td>0.155544</td>\n",
       "      <td>0.042134</td>\n",
       "      <td>0.148581</td>\n",
       "      <td>0.241678</td>\n",
       "      <td>0.383599</td>\n",
       "      <td>0.738803</td>\n",
       "    </tr>\n",
       "  </tbody>\n",
       "</table>\n",
       "</div>\n",
       "      <button class=\"colab-df-convert\" onclick=\"convertToInteractive('df-fbc814a5-9ae3-45b1-8b5d-66e4de2cd2a1')\"\n",
       "              title=\"Convert this dataframe to an interactive table.\"\n",
       "              style=\"display:none;\">\n",
       "        \n",
       "  <svg xmlns=\"http://www.w3.org/2000/svg\" height=\"24px\"viewBox=\"0 0 24 24\"\n",
       "       width=\"24px\">\n",
       "    <path d=\"M0 0h24v24H0V0z\" fill=\"none\"/>\n",
       "    <path d=\"M18.56 5.44l.94 2.06.94-2.06 2.06-.94-2.06-.94-.94-2.06-.94 2.06-2.06.94zm-11 1L8.5 8.5l.94-2.06 2.06-.94-2.06-.94L8.5 2.5l-.94 2.06-2.06.94zm10 10l.94 2.06.94-2.06 2.06-.94-2.06-.94-.94-2.06-.94 2.06-2.06.94z\"/><path d=\"M17.41 7.96l-1.37-1.37c-.4-.4-.92-.59-1.43-.59-.52 0-1.04.2-1.43.59L10.3 9.45l-7.72 7.72c-.78.78-.78 2.05 0 2.83L4 21.41c.39.39.9.59 1.41.59.51 0 1.02-.2 1.41-.59l7.78-7.78 2.81-2.81c.8-.78.8-2.07 0-2.86zM5.41 20L4 18.59l7.72-7.72 1.47 1.35L5.41 20z\"/>\n",
       "  </svg>\n",
       "      </button>\n",
       "      \n",
       "  <style>\n",
       "    .colab-df-container {\n",
       "      display:flex;\n",
       "      flex-wrap:wrap;\n",
       "      gap: 12px;\n",
       "    }\n",
       "\n",
       "    .colab-df-convert {\n",
       "      background-color: #E8F0FE;\n",
       "      border: none;\n",
       "      border-radius: 50%;\n",
       "      cursor: pointer;\n",
       "      display: none;\n",
       "      fill: #1967D2;\n",
       "      height: 32px;\n",
       "      padding: 0 0 0 0;\n",
       "      width: 32px;\n",
       "    }\n",
       "\n",
       "    .colab-df-convert:hover {\n",
       "      background-color: #E2EBFA;\n",
       "      box-shadow: 0px 1px 2px rgba(60, 64, 67, 0.3), 0px 1px 3px 1px rgba(60, 64, 67, 0.15);\n",
       "      fill: #174EA6;\n",
       "    }\n",
       "\n",
       "    [theme=dark] .colab-df-convert {\n",
       "      background-color: #3B4455;\n",
       "      fill: #D2E3FC;\n",
       "    }\n",
       "\n",
       "    [theme=dark] .colab-df-convert:hover {\n",
       "      background-color: #434B5C;\n",
       "      box-shadow: 0px 1px 3px 1px rgba(0, 0, 0, 0.15);\n",
       "      filter: drop-shadow(0px 1px 2px rgba(0, 0, 0, 0.3));\n",
       "      fill: #FFFFFF;\n",
       "    }\n",
       "  </style>\n",
       "\n",
       "      <script>\n",
       "        const buttonEl =\n",
       "          document.querySelector('#df-fbc814a5-9ae3-45b1-8b5d-66e4de2cd2a1 button.colab-df-convert');\n",
       "        buttonEl.style.display =\n",
       "          google.colab.kernel.accessAllowed ? 'block' : 'none';\n",
       "\n",
       "        async function convertToInteractive(key) {\n",
       "          const element = document.querySelector('#df-fbc814a5-9ae3-45b1-8b5d-66e4de2cd2a1');\n",
       "          const dataTable =\n",
       "            await google.colab.kernel.invokeFunction('convertToInteractive',\n",
       "                                                     [key], {});\n",
       "          if (!dataTable) return;\n",
       "\n",
       "          const docLinkHtml = 'Like what you see? Visit the ' +\n",
       "            '<a target=\"_blank\" href=https://colab.research.google.com/notebooks/data_table.ipynb>data table notebook</a>'\n",
       "            + ' to learn more about interactive tables.';\n",
       "          element.innerHTML = '';\n",
       "          dataTable['output_type'] = 'display_data';\n",
       "          await google.colab.output.renderOutput(dataTable, element);\n",
       "          const docLink = document.createElement('div');\n",
       "          docLink.innerHTML = docLinkHtml;\n",
       "          element.appendChild(docLink);\n",
       "        }\n",
       "      </script>\n",
       "    </div>\n",
       "  </div>\n",
       "  "
      ],
      "text/plain": [
       "                       count      mean       std  ...       50%       75%       max\n",
       "fixed acidity         1359.0  0.219369  0.129666  ...  0.184837  0.307300  0.686743\n",
       "volatile acidity      1359.0  0.013766  0.009584  ...  0.011247  0.017693  0.090784\n",
       "citric acid           1359.0  0.007066  0.007190  ...  0.004329  0.010101  0.038751\n",
       "residual sugar        1359.0  0.063730  0.045847  ...  0.053258  0.080298  0.486839\n",
       "chlorides             1359.0  0.002269  0.001734  ...  0.001850  0.002814  0.020401\n",
       "free sulfur dioxide   1359.0  0.308594  0.114383  ...  0.295957  0.385796  0.621347\n",
       "total sulfur dioxide  1359.0  0.833405  0.120453  ...  0.858333  0.927303  0.990514\n",
       "density               1359.0  0.026068  0.014003  ...  0.022716  0.036007  0.064150\n",
       "pH                    1359.0  0.086611  0.046773  ...  0.076627  0.118860  0.218226\n",
       "sulphates             1359.0  0.017035  0.009625  ...  0.014890  0.023645  0.061545\n",
       "alcohol               1359.0  0.275745  0.155544  ...  0.241678  0.383599  0.738803\n",
       "\n",
       "[11 rows x 8 columns]"
      ]
     },
     "execution_count": 19,
     "metadata": {},
     "output_type": "execute_result"
    }
   ],
   "source": [
    "X_prep.describe().transpose()"
   ]
  },
  {
   "cell_type": "markdown",
   "metadata": {
    "id": "Ng1nvJxP_R_H"
   },
   "source": [
    "# Separación de los datos train_test_split"
   ]
  },
  {
   "cell_type": "code",
   "execution_count": 20,
   "metadata": {
    "colab": {
     "base_uri": "https://localhost:8080/"
    },
    "executionInfo": {
     "elapsed": 44,
     "status": "ok",
     "timestamp": 1644175577574,
     "user": {
      "displayName": "Juliana Amézquita",
      "photoUrl": "https://lh3.googleusercontent.com/a/default-user=s64",
      "userId": "14631385668180993508"
     },
     "user_tz": 300
    },
    "id": "mERsTa4BtNZA",
    "outputId": "20a3c05a-0024-48ac-f0b8-b521927a2e2b"
   },
   "outputs": [
    {
     "data": {
      "text/plain": [
       "pandas.core.series.Series"
      ]
     },
     "execution_count": 20,
     "metadata": {},
     "output_type": "execute_result"
    }
   ],
   "source": [
    "# Separamos la variable objetivo\n",
    "y = data['quality']\n",
    "type(y)"
   ]
  },
  {
   "cell_type": "markdown",
   "metadata": {
    "id": "qL8IGi8Pxbvo"
   },
   "source": [
    "Se dividen los datos en un grupo de train y de test de la siguiente manera: un 80% para el conjunto de entrenamiento (X_train y y_train) y un 20% para el conjunto de evaluación o test (X_testy y_test). Dado que tenemos un conjunto de datos desbalanceado hacemos uso del parámetro stratify que ayuda a que cuando se haga la división de los subconjuntos de entrenamiento y prueba se haga con las mismas proporciones de etiquetas de clase que el conjunto de datos original."
   ]
  },
  {
   "cell_type": "code",
   "execution_count": 21,
   "metadata": {
    "colab": {
     "base_uri": "https://localhost:8080/"
    },
    "executionInfo": {
     "elapsed": 33,
     "status": "ok",
     "timestamp": 1644175577574,
     "user": {
      "displayName": "Juliana Amézquita",
      "photoUrl": "https://lh3.googleusercontent.com/a/default-user=s64",
      "userId": "14631385668180993508"
     },
     "user_tz": 300
    },
    "id": "ttZWlMqF_Yub",
    "outputId": "2c3f6ab1-f6d5-4f62-d93a-4ed0ae1f7b8d"
   },
   "outputs": [
    {
     "data": {
      "text/plain": [
       "((1087, 11), (272, 11), (1087,), (272,))"
      ]
     },
     "execution_count": 21,
     "metadata": {},
     "output_type": "execute_result"
    }
   ],
   "source": [
    "from sklearn.model_selection import train_test_split\n",
    "Xtrain, Xtest, ytrain, ytest = train_test_split(X_prep, y, test_size=0.2, random_state=42, stratify= y)\n",
    "\n",
    "Xtrain.shape, Xtest.shape, ytrain.shape, ytest.shape"
   ]
  },
  {
   "cell_type": "markdown",
   "metadata": {
    "id": "zZsIW7XHxiRE"
   },
   "source": [
    "# Modelo Random Forest\n",
    "\n",
    "Utilizamos un modelo de Clasificación Random Forest como modelo base para comparar sus resultados con los resultados de un modelo de red neuronal.\n",
    "\n",
    "El modelo de Random Forest utiliza métodos de bagging, lo que quiere decir que ajustan múltiples modelos, cada uno con un subconjunto distinto de datos de entrenamiento. Lo cual es muy bueno porque el modelo logra encontrar un equilibrio entre sesgo y varianza.\n",
    "\n",
    "Se instancia utilizando el parámetro class_weight “balanced” ya que nuestros datos están desbalanceados y entropia para la ganancia de información entendida como la función para medir la calidad de una división. Luego se mediante GridSearchCV con validación repetida buscamos los mejores hiperparámetros.\n",
    "\n",
    "\n",
    "\n"
   ]
  },
  {
   "cell_type": "code",
   "execution_count": 22,
   "metadata": {
    "colab": {
     "base_uri": "https://localhost:8080/"
    },
    "executionInfo": {
     "elapsed": 427845,
     "status": "ok",
     "timestamp": 1644176005393,
     "user": {
      "displayName": "Juliana Amézquita",
      "photoUrl": "https://lh3.googleusercontent.com/a/default-user=s64",
      "userId": "14631385668180993508"
     },
     "user_tz": 300
    },
    "id": "a83SM1JavDlY",
    "outputId": "ecda4599-c655-405c-86a3-bb9e55e973ec"
   },
   "outputs": [
    {
     "name": "stdout",
     "output_type": "stream",
     "text": [
      "Fitting 6 folds for each of 243 candidates, totalling 1458 fits\n"
     ]
    },
    {
     "data": {
      "text/plain": [
       "GridSearchCV(cv=RepeatedStratifiedKFold(n_repeats=2, n_splits=3, random_state=None),\n",
       "             estimator=RandomForestClassifier(class_weight='balanced',\n",
       "                                              criterion='entropy'),\n",
       "             n_jobs=-1,\n",
       "             param_grid={'ccp_alpha': [0, 5, 15], 'max_depth': [None, 5, 15],\n",
       "                         'max_features': ['auto', 2, 3],\n",
       "                         'min_samples_leaf': [1, 10, 15],\n",
       "                         'min_samples_split': [2, 10, 15]},\n",
       "             return_train_score=True, verbose=3)"
      ]
     },
     "execution_count": 22,
     "metadata": {},
     "output_type": "execute_result"
    }
   ],
   "source": [
    "from sklearn.ensemble import RandomForestClassifier\n",
    "from sklearn.model_selection import GridSearchCV\n",
    "from sklearn.model_selection import RepeatedStratifiedKFold\n",
    "\n",
    "# Hiperparámetros a optimizar \n",
    "param_grid = {'max_depth': [None, 5,15], # La profundidad máxima que puede alcanzar los árboles.\n",
    "              'ccp_alpha':[0,5,15],  # Parámetro de complejidad utilizado para la poda\n",
    "              'max_features': ['auto',2,3], # La cantidad de predictores que se deben considerar al buscar la mejor división, 'auto'(significa que utiliza todos los predictores)\n",
    "              'min_samples_split':[2,10,15], # El número mínimo de muestras requeridas para dividir un nodo interno \n",
    "              'min_samples_leaf':[1,10,15],  # El número mínimo de muestras requeridas para estar en un nodo hoja        \n",
    "                   \n",
    "}\n",
    "\n",
    "# GridSearchCV por validación cruzada repetida \n",
    "\n",
    "grid = GridSearchCV(estimator = RandomForestClassifier(class_weight= 'balanced', criterion= 'entropy'),\n",
    "                    param_grid = param_grid,\n",
    "                    n_jobs= -1,\n",
    "                    cv= RepeatedStratifiedKFold(n_splits=3, n_repeats=2),\n",
    "                    refit= True,\n",
    "                    verbose= 3,\n",
    "                    return_train_score = True)\n",
    "\n",
    "grid.fit(Xtrain, ytrain)"
   ]
  },
  {
   "cell_type": "code",
   "execution_count": 23,
   "metadata": {
    "colab": {
     "base_uri": "https://localhost:8080/"
    },
    "executionInfo": {
     "elapsed": 96,
     "status": "ok",
     "timestamp": 1644176005394,
     "user": {
      "displayName": "Juliana Amézquita",
      "photoUrl": "https://lh3.googleusercontent.com/a/default-user=s64",
      "userId": "14631385668180993508"
     },
     "user_tz": 300
    },
    "id": "UTU4SHg54oB0",
    "outputId": "4b2f6a85-efb9-4d99-a632-cd38c15d4cd0"
   },
   "outputs": [
    {
     "name": "stdout",
     "output_type": "stream",
     "text": [
      "Mejores hiperparámetros:  {'ccp_alpha': 0, 'max_depth': 15, 'max_features': 3, 'min_samples_leaf': 1, 'min_samples_split': 2}\n"
     ]
    }
   ],
   "source": [
    "print('Mejores hiperparámetros: ', grid.best_params_)"
   ]
  },
  {
   "cell_type": "markdown",
   "metadata": {
    "id": "xShOjfpH5rOt"
   },
   "source": [
    "## Evaluación del modelo"
   ]
  },
  {
   "cell_type": "markdown",
   "metadata": {
    "id": "tDDuUoSkFaSg"
   },
   "source": [
    "Para evaluar el modelo utilzamos como métrica de evaluación el puntaje F1 que es el promedio ponderado de 'precision' y 'recall'. Recordemos que 'precision' es la relación entre las observaciones positivas predichas correctamente y el total de observaciones positivas y 'recall' es la tasa de verdaderos positivos, es decir, la tasa de observaciones positivas predichas correctamente respecto a todas las observaciones positivas reales. \n",
    "\n",
    "Por lo anterior, este resultado tiene en cuenta tanto los falsos positivos y falsos negativos y por eso se considera como mejor métrica en datasets desbalanceados. La ecuación del puntaje F1 es como sigue:\n",
    "\n",
    "\n",
    "<center> F1 = 2 * (precision * recall) / (precision + recall)<center>"
   ]
  },
  {
   "cell_type": "code",
   "execution_count": 24,
   "metadata": {
    "colab": {
     "base_uri": "https://localhost:8080/"
    },
    "executionInfo": {
     "elapsed": 58,
     "status": "ok",
     "timestamp": 1644176005395,
     "user": {
      "displayName": "Juliana Amézquita",
      "photoUrl": "https://lh3.googleusercontent.com/a/default-user=s64",
      "userId": "14631385668180993508"
     },
     "user_tz": 300
    },
    "id": "u9IPfrrM467P",
    "outputId": "6b6af9bd-ba95-44a5-9df9-99dfd4c8b54d"
   },
   "outputs": [
    {
     "name": "stdout",
     "output_type": "stream",
     "text": [
      "El puntaje de F1 es: 57.14 %\n",
      "El puntaje de balanced accuracy es: 27.3 %\n"
     ]
    }
   ],
   "source": [
    "from sklearn.metrics import f1_score, balanced_accuracy_score\n",
    "\n",
    "modelo_optimizado = grid.best_estimator_\n",
    "predicciones = modelo_optimizado.predict(X = Xtest)\n",
    "\n",
    "metricaf1 = f1_score(ytest, predicciones, average='micro', labels=np.unique(predicciones)) # average = mircro --> Calcule métricas globalmente contando el total de verdaderos positivos, falsos negativos y falsos positivos.\n",
    "print(f\"El puntaje de F1 es: {round(100 * metricaf1, 2)} %\")\n",
    "\n",
    "balancedAccuracy = balanced_accuracy_score(ytest, predicciones)\n",
    "print(f\"El puntaje de balanced accuracy es: {round(100 * balancedAccuracy, 2)} %\")"
   ]
  },
  {
   "cell_type": "code",
   "execution_count": 25,
   "metadata": {
    "colab": {
     "base_uri": "https://localhost:8080/",
     "height": 255
    },
    "executionInfo": {
     "elapsed": 55,
     "status": "ok",
     "timestamp": 1644176005396,
     "user": {
      "displayName": "Juliana Amézquita",
      "photoUrl": "https://lh3.googleusercontent.com/a/default-user=s64",
      "userId": "14631385668180993508"
     },
     "user_tz": 300
    },
    "id": "1j_3tp9-5fGc",
    "outputId": "459598e2-231a-4c5a-a9ff-e693fcdfb18c"
   },
   "outputs": [
    {
     "name": "stdout",
     "output_type": "stream",
     "text": [
      "Matriz de confusión\n"
     ]
    },
    {
     "data": {
      "text/html": [
       "\n",
       "  <div id=\"df-93c5ca97-0926-46b5-aed8-ffb27767d57d\">\n",
       "    <div class=\"colab-df-container\">\n",
       "      <div>\n",
       "<style scoped>\n",
       "    .dataframe tbody tr th:only-of-type {\n",
       "        vertical-align: middle;\n",
       "    }\n",
       "\n",
       "    .dataframe tbody tr th {\n",
       "        vertical-align: top;\n",
       "    }\n",
       "\n",
       "    .dataframe thead th {\n",
       "        text-align: right;\n",
       "    }\n",
       "</style>\n",
       "<table border=\"1\" class=\"dataframe\">\n",
       "  <thead>\n",
       "    <tr style=\"text-align: right;\">\n",
       "      <th></th>\n",
       "      <th>0</th>\n",
       "      <th>1</th>\n",
       "      <th>2</th>\n",
       "      <th>3</th>\n",
       "      <th>4</th>\n",
       "      <th>5</th>\n",
       "    </tr>\n",
       "  </thead>\n",
       "  <tbody>\n",
       "    <tr>\n",
       "      <th>0</th>\n",
       "      <td>0</td>\n",
       "      <td>1</td>\n",
       "      <td>1</td>\n",
       "      <td>0</td>\n",
       "      <td>0</td>\n",
       "      <td>0</td>\n",
       "    </tr>\n",
       "    <tr>\n",
       "      <th>1</th>\n",
       "      <td>0</td>\n",
       "      <td>0</td>\n",
       "      <td>7</td>\n",
       "      <td>4</td>\n",
       "      <td>0</td>\n",
       "      <td>0</td>\n",
       "    </tr>\n",
       "    <tr>\n",
       "      <th>2</th>\n",
       "      <td>0</td>\n",
       "      <td>0</td>\n",
       "      <td>73</td>\n",
       "      <td>42</td>\n",
       "      <td>1</td>\n",
       "      <td>0</td>\n",
       "    </tr>\n",
       "    <tr>\n",
       "      <th>3</th>\n",
       "      <td>0</td>\n",
       "      <td>0</td>\n",
       "      <td>30</td>\n",
       "      <td>69</td>\n",
       "      <td>8</td>\n",
       "      <td>0</td>\n",
       "    </tr>\n",
       "    <tr>\n",
       "      <th>4</th>\n",
       "      <td>0</td>\n",
       "      <td>0</td>\n",
       "      <td>4</td>\n",
       "      <td>17</td>\n",
       "      <td>12</td>\n",
       "      <td>0</td>\n",
       "    </tr>\n",
       "    <tr>\n",
       "      <th>5</th>\n",
       "      <td>0</td>\n",
       "      <td>0</td>\n",
       "      <td>0</td>\n",
       "      <td>2</td>\n",
       "      <td>1</td>\n",
       "      <td>0</td>\n",
       "    </tr>\n",
       "  </tbody>\n",
       "</table>\n",
       "</div>\n",
       "      <button class=\"colab-df-convert\" onclick=\"convertToInteractive('df-93c5ca97-0926-46b5-aed8-ffb27767d57d')\"\n",
       "              title=\"Convert this dataframe to an interactive table.\"\n",
       "              style=\"display:none;\">\n",
       "        \n",
       "  <svg xmlns=\"http://www.w3.org/2000/svg\" height=\"24px\"viewBox=\"0 0 24 24\"\n",
       "       width=\"24px\">\n",
       "    <path d=\"M0 0h24v24H0V0z\" fill=\"none\"/>\n",
       "    <path d=\"M18.56 5.44l.94 2.06.94-2.06 2.06-.94-2.06-.94-.94-2.06-.94 2.06-2.06.94zm-11 1L8.5 8.5l.94-2.06 2.06-.94-2.06-.94L8.5 2.5l-.94 2.06-2.06.94zm10 10l.94 2.06.94-2.06 2.06-.94-2.06-.94-.94-2.06-.94 2.06-2.06.94z\"/><path d=\"M17.41 7.96l-1.37-1.37c-.4-.4-.92-.59-1.43-.59-.52 0-1.04.2-1.43.59L10.3 9.45l-7.72 7.72c-.78.78-.78 2.05 0 2.83L4 21.41c.39.39.9.59 1.41.59.51 0 1.02-.2 1.41-.59l7.78-7.78 2.81-2.81c.8-.78.8-2.07 0-2.86zM5.41 20L4 18.59l7.72-7.72 1.47 1.35L5.41 20z\"/>\n",
       "  </svg>\n",
       "      </button>\n",
       "      \n",
       "  <style>\n",
       "    .colab-df-container {\n",
       "      display:flex;\n",
       "      flex-wrap:wrap;\n",
       "      gap: 12px;\n",
       "    }\n",
       "\n",
       "    .colab-df-convert {\n",
       "      background-color: #E8F0FE;\n",
       "      border: none;\n",
       "      border-radius: 50%;\n",
       "      cursor: pointer;\n",
       "      display: none;\n",
       "      fill: #1967D2;\n",
       "      height: 32px;\n",
       "      padding: 0 0 0 0;\n",
       "      width: 32px;\n",
       "    }\n",
       "\n",
       "    .colab-df-convert:hover {\n",
       "      background-color: #E2EBFA;\n",
       "      box-shadow: 0px 1px 2px rgba(60, 64, 67, 0.3), 0px 1px 3px 1px rgba(60, 64, 67, 0.15);\n",
       "      fill: #174EA6;\n",
       "    }\n",
       "\n",
       "    [theme=dark] .colab-df-convert {\n",
       "      background-color: #3B4455;\n",
       "      fill: #D2E3FC;\n",
       "    }\n",
       "\n",
       "    [theme=dark] .colab-df-convert:hover {\n",
       "      background-color: #434B5C;\n",
       "      box-shadow: 0px 1px 3px 1px rgba(0, 0, 0, 0.15);\n",
       "      filter: drop-shadow(0px 1px 2px rgba(0, 0, 0, 0.3));\n",
       "      fill: #FFFFFF;\n",
       "    }\n",
       "  </style>\n",
       "\n",
       "      <script>\n",
       "        const buttonEl =\n",
       "          document.querySelector('#df-93c5ca97-0926-46b5-aed8-ffb27767d57d button.colab-df-convert');\n",
       "        buttonEl.style.display =\n",
       "          google.colab.kernel.accessAllowed ? 'block' : 'none';\n",
       "\n",
       "        async function convertToInteractive(key) {\n",
       "          const element = document.querySelector('#df-93c5ca97-0926-46b5-aed8-ffb27767d57d');\n",
       "          const dataTable =\n",
       "            await google.colab.kernel.invokeFunction('convertToInteractive',\n",
       "                                                     [key], {});\n",
       "          if (!dataTable) return;\n",
       "\n",
       "          const docLinkHtml = 'Like what you see? Visit the ' +\n",
       "            '<a target=\"_blank\" href=https://colab.research.google.com/notebooks/data_table.ipynb>data table notebook</a>'\n",
       "            + ' to learn more about interactive tables.';\n",
       "          element.innerHTML = '';\n",
       "          dataTable['output_type'] = 'display_data';\n",
       "          await google.colab.output.renderOutput(dataTable, element);\n",
       "          const docLink = document.createElement('div');\n",
       "          docLink.innerHTML = docLinkHtml;\n",
       "          element.appendChild(docLink);\n",
       "        }\n",
       "      </script>\n",
       "    </div>\n",
       "  </div>\n",
       "  "
      ],
      "text/plain": [
       "   0  1   2   3   4  5\n",
       "0  0  1   1   0   0  0\n",
       "1  0  0   7   4   0  0\n",
       "2  0  0  73  42   1  0\n",
       "3  0  0  30  69   8  0\n",
       "4  0  0   4  17  12  0\n",
       "5  0  0   0   2   1  0"
      ]
     },
     "execution_count": 25,
     "metadata": {},
     "output_type": "execute_result"
    }
   ],
   "source": [
    "from sklearn.metrics import confusion_matrix\n",
    "\n",
    "print(\"Matriz de confusión\")\n",
    "pd.DataFrame(confusion_matrix(ytest, predicciones),\n",
    "             columns= ['0', '1', '2', '3', '4', '5'],\n",
    "             index = ['0', '1', '2', '3', '4', '5'])"
   ]
  },
  {
   "cell_type": "code",
   "execution_count": 26,
   "metadata": {
    "colab": {
     "base_uri": "https://localhost:8080/"
    },
    "executionInfo": {
     "elapsed": 50,
     "status": "ok",
     "timestamp": 1644176005397,
     "user": {
      "displayName": "Juliana Amézquita",
      "photoUrl": "https://lh3.googleusercontent.com/a/default-user=s64",
      "userId": "14631385668180993508"
     },
     "user_tz": 300
    },
    "id": "3l29biYR5poP",
    "outputId": "a3932871-0abe-4307-e03c-6edae893ca26"
   },
   "outputs": [
    {
     "name": "stdout",
     "output_type": "stream",
     "text": [
      "              precision    recall  f1-score   support\n",
      "\n",
      "           0       0.00      0.00      0.00         2\n",
      "           1       0.00      0.00      0.00        11\n",
      "           2       0.63      0.63      0.63       116\n",
      "           3       0.51      0.64      0.57       107\n",
      "           4       0.55      0.36      0.44        33\n",
      "           5       0.00      0.00      0.00         3\n",
      "\n",
      "    accuracy                           0.57       272\n",
      "   macro avg       0.28      0.27      0.27       272\n",
      "weighted avg       0.54      0.57      0.55       272\n",
      "\n"
     ]
    }
   ],
   "source": [
    "import warnings\n",
    "warnings.filterwarnings('ignore')\n",
    "from sklearn.metrics import classification_report\n",
    "print(classification_report(ytest, predicciones))"
   ]
  },
  {
   "cell_type": "markdown",
   "metadata": {
    "id": "Ud3c3NfMDxtc"
   },
   "source": [
    "Los resultados obtenidos no son buenos debido al desbalanceo que existe entre las clases de la variable objetivo. Como se evidencia en el reporte de clasificación y en la matriz de confusión, el modelo no es capaz de hacer predicciones para las clases 0, 1 y 5, esto debido a que son las clases minoritariamente representadas en el dataset. Realmente, para solucionar esta situación y mejorar las predicciones de los modelos es necesario tener más datos para representar cada una de las clases en el dataset o definir el problema como un  problema de clasificación binaria en donde sólo se tengan dos clases (buena calidad o mala calidad, 0 y 1 respectivamente). En una próxima entrega podríamos intentar correr los modelos bajo un nuevo problema de clasificación binaria y ver cómo se comporta. "
   ]
  },
  {
   "cell_type": "markdown",
   "metadata": {
    "id": "DCBXmqH_IkG3"
   },
   "source": [
    "## Importancia de los predictores"
   ]
  },
  {
   "cell_type": "code",
   "execution_count": 27,
   "metadata": {
    "colab": {
     "base_uri": "https://localhost:8080/",
     "height": 394
    },
    "executionInfo": {
     "elapsed": 49,
     "status": "ok",
     "timestamp": 1644176005400,
     "user": {
      "displayName": "Juliana Amézquita",
      "photoUrl": "https://lh3.googleusercontent.com/a/default-user=s64",
      "userId": "14631385668180993508"
     },
     "user_tz": 300
    },
    "id": "IRJ890pgIn4B",
    "outputId": "8037d8f5-5dff-4353-8dbe-2740651a16fc"
   },
   "outputs": [
    {
     "data": {
      "text/html": [
       "\n",
       "  <div id=\"df-70bc87e4-cc7e-4cb7-943b-af397cae9342\">\n",
       "    <div class=\"colab-df-container\">\n",
       "      <div>\n",
       "<style scoped>\n",
       "    .dataframe tbody tr th:only-of-type {\n",
       "        vertical-align: middle;\n",
       "    }\n",
       "\n",
       "    .dataframe tbody tr th {\n",
       "        vertical-align: top;\n",
       "    }\n",
       "\n",
       "    .dataframe thead th {\n",
       "        text-align: right;\n",
       "    }\n",
       "</style>\n",
       "<table border=\"1\" class=\"dataframe\">\n",
       "  <thead>\n",
       "    <tr style=\"text-align: right;\">\n",
       "      <th></th>\n",
       "      <th>Variable Predictora</th>\n",
       "      <th>Importancia</th>\n",
       "    </tr>\n",
       "  </thead>\n",
       "  <tbody>\n",
       "    <tr>\n",
       "      <th>1</th>\n",
       "      <td>volatile acidity</td>\n",
       "      <td>0.148700</td>\n",
       "    </tr>\n",
       "    <tr>\n",
       "      <th>4</th>\n",
       "      <td>chlorides</td>\n",
       "      <td>0.113626</td>\n",
       "    </tr>\n",
       "    <tr>\n",
       "      <th>9</th>\n",
       "      <td>sulphates</td>\n",
       "      <td>0.099634</td>\n",
       "    </tr>\n",
       "    <tr>\n",
       "      <th>10</th>\n",
       "      <td>alcohol</td>\n",
       "      <td>0.096158</td>\n",
       "    </tr>\n",
       "    <tr>\n",
       "      <th>2</th>\n",
       "      <td>citric acid</td>\n",
       "      <td>0.094805</td>\n",
       "    </tr>\n",
       "    <tr>\n",
       "      <th>6</th>\n",
       "      <td>total sulfur dioxide</td>\n",
       "      <td>0.086078</td>\n",
       "    </tr>\n",
       "    <tr>\n",
       "      <th>3</th>\n",
       "      <td>residual sugar</td>\n",
       "      <td>0.081905</td>\n",
       "    </tr>\n",
       "    <tr>\n",
       "      <th>7</th>\n",
       "      <td>density</td>\n",
       "      <td>0.077083</td>\n",
       "    </tr>\n",
       "    <tr>\n",
       "      <th>8</th>\n",
       "      <td>pH</td>\n",
       "      <td>0.074177</td>\n",
       "    </tr>\n",
       "    <tr>\n",
       "      <th>0</th>\n",
       "      <td>fixed acidity</td>\n",
       "      <td>0.070224</td>\n",
       "    </tr>\n",
       "    <tr>\n",
       "      <th>5</th>\n",
       "      <td>free sulfur dioxide</td>\n",
       "      <td>0.057609</td>\n",
       "    </tr>\n",
       "  </tbody>\n",
       "</table>\n",
       "</div>\n",
       "      <button class=\"colab-df-convert\" onclick=\"convertToInteractive('df-70bc87e4-cc7e-4cb7-943b-af397cae9342')\"\n",
       "              title=\"Convert this dataframe to an interactive table.\"\n",
       "              style=\"display:none;\">\n",
       "        \n",
       "  <svg xmlns=\"http://www.w3.org/2000/svg\" height=\"24px\"viewBox=\"0 0 24 24\"\n",
       "       width=\"24px\">\n",
       "    <path d=\"M0 0h24v24H0V0z\" fill=\"none\"/>\n",
       "    <path d=\"M18.56 5.44l.94 2.06.94-2.06 2.06-.94-2.06-.94-.94-2.06-.94 2.06-2.06.94zm-11 1L8.5 8.5l.94-2.06 2.06-.94-2.06-.94L8.5 2.5l-.94 2.06-2.06.94zm10 10l.94 2.06.94-2.06 2.06-.94-2.06-.94-.94-2.06-.94 2.06-2.06.94z\"/><path d=\"M17.41 7.96l-1.37-1.37c-.4-.4-.92-.59-1.43-.59-.52 0-1.04.2-1.43.59L10.3 9.45l-7.72 7.72c-.78.78-.78 2.05 0 2.83L4 21.41c.39.39.9.59 1.41.59.51 0 1.02-.2 1.41-.59l7.78-7.78 2.81-2.81c.8-.78.8-2.07 0-2.86zM5.41 20L4 18.59l7.72-7.72 1.47 1.35L5.41 20z\"/>\n",
       "  </svg>\n",
       "      </button>\n",
       "      \n",
       "  <style>\n",
       "    .colab-df-container {\n",
       "      display:flex;\n",
       "      flex-wrap:wrap;\n",
       "      gap: 12px;\n",
       "    }\n",
       "\n",
       "    .colab-df-convert {\n",
       "      background-color: #E8F0FE;\n",
       "      border: none;\n",
       "      border-radius: 50%;\n",
       "      cursor: pointer;\n",
       "      display: none;\n",
       "      fill: #1967D2;\n",
       "      height: 32px;\n",
       "      padding: 0 0 0 0;\n",
       "      width: 32px;\n",
       "    }\n",
       "\n",
       "    .colab-df-convert:hover {\n",
       "      background-color: #E2EBFA;\n",
       "      box-shadow: 0px 1px 2px rgba(60, 64, 67, 0.3), 0px 1px 3px 1px rgba(60, 64, 67, 0.15);\n",
       "      fill: #174EA6;\n",
       "    }\n",
       "\n",
       "    [theme=dark] .colab-df-convert {\n",
       "      background-color: #3B4455;\n",
       "      fill: #D2E3FC;\n",
       "    }\n",
       "\n",
       "    [theme=dark] .colab-df-convert:hover {\n",
       "      background-color: #434B5C;\n",
       "      box-shadow: 0px 1px 3px 1px rgba(0, 0, 0, 0.15);\n",
       "      filter: drop-shadow(0px 1px 2px rgba(0, 0, 0, 0.3));\n",
       "      fill: #FFFFFF;\n",
       "    }\n",
       "  </style>\n",
       "\n",
       "      <script>\n",
       "        const buttonEl =\n",
       "          document.querySelector('#df-70bc87e4-cc7e-4cb7-943b-af397cae9342 button.colab-df-convert');\n",
       "        buttonEl.style.display =\n",
       "          google.colab.kernel.accessAllowed ? 'block' : 'none';\n",
       "\n",
       "        async function convertToInteractive(key) {\n",
       "          const element = document.querySelector('#df-70bc87e4-cc7e-4cb7-943b-af397cae9342');\n",
       "          const dataTable =\n",
       "            await google.colab.kernel.invokeFunction('convertToInteractive',\n",
       "                                                     [key], {});\n",
       "          if (!dataTable) return;\n",
       "\n",
       "          const docLinkHtml = 'Like what you see? Visit the ' +\n",
       "            '<a target=\"_blank\" href=https://colab.research.google.com/notebooks/data_table.ipynb>data table notebook</a>'\n",
       "            + ' to learn more about interactive tables.';\n",
       "          element.innerHTML = '';\n",
       "          dataTable['output_type'] = 'display_data';\n",
       "          await google.colab.output.renderOutput(dataTable, element);\n",
       "          const docLink = document.createElement('div');\n",
       "          docLink.innerHTML = docLinkHtml;\n",
       "          element.appendChild(docLink);\n",
       "        }\n",
       "      </script>\n",
       "    </div>\n",
       "  </div>\n",
       "  "
      ],
      "text/plain": [
       "     Variable Predictora  Importancia\n",
       "1       volatile acidity     0.148700\n",
       "4              chlorides     0.113626\n",
       "9              sulphates     0.099634\n",
       "10               alcohol     0.096158\n",
       "2            citric acid     0.094805\n",
       "6   total sulfur dioxide     0.086078\n",
       "3         residual sugar     0.081905\n",
       "7                density     0.077083\n",
       "8                     pH     0.074177\n",
       "0          fixed acidity     0.070224\n",
       "5    free sulfur dioxide     0.057609"
      ]
     },
     "execution_count": 27,
     "metadata": {},
     "output_type": "execute_result"
    }
   ],
   "source": [
    "importancia_predictores = pd.DataFrame(\n",
    "                            {'Variable Predictora': list(Xtest),\n",
    "                             'Importancia': modelo_optimizado.feature_importances_}\n",
    "                            )\n",
    "importancia_predictores.sort_values('Importancia', ascending=False)"
   ]
  },
  {
   "cell_type": "markdown",
   "metadata": {},
   "source": [
    "El modelo utiliza principalmente los atributos volatile acidity y chlorides para hacer las predicciones. Esto coincide en parte con el análisis de correlaciones que se había hecho antes. "
   ]
  },
  {
   "cell_type": "markdown",
   "metadata": {
    "id": "p6xPwC_0JbGu"
   },
   "source": [
    "# Modelo Redes Neuronales"
   ]
  },
  {
   "cell_type": "markdown",
   "metadata": {
    "id": "TytaPbPY9mTH"
   },
   "source": [
    "## Preprocesado de datos\n",
    "\n",
    "Antes de entrenar la red neuronal se usará la codificación de OneHot para transformar las etiquetas de la variable objetivo en un vector."
   ]
  },
  {
   "cell_type": "code",
   "execution_count": 28,
   "metadata": {
    "executionInfo": {
     "elapsed": 2340,
     "status": "ok",
     "timestamp": 1644176007698,
     "user": {
      "displayName": "Juliana Amézquita",
      "photoUrl": "https://lh3.googleusercontent.com/a/default-user=s64",
      "userId": "14631385668180993508"
     },
     "user_tz": 300
    },
    "id": "1XEWaLFZ9b_x"
   },
   "outputs": [],
   "source": [
    "from sklearn.preprocessing import OneHotEncoder\n",
    "from tensorflow.keras.utils import to_categorical\n",
    "\n",
    "y_train = to_categorical(ytrain, num_classes=6)\n",
    "y_test = to_categorical(ytest, num_classes=6)"
   ]
  },
  {
   "cell_type": "markdown",
   "metadata": {
    "id": "KYdgf4irDSZa"
   },
   "source": [
    "ahora podemos ver que se han convertido las etiquetas en un vector de ceros y unos. Donde se ubica el 1 corresponde al valor de la etiqueda.\n",
    "\n",
    "Si por ejemplo hacemos y_test[0], veremos que donde se ubica el 1 correspondería al valor de la calidad con que fue clasificado el vino, en este caso cuando corremos podemos identificar que la clasificación es 2 ya que se ubica en la tercera posición del vector."
   ]
  },
  {
   "cell_type": "code",
   "execution_count": 29,
   "metadata": {
    "colab": {
     "base_uri": "https://localhost:8080/"
    },
    "executionInfo": {
     "elapsed": 15,
     "status": "ok",
     "timestamp": 1644176007699,
     "user": {
      "displayName": "Juliana Amézquita",
      "photoUrl": "https://lh3.googleusercontent.com/a/default-user=s64",
      "userId": "14631385668180993508"
     },
     "user_tz": 300
    },
    "id": "mR4tENJtCWH8",
    "outputId": "0aed681a-92c2-4ecd-eb49-b5dc01cb6e07"
   },
   "outputs": [
    {
     "data": {
      "text/plain": [
       "((1087, 6), (272, 6), array([0., 0., 1., 0., 0., 0.], dtype=float32))"
      ]
     },
     "execution_count": 29,
     "metadata": {},
     "output_type": "execute_result"
    }
   ],
   "source": [
    "y_train.shape, y_test.shape, y_test[0]"
   ]
  },
  {
   "cell_type": "markdown",
   "metadata": {
    "id": "E1Ok5RbzpdiK"
   },
   "source": [
    "## Definición del modelo\n",
    "\n",
    "La red neuronal será configurada con 2 capas ocultas densamente conectadas, una capa de entrada y una de salida. Cada una de las capas ocultas tiene 15 neuronas, la capa de entrada fue configurada con 6 neuronas e igualmente la capa de salida fue configurada con 6 neuronas lo que indica que devolverá una matriz de 6 valores de probabilidad, que representan las 6 categorías o calificaciones de calidad posibles en el dataset.\n",
    "\n",
    "Para cada capa indicamos una función de activación 'softmax' utilizadas en problemas de clasificación con múltiples clases en la variable de salida, como es nuestro caso. La función 'softmax' nos devolverá un vector con la distribución de probabilidad sobre cada una de las clases de salida, es decir, nos dice qué tan probable es que la calidad del vino esté en cada una de las calificaciones entre 0 y 5. Al final para que esté correcto el vector resultante con todas las probabilidades debería sumar 1. "
   ]
  },
  {
   "cell_type": "code",
   "execution_count": 30,
   "metadata": {
    "colab": {
     "base_uri": "https://localhost:8080/"
    },
    "executionInfo": {
     "elapsed": 13,
     "status": "ok",
     "timestamp": 1644176007700,
     "user": {
      "displayName": "Juliana Amézquita",
      "photoUrl": "https://lh3.googleusercontent.com/a/default-user=s64",
      "userId": "14631385668180993508"
     },
     "user_tz": 300
    },
    "id": "wMswtPLmpgqC",
    "outputId": "a9808924-3a61-44fe-9a8e-fd199cd3e831"
   },
   "outputs": [
    {
     "name": "stdout",
     "output_type": "stream",
     "text": [
      "2.7.0\n"
     ]
    }
   ],
   "source": [
    "# Librerías a importar\n",
    "%tensorflow_version 2.x\n",
    "import tensorflow as tf\n",
    "import keras\n",
    "from keras.callbacks import ModelCheckpoint\n",
    "from keras.models import Sequential\n",
    "from keras.layers import Dense, Activation, Flatten\n",
    "\n",
    "print(tf.__version__)"
   ]
  },
  {
   "cell_type": "code",
   "execution_count": 31,
   "metadata": {
    "colab": {
     "base_uri": "https://localhost:8080/"
    },
    "executionInfo": {
     "elapsed": 2341,
     "status": "ok",
     "timestamp": 1644176010035,
     "user": {
      "displayName": "Juliana Amézquita",
      "photoUrl": "https://lh3.googleusercontent.com/a/default-user=s64",
      "userId": "14631385668180993508"
     },
     "user_tz": 300
    },
    "id": "9-fCqmNKxQ2b",
    "outputId": "63a029a6-86a9-4a6f-f8c5-2f951de6bed0"
   },
   "outputs": [
    {
     "name": "stdout",
     "output_type": "stream",
     "text": [
      "Model: \"sequential\"\n",
      "_________________________________________________________________\n",
      " Layer (type)                Output Shape              Param #   \n",
      "=================================================================\n",
      " dense (Dense)               (None, 6)                 72        \n",
      "                                                                 \n",
      " dense_1 (Dense)             (None, 15)                105       \n",
      "                                                                 \n",
      " dense_2 (Dense)             (None, 15)                240       \n",
      "                                                                 \n",
      " dense_3 (Dense)             (None, 6)                 96        \n",
      "                                                                 \n",
      "=================================================================\n",
      "Total params: 513\n",
      "Trainable params: 513\n",
      "Non-trainable params: 0\n",
      "_________________________________________________________________\n"
     ]
    }
   ],
   "source": [
    "def build_model():  \n",
    "  model = Sequential()\n",
    "  model.add(Dense(6,input_shape=[len(Xtrain.keys())]))\n",
    "  model.add(Dense(15, activation='softmax'))\n",
    "  model.add(Dense(15, activation='relu'))\n",
    "  model.add(Dense(6, activation= 'softmax'))\n",
    "  return model\n",
    "\n",
    "model = build_model()\n",
    "\n",
    "# Revisamos la arquitectura de la red\n",
    "model.summary()"
   ]
  },
  {
   "cell_type": "markdown",
   "metadata": {
    "id": "M0dDySLEMmNT"
   },
   "source": [
    "## Parada temprana\n",
    "\n",
    "Se crea una 'parada temprana' o 'early stopping' que nos ayude a prevenir el sobreajuste del modelo. Con esta función haremos que el modelo \"pare automáticamente\" en el momento en el que las métricas de la función de pérdida en los datos de entrenamiento dejen de mejorar. Esto influye directamente en el número de 'epochs', el cual nos indica el número de veces que los datos pasan por la red neuronal durante el entrenamiento (el fit) del modelo."
   ]
  },
  {
   "cell_type": "code",
   "execution_count": 32,
   "metadata": {
    "executionInfo": {
     "elapsed": 6,
     "status": "ok",
     "timestamp": 1644176010036,
     "user": {
      "displayName": "Juliana Amézquita",
      "photoUrl": "https://lh3.googleusercontent.com/a/default-user=s64",
      "userId": "14631385668180993508"
     },
     "user_tz": 300
    },
    "id": "zt3oVvc3PSfA"
   },
   "outputs": [],
   "source": [
    "early_stop = tf.keras.callbacks.EarlyStopping(monitor='val_loss', patience=10)"
   ]
  },
  {
   "cell_type": "markdown",
   "metadata": {
    "id": "BmRdgE1GJFVd"
   },
   "source": [
    "## Compile\n",
    "\n",
    "* Función de pérdida: Se utiliza la función softmax utilizada comunmente en modelos de clasificación múltiple.\n",
    "* Optimizador: Se decide utilizar el optmizador RMSprop con un ratio de aprendizaje de 0,001.\n",
    "* Métricas elegidas: Como se ha venido mencionando, dado que tenemos un dataset desbalanceado utilizamos como métricas de evaluación Precision y Recall para calcular el puntaje F1 que nos permitirá tener representación real del rendimiento del modelo. Se pone tabién la métrica 'accuracy' simplemente par hacer una comparación, pero ya se sabe que no es la métrica ideal en casos de dataset desbalanceados porque puede resultar engañosa."
   ]
  },
  {
   "cell_type": "code",
   "execution_count": 33,
   "metadata": {
    "executionInfo": {
     "elapsed": 6,
     "status": "ok",
     "timestamp": 1644176010037,
     "user": {
      "displayName": "Juliana Amézquita",
      "photoUrl": "https://lh3.googleusercontent.com/a/default-user=s64",
      "userId": "14631385668180993508"
     },
     "user_tz": 300
    },
    "id": "VgkGztcDC31X"
   },
   "outputs": [],
   "source": [
    "optimizer = tf.keras.optimizers.RMSprop(learning_rate=0.001)\n",
    "\n",
    "model.compile(loss='categorical_crossentropy',\n",
    "              optimizer= optimizer,\n",
    "              metrics=[tf.keras.metrics.Precision(),tf.keras.metrics.Recall(), 'accuracy'])"
   ]
  },
  {
   "cell_type": "markdown",
   "metadata": {
    "id": "stjupd1aLX9_"
   },
   "source": [
    "## Entrenamiento del modelo\n",
    "\n",
    "Para entrenar el modelo definimos 1000 \"epochs\", lo cual significa que los datos pasarán por la red neuronal 1000 veces durante el entrenamiento. Dado que un número muy alto de \"epochs\" puede generar sobreajuste y a futuro impedir que el modelo generalice bien frente a un conjunto de datos nuevo, en el paso anterior, se creó una parada temprana para ayudar a la red neuronal en no caer en este error. \n",
    "\n",
    "Se define un \"batch_size\" de 100, lo que significa que el modelo está dividiendo los datos en un tamaño de 100 lotes en cada iteración del entrenamiento."
   ]
  },
  {
   "cell_type": "code",
   "execution_count": 34,
   "metadata": {
    "colab": {
     "base_uri": "https://localhost:8080/"
    },
    "executionInfo": {
     "elapsed": 17098,
     "status": "ok",
     "timestamp": 1644176027130,
     "user": {
      "displayName": "Juliana Amézquita",
      "photoUrl": "https://lh3.googleusercontent.com/a/default-user=s64",
      "userId": "14631385668180993508"
     },
     "user_tz": 300
    },
    "id": "rbaV-HhaA9DM",
    "outputId": "9ad518d0-4e59-40b3-bed6-5d3f0bcdfec6"
   },
   "outputs": [
    {
     "name": "stdout",
     "output_type": "stream",
     "text": [
      "Epoch 1/1000\n",
      "9/9 - 3s - loss: 1.7886 - precision: 0.0000e+00 - recall: 0.0000e+00 - accuracy: 0.2497 - val_loss: 1.7745 - val_precision: 0.0000e+00 - val_recall: 0.0000e+00 - val_accuracy: 0.3761 - 3s/epoch - 338ms/step\n",
      "Epoch 2/1000\n",
      "9/9 - 0s - loss: 1.7651 - precision: 0.0000e+00 - recall: 0.0000e+00 - accuracy: 0.3982 - val_loss: 1.7552 - val_precision: 0.0000e+00 - val_recall: 0.0000e+00 - val_accuracy: 0.3761 - 62ms/epoch - 7ms/step\n",
      "Epoch 3/1000\n",
      "9/9 - 0s - loss: 1.7472 - precision: 0.0000e+00 - recall: 0.0000e+00 - accuracy: 0.3982 - val_loss: 1.7379 - val_precision: 0.0000e+00 - val_recall: 0.0000e+00 - val_accuracy: 0.3761 - 56ms/epoch - 6ms/step\n",
      "Epoch 4/1000\n",
      "9/9 - 0s - loss: 1.7304 - precision: 0.0000e+00 - recall: 0.0000e+00 - accuracy: 0.4085 - val_loss: 1.7214 - val_precision: 0.0000e+00 - val_recall: 0.0000e+00 - val_accuracy: 0.3761 - 56ms/epoch - 6ms/step\n",
      "Epoch 5/1000\n",
      "9/9 - 0s - loss: 1.7137 - precision: 0.0000e+00 - recall: 0.0000e+00 - accuracy: 0.4085 - val_loss: 1.7044 - val_precision: 0.0000e+00 - val_recall: 0.0000e+00 - val_accuracy: 0.4587 - 65ms/epoch - 7ms/step\n",
      "Epoch 6/1000\n",
      "9/9 - 0s - loss: 1.6967 - precision: 0.0000e+00 - recall: 0.0000e+00 - accuracy: 0.4315 - val_loss: 1.6881 - val_precision: 0.0000e+00 - val_recall: 0.0000e+00 - val_accuracy: 0.3761 - 57ms/epoch - 6ms/step\n",
      "Epoch 7/1000\n",
      "9/9 - 0s - loss: 1.6807 - precision: 0.0000e+00 - recall: 0.0000e+00 - accuracy: 0.3982 - val_loss: 1.6725 - val_precision: 0.0000e+00 - val_recall: 0.0000e+00 - val_accuracy: 0.3761 - 57ms/epoch - 6ms/step\n",
      "Epoch 8/1000\n",
      "9/9 - 0s - loss: 1.6645 - precision: 0.0000e+00 - recall: 0.0000e+00 - accuracy: 0.3982 - val_loss: 1.6564 - val_precision: 0.0000e+00 - val_recall: 0.0000e+00 - val_accuracy: 0.3761 - 59ms/epoch - 7ms/step\n",
      "Epoch 9/1000\n",
      "9/9 - 0s - loss: 1.6479 - precision: 0.0000e+00 - recall: 0.0000e+00 - accuracy: 0.3982 - val_loss: 1.6400 - val_precision: 0.0000e+00 - val_recall: 0.0000e+00 - val_accuracy: 0.3761 - 58ms/epoch - 6ms/step\n",
      "Epoch 10/1000\n",
      "9/9 - 0s - loss: 1.6307 - precision: 0.0000e+00 - recall: 0.0000e+00 - accuracy: 0.3982 - val_loss: 1.6225 - val_precision: 0.0000e+00 - val_recall: 0.0000e+00 - val_accuracy: 0.3761 - 57ms/epoch - 6ms/step\n",
      "Epoch 11/1000\n",
      "9/9 - 0s - loss: 1.6127 - precision: 0.0000e+00 - recall: 0.0000e+00 - accuracy: 0.3982 - val_loss: 1.6044 - val_precision: 0.0000e+00 - val_recall: 0.0000e+00 - val_accuracy: 0.3761 - 57ms/epoch - 6ms/step\n",
      "Epoch 12/1000\n",
      "9/9 - 0s - loss: 1.5943 - precision: 0.0000e+00 - recall: 0.0000e+00 - accuracy: 0.3982 - val_loss: 1.5862 - val_precision: 0.0000e+00 - val_recall: 0.0000e+00 - val_accuracy: 0.3761 - 58ms/epoch - 6ms/step\n",
      "Epoch 13/1000\n",
      "9/9 - 0s - loss: 1.5753 - precision: 0.0000e+00 - recall: 0.0000e+00 - accuracy: 0.3982 - val_loss: 1.5672 - val_precision: 0.0000e+00 - val_recall: 0.0000e+00 - val_accuracy: 0.3761 - 60ms/epoch - 7ms/step\n",
      "Epoch 14/1000\n",
      "9/9 - 0s - loss: 1.5559 - precision: 0.0000e+00 - recall: 0.0000e+00 - accuracy: 0.3982 - val_loss: 1.5483 - val_precision: 0.0000e+00 - val_recall: 0.0000e+00 - val_accuracy: 0.3761 - 75ms/epoch - 8ms/step\n",
      "Epoch 15/1000\n",
      "9/9 - 0s - loss: 1.5365 - precision: 0.0000e+00 - recall: 0.0000e+00 - accuracy: 0.3982 - val_loss: 1.5289 - val_precision: 0.0000e+00 - val_recall: 0.0000e+00 - val_accuracy: 0.3761 - 58ms/epoch - 6ms/step\n",
      "Epoch 16/1000\n",
      "9/9 - 0s - loss: 1.5167 - precision: 0.0000e+00 - recall: 0.0000e+00 - accuracy: 0.3982 - val_loss: 1.5093 - val_precision: 0.0000e+00 - val_recall: 0.0000e+00 - val_accuracy: 0.3761 - 57ms/epoch - 6ms/step\n",
      "Epoch 17/1000\n",
      "9/9 - 0s - loss: 1.4970 - precision: 0.0000e+00 - recall: 0.0000e+00 - accuracy: 0.3982 - val_loss: 1.4901 - val_precision: 0.0000e+00 - val_recall: 0.0000e+00 - val_accuracy: 0.3761 - 55ms/epoch - 6ms/step\n",
      "Epoch 18/1000\n",
      "9/9 - 0s - loss: 1.4776 - precision: 0.0000e+00 - recall: 0.0000e+00 - accuracy: 0.3982 - val_loss: 1.4710 - val_precision: 0.0000e+00 - val_recall: 0.0000e+00 - val_accuracy: 0.3761 - 62ms/epoch - 7ms/step\n",
      "Epoch 19/1000\n",
      "9/9 - 0s - loss: 1.4582 - precision: 0.0000e+00 - recall: 0.0000e+00 - accuracy: 0.3982 - val_loss: 1.4522 - val_precision: 0.0000e+00 - val_recall: 0.0000e+00 - val_accuracy: 0.3761 - 62ms/epoch - 7ms/step\n",
      "Epoch 20/1000\n",
      "9/9 - 0s - loss: 1.4389 - precision: 0.0000e+00 - recall: 0.0000e+00 - accuracy: 0.3982 - val_loss: 1.4333 - val_precision: 0.0000e+00 - val_recall: 0.0000e+00 - val_accuracy: 0.3761 - 60ms/epoch - 7ms/step\n",
      "Epoch 21/1000\n",
      "9/9 - 0s - loss: 1.4197 - precision: 0.0000e+00 - recall: 0.0000e+00 - accuracy: 0.3982 - val_loss: 1.4146 - val_precision: 0.0000e+00 - val_recall: 0.0000e+00 - val_accuracy: 0.3761 - 57ms/epoch - 6ms/step\n",
      "Epoch 22/1000\n",
      "9/9 - 0s - loss: 1.4009 - precision: 0.0000e+00 - recall: 0.0000e+00 - accuracy: 0.3982 - val_loss: 1.3963 - val_precision: 0.0000e+00 - val_recall: 0.0000e+00 - val_accuracy: 0.3761 - 56ms/epoch - 6ms/step\n",
      "Epoch 23/1000\n",
      "9/9 - 0s - loss: 1.3826 - precision: 0.0000e+00 - recall: 0.0000e+00 - accuracy: 0.3982 - val_loss: 1.3780 - val_precision: 0.0000e+00 - val_recall: 0.0000e+00 - val_accuracy: 0.3761 - 60ms/epoch - 7ms/step\n",
      "Epoch 24/1000\n",
      "9/9 - 0s - loss: 1.3646 - precision: 0.0000e+00 - recall: 0.0000e+00 - accuracy: 0.3982 - val_loss: 1.3611 - val_precision: 0.0000e+00 - val_recall: 0.0000e+00 - val_accuracy: 0.3761 - 57ms/epoch - 6ms/step\n",
      "Epoch 25/1000\n",
      "9/9 - 0s - loss: 1.3475 - precision: 0.0000e+00 - recall: 0.0000e+00 - accuracy: 0.3982 - val_loss: 1.3444 - val_precision: 0.0000e+00 - val_recall: 0.0000e+00 - val_accuracy: 0.3761 - 58ms/epoch - 6ms/step\n",
      "Epoch 26/1000\n",
      "9/9 - 0s - loss: 1.3313 - precision: 0.0000e+00 - recall: 0.0000e+00 - accuracy: 0.3982 - val_loss: 1.3290 - val_precision: 0.0000e+00 - val_recall: 0.0000e+00 - val_accuracy: 0.3761 - 57ms/epoch - 6ms/step\n",
      "Epoch 27/1000\n",
      "9/9 - 0s - loss: 1.3162 - precision: 0.0000e+00 - recall: 0.0000e+00 - accuracy: 0.3982 - val_loss: 1.3144 - val_precision: 0.0000e+00 - val_recall: 0.0000e+00 - val_accuracy: 0.3761 - 61ms/epoch - 7ms/step\n",
      "Epoch 28/1000\n",
      "9/9 - 0s - loss: 1.3023 - precision: 0.0000e+00 - recall: 0.0000e+00 - accuracy: 0.3982 - val_loss: 1.3012 - val_precision: 0.0000e+00 - val_recall: 0.0000e+00 - val_accuracy: 0.3761 - 60ms/epoch - 7ms/step\n",
      "Epoch 29/1000\n",
      "9/9 - 0s - loss: 1.2898 - precision: 0.0000e+00 - recall: 0.0000e+00 - accuracy: 0.3982 - val_loss: 1.2888 - val_precision: 0.0000e+00 - val_recall: 0.0000e+00 - val_accuracy: 0.3761 - 71ms/epoch - 8ms/step\n",
      "Epoch 30/1000\n",
      "9/9 - 0s - loss: 1.2784 - precision: 0.0000e+00 - recall: 0.0000e+00 - accuracy: 0.3982 - val_loss: 1.2785 - val_precision: 0.0000e+00 - val_recall: 0.0000e+00 - val_accuracy: 0.3761 - 56ms/epoch - 6ms/step\n",
      "Epoch 31/1000\n",
      "9/9 - 0s - loss: 1.2685 - precision: 0.0000e+00 - recall: 0.0000e+00 - accuracy: 0.3982 - val_loss: 1.2683 - val_precision: 0.0000e+00 - val_recall: 0.0000e+00 - val_accuracy: 0.3761 - 63ms/epoch - 7ms/step\n",
      "Epoch 32/1000\n",
      "9/9 - 0s - loss: 1.2590 - precision: 0.0000e+00 - recall: 0.0000e+00 - accuracy: 0.3982 - val_loss: 1.2590 - val_precision: 0.0000e+00 - val_recall: 0.0000e+00 - val_accuracy: 0.3761 - 56ms/epoch - 6ms/step\n",
      "Epoch 33/1000\n",
      "9/9 - 0s - loss: 1.2506 - precision: 0.0000e+00 - recall: 0.0000e+00 - accuracy: 0.3982 - val_loss: 1.2509 - val_precision: 0.0000e+00 - val_recall: 0.0000e+00 - val_accuracy: 0.3761 - 59ms/epoch - 7ms/step\n",
      "Epoch 34/1000\n",
      "9/9 - 0s - loss: 1.2434 - precision: 0.0000e+00 - recall: 0.0000e+00 - accuracy: 0.3982 - val_loss: 1.2436 - val_precision: 0.0000e+00 - val_recall: 0.0000e+00 - val_accuracy: 0.4174 - 60ms/epoch - 7ms/step\n",
      "Epoch 35/1000\n",
      "9/9 - 0s - loss: 1.2370 - precision: 0.0000e+00 - recall: 0.0000e+00 - accuracy: 0.4661 - val_loss: 1.2376 - val_precision: 0.0000e+00 - val_recall: 0.0000e+00 - val_accuracy: 0.4495 - 58ms/epoch - 6ms/step\n",
      "Epoch 36/1000\n",
      "9/9 - 0s - loss: 1.2313 - precision: 0.0000e+00 - recall: 0.0000e+00 - accuracy: 0.4868 - val_loss: 1.2320 - val_precision: 0.0000e+00 - val_recall: 0.0000e+00 - val_accuracy: 0.4771 - 55ms/epoch - 6ms/step\n",
      "Epoch 37/1000\n",
      "9/9 - 0s - loss: 1.2263 - precision: 0.0000e+00 - recall: 0.0000e+00 - accuracy: 0.4776 - val_loss: 1.2268 - val_precision: 0.0000e+00 - val_recall: 0.0000e+00 - val_accuracy: 0.5321 - 58ms/epoch - 6ms/step\n",
      "Epoch 38/1000\n",
      "9/9 - 0s - loss: 1.2219 - precision: 0.0000e+00 - recall: 0.0000e+00 - accuracy: 0.4787 - val_loss: 1.2222 - val_precision: 0.0000e+00 - val_recall: 0.0000e+00 - val_accuracy: 0.4954 - 64ms/epoch - 7ms/step\n",
      "Epoch 39/1000\n",
      "9/9 - 0s - loss: 1.2180 - precision: 0.0000e+00 - recall: 0.0000e+00 - accuracy: 0.4626 - val_loss: 1.2186 - val_precision: 0.0000e+00 - val_recall: 0.0000e+00 - val_accuracy: 0.4817 - 63ms/epoch - 7ms/step\n",
      "Epoch 40/1000\n",
      "9/9 - 0s - loss: 1.2147 - precision: 0.0000e+00 - recall: 0.0000e+00 - accuracy: 0.4661 - val_loss: 1.2157 - val_precision: 0.0000e+00 - val_recall: 0.0000e+00 - val_accuracy: 0.4817 - 62ms/epoch - 7ms/step\n",
      "Epoch 41/1000\n",
      "9/9 - 0s - loss: 1.2122 - precision: 0.0000e+00 - recall: 0.0000e+00 - accuracy: 0.4568 - val_loss: 1.2129 - val_precision: 0.0000e+00 - val_recall: 0.0000e+00 - val_accuracy: 0.4817 - 70ms/epoch - 8ms/step\n",
      "Epoch 42/1000\n",
      "9/9 - 0s - loss: 1.2094 - precision: 0.0000e+00 - recall: 0.0000e+00 - accuracy: 0.4638 - val_loss: 1.2108 - val_precision: 0.0000e+00 - val_recall: 0.0000e+00 - val_accuracy: 0.4908 - 59ms/epoch - 7ms/step\n",
      "Epoch 43/1000\n",
      "9/9 - 0s - loss: 1.2079 - precision: 0.0000e+00 - recall: 0.0000e+00 - accuracy: 0.4649 - val_loss: 1.2078 - val_precision: 0.0000e+00 - val_recall: 0.0000e+00 - val_accuracy: 0.4908 - 59ms/epoch - 7ms/step\n",
      "Epoch 44/1000\n",
      "9/9 - 0s - loss: 1.2054 - precision: 0.0000e+00 - recall: 0.0000e+00 - accuracy: 0.4672 - val_loss: 1.2053 - val_precision: 0.0000e+00 - val_recall: 0.0000e+00 - val_accuracy: 0.4679 - 69ms/epoch - 8ms/step\n",
      "Epoch 45/1000\n",
      "9/9 - 0s - loss: 1.2037 - precision: 0.0000e+00 - recall: 0.0000e+00 - accuracy: 0.4465 - val_loss: 1.2037 - val_precision: 0.0000e+00 - val_recall: 0.0000e+00 - val_accuracy: 0.4725 - 59ms/epoch - 7ms/step\n",
      "Epoch 46/1000\n",
      "9/9 - 0s - loss: 1.2019 - precision: 0.0000e+00 - recall: 0.0000e+00 - accuracy: 0.4419 - val_loss: 1.2015 - val_precision: 0.0000e+00 - val_recall: 0.0000e+00 - val_accuracy: 0.4679 - 69ms/epoch - 8ms/step\n",
      "Epoch 47/1000\n",
      "9/9 - 0s - loss: 1.2001 - precision: 0.0000e+00 - recall: 0.0000e+00 - accuracy: 0.4511 - val_loss: 1.1994 - val_precision: 0.0000e+00 - val_recall: 0.0000e+00 - val_accuracy: 0.4725 - 64ms/epoch - 7ms/step\n",
      "Epoch 48/1000\n",
      "9/9 - 0s - loss: 1.1991 - precision: 0.0000e+00 - recall: 0.0000e+00 - accuracy: 0.4442 - val_loss: 1.1982 - val_precision: 0.0000e+00 - val_recall: 0.0000e+00 - val_accuracy: 0.4771 - 59ms/epoch - 7ms/step\n",
      "Epoch 49/1000\n",
      "9/9 - 0s - loss: 1.1976 - precision: 0.0000e+00 - recall: 0.0000e+00 - accuracy: 0.4453 - val_loss: 1.1968 - val_precision: 0.0000e+00 - val_recall: 0.0000e+00 - val_accuracy: 0.4725 - 60ms/epoch - 7ms/step\n",
      "Epoch 50/1000\n",
      "9/9 - 0s - loss: 1.1962 - precision: 0.0000e+00 - recall: 0.0000e+00 - accuracy: 0.4465 - val_loss: 1.1955 - val_precision: 0.0000e+00 - val_recall: 0.0000e+00 - val_accuracy: 0.4862 - 55ms/epoch - 6ms/step\n",
      "Epoch 51/1000\n",
      "9/9 - 0s - loss: 1.1948 - precision: 0.0000e+00 - recall: 0.0000e+00 - accuracy: 0.4476 - val_loss: 1.1944 - val_precision: 0.0000e+00 - val_recall: 0.0000e+00 - val_accuracy: 0.4954 - 61ms/epoch - 7ms/step\n",
      "Epoch 52/1000\n",
      "9/9 - 0s - loss: 1.1933 - precision: 0.0000e+00 - recall: 0.0000e+00 - accuracy: 0.4557 - val_loss: 1.1924 - val_precision: 0.0000e+00 - val_recall: 0.0000e+00 - val_accuracy: 0.4771 - 57ms/epoch - 6ms/step\n",
      "Epoch 53/1000\n",
      "9/9 - 0s - loss: 1.1925 - precision: 0.0000e+00 - recall: 0.0000e+00 - accuracy: 0.4465 - val_loss: 1.1914 - val_precision: 0.0000e+00 - val_recall: 0.0000e+00 - val_accuracy: 0.4954 - 60ms/epoch - 7ms/step\n",
      "Epoch 54/1000\n",
      "9/9 - 0s - loss: 1.1913 - precision: 0.0000e+00 - recall: 0.0000e+00 - accuracy: 0.4534 - val_loss: 1.1901 - val_precision: 0.0000e+00 - val_recall: 0.0000e+00 - val_accuracy: 0.4954 - 60ms/epoch - 7ms/step\n",
      "Epoch 55/1000\n",
      "9/9 - 0s - loss: 1.1901 - precision: 0.0000e+00 - recall: 0.0000e+00 - accuracy: 0.4580 - val_loss: 1.1889 - val_precision: 0.0000e+00 - val_recall: 0.0000e+00 - val_accuracy: 0.4954 - 55ms/epoch - 6ms/step\n",
      "Epoch 56/1000\n",
      "9/9 - 0s - loss: 1.1887 - precision: 0.0000e+00 - recall: 0.0000e+00 - accuracy: 0.4614 - val_loss: 1.1868 - val_precision: 0.0000e+00 - val_recall: 0.0000e+00 - val_accuracy: 0.4725 - 62ms/epoch - 7ms/step\n",
      "Epoch 57/1000\n",
      "9/9 - 0s - loss: 1.1878 - precision: 0.0000e+00 - recall: 0.0000e+00 - accuracy: 0.4603 - val_loss: 1.1856 - val_precision: 0.0000e+00 - val_recall: 0.0000e+00 - val_accuracy: 0.4725 - 72ms/epoch - 8ms/step\n",
      "Epoch 58/1000\n",
      "9/9 - 0s - loss: 1.1870 - precision: 0.6000 - recall: 0.0035 - accuracy: 0.4499 - val_loss: 1.1852 - val_precision: 0.0000e+00 - val_recall: 0.0000e+00 - val_accuracy: 0.4954 - 63ms/epoch - 7ms/step\n",
      "Epoch 59/1000\n",
      "9/9 - 0s - loss: 1.1857 - precision: 0.0000e+00 - recall: 0.0000e+00 - accuracy: 0.4626 - val_loss: 1.1837 - val_precision: 0.0000e+00 - val_recall: 0.0000e+00 - val_accuracy: 0.4908 - 65ms/epoch - 7ms/step\n",
      "Epoch 60/1000\n",
      "9/9 - 0s - loss: 1.1846 - precision: 0.6923 - recall: 0.0207 - accuracy: 0.4603 - val_loss: 1.1829 - val_precision: 0.0000e+00 - val_recall: 0.0000e+00 - val_accuracy: 0.4954 - 54ms/epoch - 6ms/step\n",
      "Epoch 61/1000\n",
      "9/9 - 0s - loss: 1.1834 - precision: 0.6364 - recall: 0.0081 - accuracy: 0.4591 - val_loss: 1.1811 - val_precision: 0.9091 - val_recall: 0.0459 - val_accuracy: 0.4908 - 60ms/epoch - 7ms/step\n",
      "Epoch 62/1000\n",
      "9/9 - 0s - loss: 1.1829 - precision: 0.7400 - recall: 0.0426 - accuracy: 0.4580 - val_loss: 1.1798 - val_precision: 0.8750 - val_recall: 0.0642 - val_accuracy: 0.4862 - 59ms/epoch - 7ms/step\n",
      "Epoch 63/1000\n",
      "9/9 - 0s - loss: 1.1815 - precision: 0.7568 - recall: 0.0644 - accuracy: 0.4626 - val_loss: 1.1786 - val_precision: 0.7619 - val_recall: 0.0734 - val_accuracy: 0.4862 - 59ms/epoch - 7ms/step\n",
      "Epoch 64/1000\n",
      "9/9 - 0s - loss: 1.1813 - precision: 0.7412 - recall: 0.0725 - accuracy: 0.4614 - val_loss: 1.1777 - val_precision: 0.7727 - val_recall: 0.0780 - val_accuracy: 0.4908 - 71ms/epoch - 8ms/step\n",
      "Epoch 65/1000\n",
      "9/9 - 0s - loss: 1.1797 - precision: 0.7209 - recall: 0.1070 - accuracy: 0.4614 - val_loss: 1.1779 - val_precision: 0.8750 - val_recall: 0.0642 - val_accuracy: 0.4908 - 59ms/epoch - 7ms/step\n",
      "Epoch 66/1000\n",
      "9/9 - 0s - loss: 1.1791 - precision: 0.7248 - recall: 0.0909 - accuracy: 0.4730 - val_loss: 1.1766 - val_precision: 0.7619 - val_recall: 0.0734 - val_accuracy: 0.5000 - 57ms/epoch - 6ms/step\n",
      "Epoch 67/1000\n",
      "9/9 - 0s - loss: 1.1780 - precision: 0.7193 - recall: 0.0944 - accuracy: 0.4626 - val_loss: 1.1748 - val_precision: 0.7500 - val_recall: 0.0963 - val_accuracy: 0.4908 - 58ms/epoch - 6ms/step\n",
      "Epoch 68/1000\n",
      "9/9 - 0s - loss: 1.1770 - precision: 0.6899 - recall: 0.1254 - accuracy: 0.4661 - val_loss: 1.1745 - val_precision: 0.7826 - val_recall: 0.0826 - val_accuracy: 0.5000 - 56ms/epoch - 6ms/step\n",
      "Epoch 69/1000\n",
      "9/9 - 0s - loss: 1.1761 - precision: 0.7338 - recall: 0.1174 - accuracy: 0.4661 - val_loss: 1.1727 - val_precision: 0.7647 - val_recall: 0.1193 - val_accuracy: 0.4908 - 63ms/epoch - 7ms/step\n",
      "Epoch 70/1000\n",
      "9/9 - 0s - loss: 1.1754 - precision: 0.6821 - recall: 0.1358 - accuracy: 0.4649 - val_loss: 1.1719 - val_precision: 0.7647 - val_recall: 0.1193 - val_accuracy: 0.4908 - 57ms/epoch - 6ms/step\n",
      "Epoch 71/1000\n",
      "9/9 - 0s - loss: 1.1746 - precision: 0.6919 - recall: 0.1369 - accuracy: 0.4672 - val_loss: 1.1712 - val_precision: 0.7647 - val_recall: 0.1193 - val_accuracy: 0.4954 - 58ms/epoch - 6ms/step\n",
      "Epoch 72/1000\n",
      "9/9 - 0s - loss: 1.1735 - precision: 0.7048 - recall: 0.1346 - accuracy: 0.4707 - val_loss: 1.1696 - val_precision: 0.7250 - val_recall: 0.1330 - val_accuracy: 0.4862 - 58ms/epoch - 6ms/step\n",
      "Epoch 73/1000\n",
      "9/9 - 0s - loss: 1.1736 - precision: 0.6667 - recall: 0.1542 - accuracy: 0.4557 - val_loss: 1.1695 - val_precision: 0.7500 - val_recall: 0.1239 - val_accuracy: 0.5000 - 57ms/epoch - 6ms/step\n",
      "Epoch 74/1000\n",
      "9/9 - 0s - loss: 1.1725 - precision: 0.6872 - recall: 0.1415 - accuracy: 0.4649 - val_loss: 1.1686 - val_precision: 0.7436 - val_recall: 0.1330 - val_accuracy: 0.4954 - 69ms/epoch - 8ms/step\n",
      "Epoch 75/1000\n",
      "9/9 - 0s - loss: 1.1719 - precision: 0.6613 - recall: 0.1415 - accuracy: 0.4695 - val_loss: 1.1676 - val_precision: 0.7250 - val_recall: 0.1330 - val_accuracy: 0.4908 - 60ms/epoch - 7ms/step\n",
      "Epoch 76/1000\n",
      "9/9 - 0s - loss: 1.1712 - precision: 0.6599 - recall: 0.1496 - accuracy: 0.4661 - val_loss: 1.1672 - val_precision: 0.7436 - val_recall: 0.1330 - val_accuracy: 0.5000 - 58ms/epoch - 6ms/step\n",
      "Epoch 77/1000\n",
      "9/9 - 0s - loss: 1.1708 - precision: 0.6600 - recall: 0.1519 - accuracy: 0.4695 - val_loss: 1.1665 - val_precision: 0.7250 - val_recall: 0.1330 - val_accuracy: 0.5000 - 55ms/epoch - 6ms/step\n",
      "Epoch 78/1000\n",
      "9/9 - 0s - loss: 1.1695 - precision: 0.6479 - recall: 0.1588 - accuracy: 0.4684 - val_loss: 1.1677 - val_precision: 0.7647 - val_recall: 0.1193 - val_accuracy: 0.5046 - 62ms/epoch - 7ms/step\n",
      "Epoch 79/1000\n",
      "9/9 - 0s - loss: 1.1701 - precision: 0.6649 - recall: 0.1461 - accuracy: 0.4718 - val_loss: 1.1659 - val_precision: 0.7436 - val_recall: 0.1330 - val_accuracy: 0.4954 - 60ms/epoch - 7ms/step\n",
      "Epoch 80/1000\n",
      "9/9 - 0s - loss: 1.1685 - precision: 0.6649 - recall: 0.1484 - accuracy: 0.4822 - val_loss: 1.1645 - val_precision: 0.7209 - val_recall: 0.1422 - val_accuracy: 0.4954 - 57ms/epoch - 6ms/step\n",
      "Epoch 81/1000\n",
      "9/9 - 0s - loss: 1.1682 - precision: 0.6571 - recall: 0.1588 - accuracy: 0.4661 - val_loss: 1.1642 - val_precision: 0.7250 - val_recall: 0.1330 - val_accuracy: 0.4954 - 57ms/epoch - 6ms/step\n",
      "Epoch 82/1000\n",
      "9/9 - 0s - loss: 1.1682 - precision: 0.6471 - recall: 0.1646 - accuracy: 0.4730 - val_loss: 1.1647 - val_precision: 0.7436 - val_recall: 0.1330 - val_accuracy: 0.5000 - 60ms/epoch - 7ms/step\n",
      "Epoch 83/1000\n",
      "9/9 - 0s - loss: 1.1673 - precision: 0.6550 - recall: 0.1507 - accuracy: 0.4695 - val_loss: 1.1635 - val_precision: 0.7250 - val_recall: 0.1330 - val_accuracy: 0.5000 - 61ms/epoch - 7ms/step\n",
      "Epoch 84/1000\n",
      "9/9 - 0s - loss: 1.1668 - precision: 0.6524 - recall: 0.1577 - accuracy: 0.4672 - val_loss: 1.1631 - val_precision: 0.7250 - val_recall: 0.1330 - val_accuracy: 0.4908 - 66ms/epoch - 7ms/step\n",
      "Epoch 85/1000\n",
      "9/9 - 0s - loss: 1.1666 - precision: 0.6449 - recall: 0.1588 - accuracy: 0.4661 - val_loss: 1.1622 - val_precision: 0.7209 - val_recall: 0.1422 - val_accuracy: 0.5000 - 58ms/epoch - 6ms/step\n",
      "Epoch 86/1000\n",
      "9/9 - 0s - loss: 1.1657 - precision: 0.6589 - recall: 0.1623 - accuracy: 0.4730 - val_loss: 1.1610 - val_precision: 0.7292 - val_recall: 0.1606 - val_accuracy: 0.5000 - 66ms/epoch - 7ms/step\n",
      "Epoch 87/1000\n",
      "9/9 - 0s - loss: 1.1658 - precision: 0.6356 - recall: 0.1646 - accuracy: 0.4707 - val_loss: 1.1603 - val_precision: 0.7143 - val_recall: 0.1606 - val_accuracy: 0.5000 - 63ms/epoch - 7ms/step\n",
      "Epoch 88/1000\n",
      "9/9 - 0s - loss: 1.1653 - precision: 0.6410 - recall: 0.1726 - accuracy: 0.4707 - val_loss: 1.1606 - val_precision: 0.7174 - val_recall: 0.1514 - val_accuracy: 0.5046 - 55ms/epoch - 6ms/step\n",
      "Epoch 89/1000\n",
      "9/9 - 0s - loss: 1.1646 - precision: 0.6493 - recall: 0.1577 - accuracy: 0.4787 - val_loss: 1.1591 - val_precision: 0.7059 - val_recall: 0.1651 - val_accuracy: 0.4954 - 60ms/epoch - 7ms/step\n",
      "Epoch 90/1000\n",
      "9/9 - 0s - loss: 1.1651 - precision: 0.6160 - recall: 0.1864 - accuracy: 0.4707 - val_loss: 1.1592 - val_precision: 0.7143 - val_recall: 0.1606 - val_accuracy: 0.5046 - 59ms/epoch - 7ms/step\n",
      "Epoch 91/1000\n",
      "9/9 - 0s - loss: 1.1642 - precision: 0.6349 - recall: 0.1841 - accuracy: 0.4730 - val_loss: 1.1601 - val_precision: 0.7045 - val_recall: 0.1422 - val_accuracy: 0.5046 - 67ms/epoch - 7ms/step\n",
      "Epoch 92/1000\n",
      "9/9 - 0s - loss: 1.1633 - precision: 0.6558 - recall: 0.1623 - accuracy: 0.4764 - val_loss: 1.1588 - val_precision: 0.7292 - val_recall: 0.1606 - val_accuracy: 0.5046 - 65ms/epoch - 7ms/step\n",
      "Epoch 93/1000\n",
      "9/9 - 0s - loss: 1.1633 - precision: 0.6333 - recall: 0.1749 - accuracy: 0.4741 - val_loss: 1.1592 - val_precision: 0.7111 - val_recall: 0.1468 - val_accuracy: 0.5046 - 63ms/epoch - 7ms/step\n",
      "Epoch 94/1000\n",
      "9/9 - 0s - loss: 1.1634 - precision: 0.6375 - recall: 0.1761 - accuracy: 0.4741 - val_loss: 1.1584 - val_precision: 0.7292 - val_recall: 0.1606 - val_accuracy: 0.4954 - 68ms/epoch - 8ms/step\n",
      "Epoch 95/1000\n",
      "9/9 - 0s - loss: 1.1624 - precision: 0.6432 - recall: 0.1680 - accuracy: 0.4741 - val_loss: 1.1577 - val_precision: 0.7292 - val_recall: 0.1606 - val_accuracy: 0.4954 - 68ms/epoch - 8ms/step\n",
      "Epoch 96/1000\n",
      "9/9 - 0s - loss: 1.1623 - precision: 0.6417 - recall: 0.1772 - accuracy: 0.4787 - val_loss: 1.1580 - val_precision: 0.7234 - val_recall: 0.1560 - val_accuracy: 0.5046 - 60ms/epoch - 7ms/step\n",
      "Epoch 97/1000\n",
      "9/9 - 0s - loss: 1.1616 - precision: 0.6281 - recall: 0.1749 - accuracy: 0.4764 - val_loss: 1.1578 - val_precision: 0.7174 - val_recall: 0.1514 - val_accuracy: 0.5092 - 63ms/epoch - 7ms/step\n",
      "Epoch 98/1000\n",
      "9/9 - 0s - loss: 1.1614 - precision: 0.6478 - recall: 0.1715 - accuracy: 0.4810 - val_loss: 1.1564 - val_precision: 0.7000 - val_recall: 0.1606 - val_accuracy: 0.4954 - 68ms/epoch - 8ms/step\n",
      "Epoch 99/1000\n",
      "9/9 - 0s - loss: 1.1616 - precision: 0.6307 - recall: 0.1749 - accuracy: 0.4776 - val_loss: 1.1556 - val_precision: 0.7059 - val_recall: 0.1651 - val_accuracy: 0.5046 - 59ms/epoch - 7ms/step\n",
      "Epoch 100/1000\n",
      "9/9 - 0s - loss: 1.1609 - precision: 0.6389 - recall: 0.1853 - accuracy: 0.4718 - val_loss: 1.1556 - val_precision: 0.7000 - val_recall: 0.1606 - val_accuracy: 0.5000 - 59ms/epoch - 7ms/step\n",
      "Epoch 101/1000\n",
      "9/9 - 0s - loss: 1.1606 - precision: 0.6376 - recall: 0.1680 - accuracy: 0.4799 - val_loss: 1.1546 - val_precision: 0.6852 - val_recall: 0.1697 - val_accuracy: 0.5092 - 56ms/epoch - 6ms/step\n",
      "Epoch 102/1000\n",
      "9/9 - 0s - loss: 1.1606 - precision: 0.6274 - recall: 0.1899 - accuracy: 0.4741 - val_loss: 1.1555 - val_precision: 0.7143 - val_recall: 0.1606 - val_accuracy: 0.5046 - 60ms/epoch - 7ms/step\n",
      "Epoch 103/1000\n",
      "9/9 - 0s - loss: 1.1605 - precision: 0.6367 - recall: 0.1795 - accuracy: 0.4764 - val_loss: 1.1554 - val_precision: 0.7292 - val_recall: 0.1606 - val_accuracy: 0.5046 - 55ms/epoch - 6ms/step\n",
      "Epoch 104/1000\n",
      "9/9 - 0s - loss: 1.1593 - precision: 0.6376 - recall: 0.1680 - accuracy: 0.4787 - val_loss: 1.1539 - val_precision: 0.6981 - val_recall: 0.1697 - val_accuracy: 0.5046 - 66ms/epoch - 7ms/step\n",
      "Epoch 105/1000\n",
      "9/9 - 0s - loss: 1.1596 - precision: 0.6312 - recall: 0.1910 - accuracy: 0.4799 - val_loss: 1.1553 - val_precision: 0.7292 - val_recall: 0.1606 - val_accuracy: 0.5138 - 55ms/epoch - 6ms/step\n",
      "Epoch 106/1000\n",
      "9/9 - 0s - loss: 1.1592 - precision: 0.6218 - recall: 0.1703 - accuracy: 0.4730 - val_loss: 1.1546 - val_precision: 0.7143 - val_recall: 0.1606 - val_accuracy: 0.5138 - 60ms/epoch - 7ms/step\n",
      "Epoch 107/1000\n",
      "9/9 - 0s - loss: 1.1592 - precision: 0.6245 - recall: 0.1818 - accuracy: 0.4730 - val_loss: 1.1554 - val_precision: 0.7111 - val_recall: 0.1468 - val_accuracy: 0.5092 - 55ms/epoch - 6ms/step\n",
      "Epoch 108/1000\n",
      "9/9 - 0s - loss: 1.1591 - precision: 0.6460 - recall: 0.1680 - accuracy: 0.4776 - val_loss: 1.1537 - val_precision: 0.7000 - val_recall: 0.1606 - val_accuracy: 0.5092 - 57ms/epoch - 6ms/step\n",
      "Epoch 109/1000\n",
      "9/9 - 0s - loss: 1.1583 - precision: 0.6261 - recall: 0.1715 - accuracy: 0.4776 - val_loss: 1.1526 - val_precision: 0.6852 - val_recall: 0.1697 - val_accuracy: 0.5046 - 61ms/epoch - 7ms/step\n",
      "Epoch 110/1000\n",
      "9/9 - 0s - loss: 1.1581 - precision: 0.6230 - recall: 0.1807 - accuracy: 0.4764 - val_loss: 1.1522 - val_precision: 0.6852 - val_recall: 0.1697 - val_accuracy: 0.5046 - 62ms/epoch - 7ms/step\n",
      "Epoch 111/1000\n",
      "9/9 - 0s - loss: 1.1582 - precision: 0.6275 - recall: 0.1841 - accuracy: 0.4741 - val_loss: 1.1524 - val_precision: 0.6981 - val_recall: 0.1697 - val_accuracy: 0.5046 - 58ms/epoch - 6ms/step\n",
      "Epoch 112/1000\n",
      "9/9 - 0s - loss: 1.1577 - precision: 0.6199 - recall: 0.1933 - accuracy: 0.4799 - val_loss: 1.1537 - val_precision: 0.7143 - val_recall: 0.1606 - val_accuracy: 0.5092 - 56ms/epoch - 6ms/step\n",
      "Epoch 113/1000\n",
      "9/9 - 0s - loss: 1.1579 - precision: 0.6307 - recall: 0.1749 - accuracy: 0.4787 - val_loss: 1.1523 - val_precision: 0.6923 - val_recall: 0.1651 - val_accuracy: 0.5092 - 61ms/epoch - 7ms/step\n",
      "Epoch 114/1000\n",
      "9/9 - 0s - loss: 1.1575 - precision: 0.6304 - recall: 0.1864 - accuracy: 0.4764 - val_loss: 1.1522 - val_precision: 0.7059 - val_recall: 0.1651 - val_accuracy: 0.5138 - 57ms/epoch - 6ms/step\n",
      "Epoch 115/1000\n",
      "9/9 - 0s - loss: 1.1570 - precision: 0.6382 - recall: 0.1807 - accuracy: 0.4822 - val_loss: 1.1512 - val_precision: 0.6981 - val_recall: 0.1697 - val_accuracy: 0.5092 - 60ms/epoch - 7ms/step\n",
      "Epoch 116/1000\n",
      "9/9 - 0s - loss: 1.1570 - precision: 0.6123 - recall: 0.1945 - accuracy: 0.4764 - val_loss: 1.1520 - val_precision: 0.7143 - val_recall: 0.1606 - val_accuracy: 0.5092 - 59ms/epoch - 7ms/step\n",
      "Epoch 117/1000\n",
      "9/9 - 0s - loss: 1.1569 - precision: 0.6281 - recall: 0.1749 - accuracy: 0.4787 - val_loss: 1.1509 - val_precision: 0.6981 - val_recall: 0.1697 - val_accuracy: 0.5092 - 56ms/epoch - 6ms/step\n",
      "Epoch 118/1000\n",
      "9/9 - 0s - loss: 1.1564 - precision: 0.6259 - recall: 0.1945 - accuracy: 0.4776 - val_loss: 1.1523 - val_precision: 0.7143 - val_recall: 0.1606 - val_accuracy: 0.5046 - 58ms/epoch - 6ms/step\n",
      "Epoch 119/1000\n",
      "9/9 - 0s - loss: 1.1562 - precision: 0.6240 - recall: 0.1795 - accuracy: 0.4730 - val_loss: 1.1517 - val_precision: 0.7143 - val_recall: 0.1606 - val_accuracy: 0.5092 - 57ms/epoch - 6ms/step\n",
      "Epoch 120/1000\n",
      "9/9 - 0s - loss: 1.1569 - precision: 0.6189 - recall: 0.1738 - accuracy: 0.4799 - val_loss: 1.1513 - val_precision: 0.7143 - val_recall: 0.1606 - val_accuracy: 0.5138 - 69ms/epoch - 8ms/step\n",
      "Epoch 121/1000\n",
      "9/9 - 0s - loss: 1.1556 - precision: 0.6230 - recall: 0.1807 - accuracy: 0.4833 - val_loss: 1.1511 - val_precision: 0.7059 - val_recall: 0.1651 - val_accuracy: 0.5092 - 59ms/epoch - 7ms/step\n",
      "Epoch 122/1000\n",
      "9/9 - 0s - loss: 1.1560 - precision: 0.6236 - recall: 0.1887 - accuracy: 0.4787 - val_loss: 1.1506 - val_precision: 0.6923 - val_recall: 0.1651 - val_accuracy: 0.5092 - 59ms/epoch - 7ms/step\n",
      "Epoch 123/1000\n",
      "9/9 - 0s - loss: 1.1553 - precision: 0.6178 - recall: 0.1841 - accuracy: 0.4787 - val_loss: 1.1503 - val_precision: 0.6923 - val_recall: 0.1651 - val_accuracy: 0.5092 - 62ms/epoch - 7ms/step\n",
      "Epoch 124/1000\n",
      "9/9 - 0s - loss: 1.1553 - precision: 0.6176 - recall: 0.1933 - accuracy: 0.4799 - val_loss: 1.1514 - val_precision: 0.7143 - val_recall: 0.1606 - val_accuracy: 0.5138 - 59ms/epoch - 7ms/step\n",
      "Epoch 125/1000\n",
      "9/9 - 0s - loss: 1.1556 - precision: 0.6310 - recall: 0.1830 - accuracy: 0.4764 - val_loss: 1.1499 - val_precision: 0.6923 - val_recall: 0.1651 - val_accuracy: 0.5092 - 59ms/epoch - 7ms/step\n",
      "Epoch 126/1000\n",
      "9/9 - 0s - loss: 1.1554 - precision: 0.6202 - recall: 0.1841 - accuracy: 0.4799 - val_loss: 1.1495 - val_precision: 0.6981 - val_recall: 0.1697 - val_accuracy: 0.5092 - 56ms/epoch - 6ms/step\n",
      "Epoch 127/1000\n",
      "9/9 - 0s - loss: 1.1550 - precision: 0.6198 - recall: 0.1876 - accuracy: 0.4810 - val_loss: 1.1492 - val_precision: 0.6981 - val_recall: 0.1697 - val_accuracy: 0.5046 - 64ms/epoch - 7ms/step\n",
      "Epoch 128/1000\n",
      "9/9 - 0s - loss: 1.1550 - precision: 0.6208 - recall: 0.1922 - accuracy: 0.4764 - val_loss: 1.1498 - val_precision: 0.6923 - val_recall: 0.1651 - val_accuracy: 0.5138 - 58ms/epoch - 6ms/step\n",
      "Epoch 129/1000\n",
      "9/9 - 0s - loss: 1.1546 - precision: 0.6148 - recall: 0.1818 - accuracy: 0.4787 - val_loss: 1.1492 - val_precision: 0.6981 - val_recall: 0.1697 - val_accuracy: 0.5046 - 58ms/epoch - 6ms/step\n",
      "Epoch 130/1000\n",
      "9/9 - 0s - loss: 1.1544 - precision: 0.6245 - recall: 0.1818 - accuracy: 0.4810 - val_loss: 1.1481 - val_precision: 0.6909 - val_recall: 0.1743 - val_accuracy: 0.5138 - 58ms/epoch - 6ms/step\n",
      "Epoch 131/1000\n",
      "9/9 - 0s - loss: 1.1545 - precision: 0.6137 - recall: 0.1956 - accuracy: 0.4787 - val_loss: 1.1483 - val_precision: 0.6852 - val_recall: 0.1697 - val_accuracy: 0.5138 - 57ms/epoch - 6ms/step\n",
      "Epoch 132/1000\n",
      "9/9 - 0s - loss: 1.1545 - precision: 0.6268 - recall: 0.1991 - accuracy: 0.4845 - val_loss: 1.1496 - val_precision: 0.7059 - val_recall: 0.1651 - val_accuracy: 0.5229 - 57ms/epoch - 6ms/step\n",
      "Epoch 133/1000\n",
      "9/9 - 0s - loss: 1.1538 - precision: 0.6126 - recall: 0.1784 - accuracy: 0.4810 - val_loss: 1.1486 - val_precision: 0.6981 - val_recall: 0.1697 - val_accuracy: 0.5046 - 60ms/epoch - 7ms/step\n",
      "Epoch 134/1000\n",
      "9/9 - 0s - loss: 1.1537 - precision: 0.6022 - recall: 0.1899 - accuracy: 0.4845 - val_loss: 1.1503 - val_precision: 0.7143 - val_recall: 0.1606 - val_accuracy: 0.5229 - 55ms/epoch - 6ms/step\n",
      "Epoch 135/1000\n",
      "9/9 - 0s - loss: 1.1539 - precision: 0.6047 - recall: 0.1761 - accuracy: 0.4787 - val_loss: 1.1488 - val_precision: 0.6923 - val_recall: 0.1651 - val_accuracy: 0.5183 - 68ms/epoch - 8ms/step\n",
      "Epoch 136/1000\n",
      "9/9 - 0s - loss: 1.1538 - precision: 0.6115 - recall: 0.1956 - accuracy: 0.4845 - val_loss: 1.1504 - val_precision: 0.7143 - val_recall: 0.1606 - val_accuracy: 0.5229 - 62ms/epoch - 7ms/step\n",
      "Epoch 137/1000\n",
      "9/9 - 0s - loss: 1.1538 - precision: 0.6230 - recall: 0.1807 - accuracy: 0.4764 - val_loss: 1.1490 - val_precision: 0.7059 - val_recall: 0.1651 - val_accuracy: 0.5321 - 58ms/epoch - 6ms/step\n",
      "Epoch 138/1000\n",
      "9/9 - 0s - loss: 1.1540 - precision: 0.6087 - recall: 0.1933 - accuracy: 0.4822 - val_loss: 1.1494 - val_precision: 0.7059 - val_recall: 0.1651 - val_accuracy: 0.5229 - 53ms/epoch - 6ms/step\n",
      "Epoch 139/1000\n",
      "9/9 - 0s - loss: 1.1533 - precision: 0.6185 - recall: 0.1772 - accuracy: 0.4799 - val_loss: 1.1480 - val_precision: 0.6981 - val_recall: 0.1697 - val_accuracy: 0.5183 - 53ms/epoch - 6ms/step\n",
      "Epoch 140/1000\n",
      "9/9 - 0s - loss: 1.1532 - precision: 0.6081 - recall: 0.1910 - accuracy: 0.4764 - val_loss: 1.1488 - val_precision: 0.7059 - val_recall: 0.1651 - val_accuracy: 0.5229 - 61ms/epoch - 7ms/step\n",
      "Epoch 141/1000\n",
      "9/9 - 0s - loss: 1.1528 - precision: 0.6163 - recall: 0.1830 - accuracy: 0.4833 - val_loss: 1.1482 - val_precision: 0.6923 - val_recall: 0.1651 - val_accuracy: 0.5321 - 58ms/epoch - 6ms/step\n",
      "Epoch 142/1000\n",
      "9/9 - 0s - loss: 1.1531 - precision: 0.6082 - recall: 0.1876 - accuracy: 0.4833 - val_loss: 1.1478 - val_precision: 0.6923 - val_recall: 0.1651 - val_accuracy: 0.5321 - 60ms/epoch - 7ms/step\n",
      "Epoch 143/1000\n",
      "9/9 - 0s - loss: 1.1528 - precision: 0.6131 - recall: 0.1933 - accuracy: 0.4764 - val_loss: 1.1480 - val_precision: 0.7059 - val_recall: 0.1651 - val_accuracy: 0.5321 - 58ms/epoch - 6ms/step\n",
      "Epoch 144/1000\n",
      "9/9 - 0s - loss: 1.1525 - precision: 0.6154 - recall: 0.1933 - accuracy: 0.4787 - val_loss: 1.1481 - val_precision: 0.7059 - val_recall: 0.1651 - val_accuracy: 0.5321 - 57ms/epoch - 6ms/step\n",
      "Epoch 145/1000\n",
      "9/9 - 0s - loss: 1.1528 - precision: 0.6067 - recall: 0.1864 - accuracy: 0.4776 - val_loss: 1.1477 - val_precision: 0.7059 - val_recall: 0.1651 - val_accuracy: 0.5321 - 61ms/epoch - 7ms/step\n",
      "Epoch 146/1000\n",
      "9/9 - 0s - loss: 1.1523 - precision: 0.6117 - recall: 0.1922 - accuracy: 0.4856 - val_loss: 1.1493 - val_precision: 0.7000 - val_recall: 0.1606 - val_accuracy: 0.5092 - 58ms/epoch - 6ms/step\n",
      "Epoch 147/1000\n",
      "9/9 - 0s - loss: 1.1534 - precision: 0.6190 - recall: 0.1795 - accuracy: 0.4822 - val_loss: 1.1488 - val_precision: 0.7059 - val_recall: 0.1651 - val_accuracy: 0.5092 - 64ms/epoch - 7ms/step\n",
      "Epoch 148/1000\n",
      "9/9 - 0s - loss: 1.1522 - precision: 0.6098 - recall: 0.1853 - accuracy: 0.4764 - val_loss: 1.1491 - val_precision: 0.7000 - val_recall: 0.1606 - val_accuracy: 0.5092 - 54ms/epoch - 6ms/step\n",
      "Epoch 149/1000\n",
      "9/9 - 0s - loss: 1.1522 - precision: 0.6231 - recall: 0.1864 - accuracy: 0.4833 - val_loss: 1.1489 - val_precision: 0.7059 - val_recall: 0.1651 - val_accuracy: 0.5092 - 57ms/epoch - 6ms/step\n",
      "Epoch 150/1000\n",
      "9/9 - 0s - loss: 1.1520 - precision: 0.6181 - recall: 0.1807 - accuracy: 0.4822 - val_loss: 1.1477 - val_precision: 0.7059 - val_recall: 0.1651 - val_accuracy: 0.5229 - 73ms/epoch - 8ms/step\n",
      "Epoch 151/1000\n",
      "9/9 - 0s - loss: 1.1516 - precision: 0.6057 - recall: 0.1945 - accuracy: 0.4891 - val_loss: 1.1496 - val_precision: 0.6875 - val_recall: 0.1514 - val_accuracy: 0.4954 - 55ms/epoch - 6ms/step\n",
      "Epoch 152/1000\n",
      "9/9 - 0s - loss: 1.1518 - precision: 0.6122 - recall: 0.1853 - accuracy: 0.4833 - val_loss: 1.1491 - val_precision: 0.7000 - val_recall: 0.1606 - val_accuracy: 0.5092 - 52ms/epoch - 6ms/step\n",
      "Epoch 153/1000\n",
      "9/9 - 0s - loss: 1.1516 - precision: 0.6206 - recall: 0.1807 - accuracy: 0.4822 - val_loss: 1.1476 - val_precision: 0.7059 - val_recall: 0.1651 - val_accuracy: 0.5092 - 56ms/epoch - 6ms/step\n",
      "Epoch 154/1000\n",
      "9/9 - 0s - loss: 1.1517 - precision: 0.6117 - recall: 0.1922 - accuracy: 0.4810 - val_loss: 1.1486 - val_precision: 0.7059 - val_recall: 0.1651 - val_accuracy: 0.5092 - 62ms/epoch - 7ms/step\n",
      "Epoch 155/1000\n",
      "9/9 - 0s - loss: 1.1512 - precision: 0.6200 - recall: 0.1784 - accuracy: 0.4753 - val_loss: 1.1468 - val_precision: 0.6923 - val_recall: 0.1651 - val_accuracy: 0.5367 - 60ms/epoch - 7ms/step\n",
      "Epoch 156/1000\n",
      "9/9 - 0s - loss: 1.1513 - precision: 0.6151 - recall: 0.1876 - accuracy: 0.4799 - val_loss: 1.1461 - val_precision: 0.6792 - val_recall: 0.1651 - val_accuracy: 0.5413 - 61ms/epoch - 7ms/step\n",
      "Epoch 157/1000\n",
      "9/9 - 0s - loss: 1.1510 - precision: 0.6174 - recall: 0.1876 - accuracy: 0.4833 - val_loss: 1.1464 - val_precision: 0.6923 - val_recall: 0.1651 - val_accuracy: 0.5413 - 66ms/epoch - 7ms/step\n",
      "Epoch 158/1000\n",
      "9/9 - 0s - loss: 1.1509 - precision: 0.6059 - recall: 0.1876 - accuracy: 0.4822 - val_loss: 1.1459 - val_precision: 0.6792 - val_recall: 0.1651 - val_accuracy: 0.5413 - 53ms/epoch - 6ms/step\n",
      "Epoch 159/1000\n",
      "9/9 - 0s - loss: 1.1508 - precision: 0.6081 - recall: 0.1910 - accuracy: 0.4776 - val_loss: 1.1457 - val_precision: 0.6852 - val_recall: 0.1697 - val_accuracy: 0.5413 - 58ms/epoch - 6ms/step\n",
      "Epoch 160/1000\n",
      "9/9 - 0s - loss: 1.1520 - precision: 0.6162 - recall: 0.1922 - accuracy: 0.4776 - val_loss: 1.1464 - val_precision: 0.6923 - val_recall: 0.1651 - val_accuracy: 0.5229 - 58ms/epoch - 6ms/step\n",
      "Epoch 161/1000\n",
      "9/9 - 0s - loss: 1.1505 - precision: 0.6095 - recall: 0.1922 - accuracy: 0.4822 - val_loss: 1.1474 - val_precision: 0.7059 - val_recall: 0.1651 - val_accuracy: 0.5092 - 56ms/epoch - 6ms/step\n",
      "Epoch 162/1000\n",
      "9/9 - 0s - loss: 1.1507 - precision: 0.6169 - recall: 0.1853 - accuracy: 0.4833 - val_loss: 1.1470 - val_precision: 0.7059 - val_recall: 0.1651 - val_accuracy: 0.5046 - 60ms/epoch - 7ms/step\n",
      "Epoch 163/1000\n",
      "9/9 - 0s - loss: 1.1506 - precision: 0.6067 - recall: 0.1864 - accuracy: 0.4833 - val_loss: 1.1471 - val_precision: 0.7059 - val_recall: 0.1651 - val_accuracy: 0.5046 - 59ms/epoch - 7ms/step\n",
      "Epoch 164/1000\n",
      "9/9 - 0s - loss: 1.1506 - precision: 0.6105 - recall: 0.1876 - accuracy: 0.4799 - val_loss: 1.1465 - val_precision: 0.6923 - val_recall: 0.1651 - val_accuracy: 0.5092 - 57ms/epoch - 6ms/step\n",
      "Epoch 165/1000\n",
      "9/9 - 0s - loss: 1.1508 - precision: 0.6174 - recall: 0.1876 - accuracy: 0.4868 - val_loss: 1.1468 - val_precision: 0.6923 - val_recall: 0.1651 - val_accuracy: 0.5046 - 59ms/epoch - 7ms/step\n",
      "Epoch 166/1000\n",
      "9/9 - 0s - loss: 1.1500 - precision: 0.6119 - recall: 0.1887 - accuracy: 0.4833 - val_loss: 1.1468 - val_precision: 0.6923 - val_recall: 0.1651 - val_accuracy: 0.5092 - 66ms/epoch - 7ms/step\n",
      "Epoch 167/1000\n",
      "9/9 - 0s - loss: 1.1500 - precision: 0.6136 - recall: 0.1864 - accuracy: 0.4799 - val_loss: 1.1467 - val_precision: 0.6923 - val_recall: 0.1651 - val_accuracy: 0.5092 - 61ms/epoch - 7ms/step\n",
      "Epoch 168/1000\n",
      "9/9 - 0s - loss: 1.1507 - precision: 0.6174 - recall: 0.1876 - accuracy: 0.4845 - val_loss: 1.1461 - val_precision: 0.6923 - val_recall: 0.1651 - val_accuracy: 0.5183 - 67ms/epoch - 7ms/step\n",
      "Epoch 169/1000\n",
      "9/9 - 0s - loss: 1.1496 - precision: 0.6130 - recall: 0.1841 - accuracy: 0.4845 - val_loss: 1.1450 - val_precision: 0.6792 - val_recall: 0.1651 - val_accuracy: 0.5321 - 63ms/epoch - 7ms/step\n",
      "Epoch 170/1000\n",
      "9/9 - 0s - loss: 1.1499 - precision: 0.6154 - recall: 0.2025 - accuracy: 0.4891 - val_loss: 1.1470 - val_precision: 0.6923 - val_recall: 0.1651 - val_accuracy: 0.5092 - 59ms/epoch - 7ms/step\n",
      "Epoch 171/1000\n",
      "9/9 - 0s - loss: 1.1496 - precision: 0.6145 - recall: 0.1853 - accuracy: 0.4868 - val_loss: 1.1460 - val_precision: 0.6923 - val_recall: 0.1651 - val_accuracy: 0.5138 - 61ms/epoch - 7ms/step\n",
      "Epoch 172/1000\n",
      "9/9 - 0s - loss: 1.1495 - precision: 0.6165 - recall: 0.1887 - accuracy: 0.4845 - val_loss: 1.1456 - val_precision: 0.6923 - val_recall: 0.1651 - val_accuracy: 0.5229 - 58ms/epoch - 6ms/step\n",
      "Epoch 173/1000\n",
      "9/9 - 0s - loss: 1.1498 - precision: 0.6136 - recall: 0.1864 - accuracy: 0.4856 - val_loss: 1.1455 - val_precision: 0.6923 - val_recall: 0.1651 - val_accuracy: 0.5229 - 58ms/epoch - 6ms/step\n",
      "Epoch 174/1000\n",
      "9/9 - 0s - loss: 1.1498 - precision: 0.6073 - recall: 0.1922 - accuracy: 0.4879 - val_loss: 1.1457 - val_precision: 0.6923 - val_recall: 0.1651 - val_accuracy: 0.5229 - 57ms/epoch - 6ms/step\n",
      "Epoch 175/1000\n",
      "9/9 - 0s - loss: 1.1493 - precision: 0.6148 - recall: 0.1910 - accuracy: 0.4868 - val_loss: 1.1466 - val_precision: 0.6923 - val_recall: 0.1651 - val_accuracy: 0.5092 - 57ms/epoch - 6ms/step\n",
      "Epoch 176/1000\n",
      "9/9 - 0s - loss: 1.1493 - precision: 0.6171 - recall: 0.1910 - accuracy: 0.4856 - val_loss: 1.1464 - val_precision: 0.6923 - val_recall: 0.1651 - val_accuracy: 0.5092 - 61ms/epoch - 7ms/step\n",
      "Epoch 177/1000\n",
      "9/9 - 0s - loss: 1.1490 - precision: 0.6260 - recall: 0.1887 - accuracy: 0.4879 - val_loss: 1.1444 - val_precision: 0.6923 - val_recall: 0.1651 - val_accuracy: 0.5229 - 56ms/epoch - 6ms/step\n",
      "Epoch 178/1000\n",
      "9/9 - 0s - loss: 1.1493 - precision: 0.6097 - recall: 0.1887 - accuracy: 0.4822 - val_loss: 1.1448 - val_precision: 0.6923 - val_recall: 0.1651 - val_accuracy: 0.5229 - 56ms/epoch - 6ms/step\n",
      "Epoch 179/1000\n",
      "9/9 - 0s - loss: 1.1496 - precision: 0.6119 - recall: 0.1887 - accuracy: 0.4891 - val_loss: 1.1447 - val_precision: 0.6923 - val_recall: 0.1651 - val_accuracy: 0.5229 - 62ms/epoch - 7ms/step\n",
      "Epoch 180/1000\n",
      "9/9 - 0s - loss: 1.1486 - precision: 0.6171 - recall: 0.1910 - accuracy: 0.4879 - val_loss: 1.1453 - val_precision: 0.6923 - val_recall: 0.1651 - val_accuracy: 0.5275 - 57ms/epoch - 6ms/step\n",
      "Epoch 181/1000\n",
      "9/9 - 0s - loss: 1.1489 - precision: 0.6171 - recall: 0.1910 - accuracy: 0.4891 - val_loss: 1.1446 - val_precision: 0.6923 - val_recall: 0.1651 - val_accuracy: 0.5229 - 67ms/epoch - 7ms/step\n",
      "Epoch 182/1000\n",
      "9/9 - 0s - loss: 1.1489 - precision: 0.6042 - recall: 0.2002 - accuracy: 0.4868 - val_loss: 1.1466 - val_precision: 0.6863 - val_recall: 0.1606 - val_accuracy: 0.4954 - 76ms/epoch - 8ms/step\n",
      "Epoch 183/1000\n",
      "9/9 - 0s - loss: 1.1487 - precision: 0.6265 - recall: 0.1853 - accuracy: 0.4891 - val_loss: 1.1442 - val_precision: 0.6923 - val_recall: 0.1651 - val_accuracy: 0.5229 - 57ms/epoch - 6ms/step\n",
      "Epoch 184/1000\n",
      "9/9 - 0s - loss: 1.1484 - precision: 0.6095 - recall: 0.1922 - accuracy: 0.4914 - val_loss: 1.1443 - val_precision: 0.6923 - val_recall: 0.1651 - val_accuracy: 0.5229 - 71ms/epoch - 8ms/step\n",
      "Epoch 185/1000\n",
      "9/9 - 0s - loss: 1.1482 - precision: 0.6101 - recall: 0.1945 - accuracy: 0.4902 - val_loss: 1.1457 - val_precision: 0.6923 - val_recall: 0.1651 - val_accuracy: 0.5092 - 67ms/epoch - 7ms/step\n",
      "Epoch 186/1000\n",
      "9/9 - 0s - loss: 1.1484 - precision: 0.6090 - recall: 0.1864 - accuracy: 0.4879 - val_loss: 1.1453 - val_precision: 0.6923 - val_recall: 0.1651 - val_accuracy: 0.5229 - 61ms/epoch - 7ms/step\n",
      "Epoch 187/1000\n",
      "9/9 - 0s - loss: 1.1488 - precision: 0.6142 - recall: 0.1887 - accuracy: 0.4925 - val_loss: 1.1452 - val_precision: 0.6923 - val_recall: 0.1651 - val_accuracy: 0.5229 - 58ms/epoch - 6ms/step\n",
      "Epoch 188/1000\n",
      "9/9 - 0s - loss: 1.1487 - precision: 0.6255 - recall: 0.1864 - accuracy: 0.4891 - val_loss: 1.1439 - val_precision: 0.6923 - val_recall: 0.1651 - val_accuracy: 0.5183 - 55ms/epoch - 6ms/step\n",
      "Epoch 189/1000\n",
      "9/9 - 0s - loss: 1.1482 - precision: 0.6185 - recall: 0.1922 - accuracy: 0.4845 - val_loss: 1.1436 - val_precision: 0.6923 - val_recall: 0.1651 - val_accuracy: 0.5138 - 61ms/epoch - 7ms/step\n",
      "Epoch 190/1000\n",
      "9/9 - 0s - loss: 1.1484 - precision: 0.6066 - recall: 0.1899 - accuracy: 0.4902 - val_loss: 1.1436 - val_precision: 0.6923 - val_recall: 0.1651 - val_accuracy: 0.5183 - 59ms/epoch - 7ms/step\n",
      "Epoch 191/1000\n",
      "9/9 - 0s - loss: 1.1477 - precision: 0.6095 - recall: 0.1922 - accuracy: 0.4891 - val_loss: 1.1435 - val_precision: 0.6981 - val_recall: 0.1697 - val_accuracy: 0.5138 - 59ms/epoch - 7ms/step\n",
      "Epoch 192/1000\n",
      "9/9 - 0s - loss: 1.1481 - precision: 0.6142 - recall: 0.1887 - accuracy: 0.4891 - val_loss: 1.1441 - val_precision: 0.6923 - val_recall: 0.1651 - val_accuracy: 0.5275 - 54ms/epoch - 6ms/step\n",
      "Epoch 193/1000\n",
      "9/9 - 0s - loss: 1.1482 - precision: 0.6117 - recall: 0.1922 - accuracy: 0.4914 - val_loss: 1.1449 - val_precision: 0.6923 - val_recall: 0.1651 - val_accuracy: 0.5138 - 63ms/epoch - 7ms/step\n",
      "Epoch 194/1000\n",
      "9/9 - 0s - loss: 1.1478 - precision: 0.6136 - recall: 0.1864 - accuracy: 0.4914 - val_loss: 1.1442 - val_precision: 0.6923 - val_recall: 0.1651 - val_accuracy: 0.5275 - 70ms/epoch - 8ms/step\n",
      "Epoch 195/1000\n",
      "9/9 - 0s - loss: 1.1476 - precision: 0.6065 - recall: 0.1933 - accuracy: 0.4914 - val_loss: 1.1461 - val_precision: 0.6800 - val_recall: 0.1560 - val_accuracy: 0.4954 - 59ms/epoch - 7ms/step\n",
      "Epoch 196/1000\n",
      "9/9 - 0s - loss: 1.1470 - precision: 0.6160 - recall: 0.1772 - accuracy: 0.4960 - val_loss: 1.1428 - val_precision: 0.6842 - val_recall: 0.1789 - val_accuracy: 0.5138 - 64ms/epoch - 7ms/step\n",
      "Epoch 197/1000\n",
      "9/9 - 0s - loss: 1.1477 - precision: 0.6171 - recall: 0.1910 - accuracy: 0.4891 - val_loss: 1.1426 - val_precision: 0.6610 - val_recall: 0.1789 - val_accuracy: 0.5138 - 64ms/epoch - 7ms/step\n",
      "Epoch 198/1000\n",
      "9/9 - 0s - loss: 1.1476 - precision: 0.6014 - recall: 0.1979 - accuracy: 0.4948 - val_loss: 1.1446 - val_precision: 0.6923 - val_recall: 0.1651 - val_accuracy: 0.5138 - 61ms/epoch - 7ms/step\n",
      "Epoch 199/1000\n",
      "9/9 - 0s - loss: 1.1475 - precision: 0.6162 - recall: 0.1922 - accuracy: 0.4902 - val_loss: 1.1445 - val_precision: 0.6923 - val_recall: 0.1651 - val_accuracy: 0.5138 - 64ms/epoch - 7ms/step\n",
      "Epoch 200/1000\n",
      "9/9 - 0s - loss: 1.1470 - precision: 0.6148 - recall: 0.1910 - accuracy: 0.4914 - val_loss: 1.1434 - val_precision: 0.6981 - val_recall: 0.1697 - val_accuracy: 0.5229 - 62ms/epoch - 7ms/step\n",
      "Epoch 201/1000\n",
      "9/9 - 0s - loss: 1.1473 - precision: 0.6095 - recall: 0.1922 - accuracy: 0.4902 - val_loss: 1.1431 - val_precision: 0.6981 - val_recall: 0.1697 - val_accuracy: 0.5183 - 69ms/epoch - 8ms/step\n",
      "Epoch 202/1000\n",
      "9/9 - 0s - loss: 1.1473 - precision: 0.6085 - recall: 0.1968 - accuracy: 0.4879 - val_loss: 1.1443 - val_precision: 0.6923 - val_recall: 0.1651 - val_accuracy: 0.5183 - 60ms/epoch - 7ms/step\n",
      "Epoch 203/1000\n",
      "9/9 - 0s - loss: 1.1474 - precision: 0.6140 - recall: 0.1922 - accuracy: 0.4879 - val_loss: 1.1441 - val_precision: 0.6923 - val_recall: 0.1651 - val_accuracy: 0.5183 - 67ms/epoch - 7ms/step\n",
      "Epoch 204/1000\n",
      "9/9 - 0s - loss: 1.1469 - precision: 0.6123 - recall: 0.1945 - accuracy: 0.4925 - val_loss: 1.1453 - val_precision: 0.6863 - val_recall: 0.1606 - val_accuracy: 0.5000 - 60ms/epoch - 7ms/step\n",
      "Epoch 205/1000\n",
      "9/9 - 0s - loss: 1.1465 - precision: 0.6260 - recall: 0.1887 - accuracy: 0.4914 - val_loss: 1.1430 - val_precision: 0.6981 - val_recall: 0.1697 - val_accuracy: 0.5229 - 60ms/epoch - 7ms/step\n",
      "Epoch 206/1000\n",
      "9/9 - 0s - loss: 1.1466 - precision: 0.6050 - recall: 0.1956 - accuracy: 0.4948 - val_loss: 1.1445 - val_precision: 0.6923 - val_recall: 0.1651 - val_accuracy: 0.5092 - 59ms/epoch - 7ms/step\n",
      "Epoch 207/1000\n",
      "9/9 - 0s - loss: 1.1468 - precision: 0.6128 - recall: 0.1876 - accuracy: 0.4983 - val_loss: 1.1432 - val_precision: 0.6981 - val_recall: 0.1697 - val_accuracy: 0.5229 - 57ms/epoch - 6ms/step\n"
     ]
    }
   ],
   "source": [
    "history = model.fit(Xtrain, y_train, epochs=1000, batch_size = 100,\n",
    "                    validation_split = 0.2, verbose=2, callbacks=[early_stop] )"
   ]
  },
  {
   "cell_type": "markdown",
   "metadata": {
    "id": "0dtWinCmLgKG"
   },
   "source": [
    "## Evaluación del modelo"
   ]
  },
  {
   "cell_type": "code",
   "execution_count": 35,
   "metadata": {
    "colab": {
     "base_uri": "https://localhost:8080/",
     "height": 270
    },
    "executionInfo": {
     "elapsed": 27,
     "status": "ok",
     "timestamp": 1644176027130,
     "user": {
      "displayName": "Juliana Amézquita",
      "photoUrl": "https://lh3.googleusercontent.com/a/default-user=s64",
      "userId": "14631385668180993508"
     },
     "user_tz": 300
    },
    "id": "OvbEp_unLcGB",
    "outputId": "7651303f-df06-4c04-b3ab-797ba8407148"
   },
   "outputs": [
    {
     "data": {
      "text/html": [
       "\n",
       "  <div id=\"df-1d693c27-b393-4312-b0f7-540ff5da0278\">\n",
       "    <div class=\"colab-df-container\">\n",
       "      <div>\n",
       "<style scoped>\n",
       "    .dataframe tbody tr th:only-of-type {\n",
       "        vertical-align: middle;\n",
       "    }\n",
       "\n",
       "    .dataframe tbody tr th {\n",
       "        vertical-align: top;\n",
       "    }\n",
       "\n",
       "    .dataframe thead th {\n",
       "        text-align: right;\n",
       "    }\n",
       "</style>\n",
       "<table border=\"1\" class=\"dataframe\">\n",
       "  <thead>\n",
       "    <tr style=\"text-align: right;\">\n",
       "      <th></th>\n",
       "      <th>loss</th>\n",
       "      <th>precision</th>\n",
       "      <th>recall</th>\n",
       "      <th>accuracy</th>\n",
       "      <th>val_loss</th>\n",
       "      <th>val_precision</th>\n",
       "      <th>val_recall</th>\n",
       "      <th>val_accuracy</th>\n",
       "      <th>epoch</th>\n",
       "    </tr>\n",
       "  </thead>\n",
       "  <tbody>\n",
       "    <tr>\n",
       "      <th>202</th>\n",
       "      <td>1.147357</td>\n",
       "      <td>0.613971</td>\n",
       "      <td>0.192175</td>\n",
       "      <td>0.487917</td>\n",
       "      <td>1.144061</td>\n",
       "      <td>0.692308</td>\n",
       "      <td>0.165138</td>\n",
       "      <td>0.518349</td>\n",
       "      <td>202</td>\n",
       "    </tr>\n",
       "    <tr>\n",
       "      <th>203</th>\n",
       "      <td>1.146885</td>\n",
       "      <td>0.612319</td>\n",
       "      <td>0.194476</td>\n",
       "      <td>0.492520</td>\n",
       "      <td>1.145270</td>\n",
       "      <td>0.686275</td>\n",
       "      <td>0.160550</td>\n",
       "      <td>0.500000</td>\n",
       "      <td>203</td>\n",
       "    </tr>\n",
       "    <tr>\n",
       "      <th>204</th>\n",
       "      <td>1.146523</td>\n",
       "      <td>0.625954</td>\n",
       "      <td>0.188723</td>\n",
       "      <td>0.491369</td>\n",
       "      <td>1.143036</td>\n",
       "      <td>0.698113</td>\n",
       "      <td>0.169725</td>\n",
       "      <td>0.522936</td>\n",
       "      <td>204</td>\n",
       "    </tr>\n",
       "    <tr>\n",
       "      <th>205</th>\n",
       "      <td>1.146633</td>\n",
       "      <td>0.604982</td>\n",
       "      <td>0.195627</td>\n",
       "      <td>0.494822</td>\n",
       "      <td>1.144472</td>\n",
       "      <td>0.692308</td>\n",
       "      <td>0.165138</td>\n",
       "      <td>0.509174</td>\n",
       "      <td>205</td>\n",
       "    </tr>\n",
       "    <tr>\n",
       "      <th>206</th>\n",
       "      <td>1.146805</td>\n",
       "      <td>0.612782</td>\n",
       "      <td>0.187572</td>\n",
       "      <td>0.498274</td>\n",
       "      <td>1.143206</td>\n",
       "      <td>0.698113</td>\n",
       "      <td>0.169725</td>\n",
       "      <td>0.522936</td>\n",
       "      <td>206</td>\n",
       "    </tr>\n",
       "  </tbody>\n",
       "</table>\n",
       "</div>\n",
       "      <button class=\"colab-df-convert\" onclick=\"convertToInteractive('df-1d693c27-b393-4312-b0f7-540ff5da0278')\"\n",
       "              title=\"Convert this dataframe to an interactive table.\"\n",
       "              style=\"display:none;\">\n",
       "        \n",
       "  <svg xmlns=\"http://www.w3.org/2000/svg\" height=\"24px\"viewBox=\"0 0 24 24\"\n",
       "       width=\"24px\">\n",
       "    <path d=\"M0 0h24v24H0V0z\" fill=\"none\"/>\n",
       "    <path d=\"M18.56 5.44l.94 2.06.94-2.06 2.06-.94-2.06-.94-.94-2.06-.94 2.06-2.06.94zm-11 1L8.5 8.5l.94-2.06 2.06-.94-2.06-.94L8.5 2.5l-.94 2.06-2.06.94zm10 10l.94 2.06.94-2.06 2.06-.94-2.06-.94-.94-2.06-.94 2.06-2.06.94z\"/><path d=\"M17.41 7.96l-1.37-1.37c-.4-.4-.92-.59-1.43-.59-.52 0-1.04.2-1.43.59L10.3 9.45l-7.72 7.72c-.78.78-.78 2.05 0 2.83L4 21.41c.39.39.9.59 1.41.59.51 0 1.02-.2 1.41-.59l7.78-7.78 2.81-2.81c.8-.78.8-2.07 0-2.86zM5.41 20L4 18.59l7.72-7.72 1.47 1.35L5.41 20z\"/>\n",
       "  </svg>\n",
       "      </button>\n",
       "      \n",
       "  <style>\n",
       "    .colab-df-container {\n",
       "      display:flex;\n",
       "      flex-wrap:wrap;\n",
       "      gap: 12px;\n",
       "    }\n",
       "\n",
       "    .colab-df-convert {\n",
       "      background-color: #E8F0FE;\n",
       "      border: none;\n",
       "      border-radius: 50%;\n",
       "      cursor: pointer;\n",
       "      display: none;\n",
       "      fill: #1967D2;\n",
       "      height: 32px;\n",
       "      padding: 0 0 0 0;\n",
       "      width: 32px;\n",
       "    }\n",
       "\n",
       "    .colab-df-convert:hover {\n",
       "      background-color: #E2EBFA;\n",
       "      box-shadow: 0px 1px 2px rgba(60, 64, 67, 0.3), 0px 1px 3px 1px rgba(60, 64, 67, 0.15);\n",
       "      fill: #174EA6;\n",
       "    }\n",
       "\n",
       "    [theme=dark] .colab-df-convert {\n",
       "      background-color: #3B4455;\n",
       "      fill: #D2E3FC;\n",
       "    }\n",
       "\n",
       "    [theme=dark] .colab-df-convert:hover {\n",
       "      background-color: #434B5C;\n",
       "      box-shadow: 0px 1px 3px 1px rgba(0, 0, 0, 0.15);\n",
       "      filter: drop-shadow(0px 1px 2px rgba(0, 0, 0, 0.3));\n",
       "      fill: #FFFFFF;\n",
       "    }\n",
       "  </style>\n",
       "\n",
       "      <script>\n",
       "        const buttonEl =\n",
       "          document.querySelector('#df-1d693c27-b393-4312-b0f7-540ff5da0278 button.colab-df-convert');\n",
       "        buttonEl.style.display =\n",
       "          google.colab.kernel.accessAllowed ? 'block' : 'none';\n",
       "\n",
       "        async function convertToInteractive(key) {\n",
       "          const element = document.querySelector('#df-1d693c27-b393-4312-b0f7-540ff5da0278');\n",
       "          const dataTable =\n",
       "            await google.colab.kernel.invokeFunction('convertToInteractive',\n",
       "                                                     [key], {});\n",
       "          if (!dataTable) return;\n",
       "\n",
       "          const docLinkHtml = 'Like what you see? Visit the ' +\n",
       "            '<a target=\"_blank\" href=https://colab.research.google.com/notebooks/data_table.ipynb>data table notebook</a>'\n",
       "            + ' to learn more about interactive tables.';\n",
       "          element.innerHTML = '';\n",
       "          dataTable['output_type'] = 'display_data';\n",
       "          await google.colab.output.renderOutput(dataTable, element);\n",
       "          const docLink = document.createElement('div');\n",
       "          docLink.innerHTML = docLinkHtml;\n",
       "          element.appendChild(docLink);\n",
       "        }\n",
       "      </script>\n",
       "    </div>\n",
       "  </div>\n",
       "  "
      ],
      "text/plain": [
       "         loss  precision    recall  ...  val_recall  val_accuracy  epoch\n",
       "202  1.147357   0.613971  0.192175  ...    0.165138      0.518349    202\n",
       "203  1.146885   0.612319  0.194476  ...    0.160550      0.500000    203\n",
       "204  1.146523   0.625954  0.188723  ...    0.169725      0.522936    204\n",
       "205  1.146633   0.604982  0.195627  ...    0.165138      0.509174    205\n",
       "206  1.146805   0.612782  0.187572  ...    0.169725      0.522936    206\n",
       "\n",
       "[5 rows x 9 columns]"
      ]
     },
     "execution_count": 35,
     "metadata": {},
     "output_type": "execute_result"
    }
   ],
   "source": [
    "hist = pd.DataFrame(history.history)\n",
    "hist['epoch'] = history.epoch\n",
    "hist.tail()"
   ]
  },
  {
   "cell_type": "code",
   "execution_count": 36,
   "metadata": {
    "colab": {
     "base_uri": "https://localhost:8080/"
    },
    "executionInfo": {
     "elapsed": 302,
     "status": "ok",
     "timestamp": 1644176027408,
     "user": {
      "displayName": "Juliana Amézquita",
      "photoUrl": "https://lh3.googleusercontent.com/a/default-user=s64",
      "userId": "14631385668180993508"
     },
     "user_tz": 300
    },
    "id": "4ur_3LWCuc5K",
    "outputId": "62883b50-d6db-4046-e5db-a5d97f720733"
   },
   "outputs": [
    {
     "name": "stdout",
     "output_type": "stream",
     "text": [
      "9/9 [==============================] - 0s 4ms/step - loss: 1.1201 - precision: 0.7089 - recall: 0.2059 - accuracy: 0.5404\n",
      "Testing set Precision:  0.71\n",
      "Testing set Recall:  0.21\n",
      "Testing set accuracy:  0.54\n"
     ]
    }
   ],
   "source": [
    "loss, precision, recall, accuracy = model.evaluate(Xtest, y_test)\n",
    "\n",
    "print(\"Testing set Precision: {:5.2f}\".format(precision))\n",
    "print(\"Testing set Recall: {:5.2f}\".format(recall))\n",
    "print(\"Testing set accuracy: {:5.2f}\".format(accuracy))"
   ]
  },
  {
   "cell_type": "markdown",
   "metadata": {
    "id": "mGrQgkFaMkRH"
   },
   "source": [
    "Hacemos el cálculo del puntaje F1:\n",
    "\n",
    "F1 = 2 * (precision * recall) / (precision + recall)"
   ]
  },
  {
   "cell_type": "code",
   "execution_count": 42,
   "metadata": {
    "colab": {
     "base_uri": "https://localhost:8080/"
    },
    "executionInfo": {
     "elapsed": 194,
     "status": "ok",
     "timestamp": 1644176266013,
     "user": {
      "displayName": "Juliana Amézquita",
      "photoUrl": "https://lh3.googleusercontent.com/a/default-user=s64",
      "userId": "14631385668180993508"
     },
     "user_tz": 300
    },
    "id": "wDviVL2Guc8g",
    "outputId": "9adff492-8c84-440f-a0f0-02aaa2baa87f"
   },
   "outputs": [
    {
     "name": "stdout",
     "output_type": "stream",
     "text": [
      "F1_Score = 32.41 %\n"
     ]
    }
   ],
   "source": [
    "F1_Score = 2 * (0.71* 0.21) / (0.71 + 0.21)\n",
    "print('F1_Score =', round(F1_Score*100, 2),'%')"
   ]
  },
  {
   "cell_type": "markdown",
   "metadata": {
    "id": "RfsE93QAjzgO"
   },
   "source": [
    "## Predicciones"
   ]
  },
  {
   "cell_type": "code",
   "execution_count": 38,
   "metadata": {
    "executionInfo": {
     "elapsed": 1330,
     "status": "ok",
     "timestamp": 1644176028735,
     "user": {
      "displayName": "Juliana Amézquita",
      "photoUrl": "https://lh3.googleusercontent.com/a/default-user=s64",
      "userId": "14631385668180993508"
     },
     "user_tz": 300
    },
    "id": "oY1n2tRsaAcg"
   },
   "outputs": [],
   "source": [
    "# Utilizamos el método predict en los datos de entrenamiento y test\n",
    "y_train_pred = model.predict(Xtrain)\n",
    "y_test_pred = model.predict(Xtest)"
   ]
  },
  {
   "cell_type": "markdown",
   "metadata": {
    "id": "0i3HDsU2QQAI"
   },
   "source": [
    "Intentamos hacer la predicción en una muestra específica."
   ]
  },
  {
   "cell_type": "code",
   "execution_count": 39,
   "metadata": {
    "colab": {
     "base_uri": "https://localhost:8080/"
    },
    "executionInfo": {
     "elapsed": 24,
     "status": "ok",
     "timestamp": 1644176028736,
     "user": {
      "displayName": "Juliana Amézquita",
      "photoUrl": "https://lh3.googleusercontent.com/a/default-user=s64",
      "userId": "14631385668180993508"
     },
     "user_tz": 300
    },
    "id": "4fEeihEdd8Vj",
    "outputId": "7207d11f-ac11-4e0a-99e3-96e433d905d4"
   },
   "outputs": [
    {
     "name": "stdout",
     "output_type": "stream",
     "text": [
      "[0.00850377 0.03848386 0.36520365 0.44593784 0.12835698 0.01351388]\n"
     ]
    }
   ],
   "source": [
    "print(y_test_pred[15])"
   ]
  },
  {
   "cell_type": "markdown",
   "metadata": {
    "id": "MnVHfqsnQ6zJ"
   },
   "source": [
    "Revisamos cuál es el índice o posición que contiene el valor más alto para el elemento 15."
   ]
  },
  {
   "cell_type": "code",
   "execution_count": 40,
   "metadata": {
    "colab": {
     "base_uri": "https://localhost:8080/"
    },
    "executionInfo": {
     "elapsed": 23,
     "status": "ok",
     "timestamp": 1644176028737,
     "user": {
      "displayName": "Juliana Amézquita",
      "photoUrl": "https://lh3.googleusercontent.com/a/default-user=s64",
      "userId": "14631385668180993508"
     },
     "user_tz": 300
    },
    "id": "W853MlSCQk6E",
    "outputId": "9509d14d-a7dd-45f5-e499-262e6d3c54bd"
   },
   "outputs": [
    {
     "data": {
      "text/plain": [
       "3"
      ]
     },
     "execution_count": 40,
     "metadata": {},
     "output_type": "execute_result"
    }
   ],
   "source": [
    "np.argmax(y_test_pred[15])"
   ]
  },
  {
   "cell_type": "markdown",
   "metadata": {
    "id": "5gg2FGaJRNTY"
   },
   "source": [
    "Cuando corremos vemos que la posición es la 3, es decir, el modelo predice que para la observación 15 el puntaje de calidad de ese vino en particular es 3 con un 45% de probabilidad. \n",
    "\n",
    "También podemos comprobar que el resultado de la predicción es un vector cuya suma de elementos es igual a 1, lo cual permite concluir que es una predicción correcta."
   ]
  },
  {
   "cell_type": "code",
   "execution_count": 41,
   "metadata": {
    "colab": {
     "base_uri": "https://localhost:8080/"
    },
    "executionInfo": {
     "elapsed": 19,
     "status": "ok",
     "timestamp": 1644176028738,
     "user": {
      "displayName": "Juliana Amézquita",
      "photoUrl": "https://lh3.googleusercontent.com/a/default-user=s64",
      "userId": "14631385668180993508"
     },
     "user_tz": 300
    },
    "id": "35fxHCz-eejG",
    "outputId": "cb810464-9b6b-4a47-f609-79d77c91fe99"
   },
   "outputs": [
    {
     "data": {
      "text/plain": [
       "1.0"
      ]
     },
     "execution_count": 41,
     "metadata": {},
     "output_type": "execute_result"
    }
   ],
   "source": [
    "np.sum(y_test_pred[15])"
   ]
  }
 ],
 "metadata": {
  "accelerator": "GPU",
  "colab": {
   "collapsed_sections": [],
   "name": "classification_QualityWine.ipynb",
   "provenance": []
  },
  "kernelspec": {
   "display_name": "Python 3",
   "language": "python",
   "name": "python3"
  },
  "language_info": {
   "codemirror_mode": {
    "name": "ipython",
    "version": 3
   },
   "file_extension": ".py",
   "mimetype": "text/x-python",
   "name": "python",
   "nbconvert_exporter": "python",
   "pygments_lexer": "ipython3",
   "version": "3.7.6"
  }
 },
 "nbformat": 4,
 "nbformat_minor": 4
}
